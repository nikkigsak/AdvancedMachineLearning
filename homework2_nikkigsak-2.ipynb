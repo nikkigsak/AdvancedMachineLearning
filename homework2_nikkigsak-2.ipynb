{
  "nbformat": 4,
  "nbformat_minor": 0,
  "metadata": {
    "colab": {
      "name": "homework2-nikkigsak.ipynb",
      "provenance": [],
      "collapsed_sections": []
    },
    "kernelspec": {
      "display_name": "Python 3",
      "language": "python",
      "name": "python3"
    },
    "language_info": {
      "codemirror_mode": {
        "name": "ipython",
        "version": 3
      },
      "file_extension": ".py",
      "mimetype": "text/x-python",
      "name": "python",
      "nbconvert_exporter": "python",
      "pygments_lexer": "ipython3",
      "version": "3.7.5"
    }
  },
  "cells": [
    {
      "cell_type": "markdown",
      "metadata": {
        "id": "VliTV_HH-uz4"
      },
      "source": [
        "## **Set up Environment**"
      ]
    },
    {
      "cell_type": "code",
      "metadata": {
        "id": "vcg4_YNg5dr0"
      },
      "source": [
        "#install aimodelshare library\n",
        "%%capture\n",
        "! pip install aimodelshare --upgrade"
      ],
      "execution_count": 1,
      "outputs": []
    },
    {
      "cell_type": "code",
      "source": [
        "# Download and unpack data\n",
        "%%capture\n",
        "!pip install --upgrade --no-cache-dir gdown\n",
        "!gdown --id '1-Ku-fu1X9pge26ZMji_yCKQqWDWbajCV' -O \"COVID-19_Radiography_Database.zip\"\n",
        "!unzip COVID-19_Radiography_Database.zip "
      ],
      "metadata": {
        "id": "dtawiGnJou2M"
      },
      "execution_count": 2,
      "outputs": []
    },
    {
      "cell_type": "code",
      "metadata": {
        "id": "Mu2zq86HwZFU"
      },
      "source": [
        "# Load libraries and then download data\n",
        "\n",
        "import sys\n",
        "import time\n",
        "import cv2\n",
        "import numpy as np\n",
        "from matplotlib import pyplot as plt\n",
        "import tensorflow as tf\n",
        "import os\n",
        "import zipfile\n",
        "\n",
        "from skimage.transform import resize\n",
        "from sklearn.model_selection import train_test_split\n",
        "\n",
        "from tensorflow.python.keras.utils import np_utils\n",
        "from tensorflow.keras.models import Sequential, Model\n",
        "from tensorflow.keras.layers import Dense, Dropout, Flatten, Activation, BatchNormalization\n",
        "from tensorflow.python.keras.layers.convolutional import Conv2D, MaxPooling2D \n",
        "from tensorflow.keras.preprocessing.image import ImageDataGenerator\n",
        "from tensorflow.keras.optimizers import Adam,SGD,Adagrad,Adadelta,RMSprop\n",
        "from tensorflow.keras.applications import VGG19, ResNet50, InceptionV3\n"
      ],
      "execution_count": 3,
      "outputs": []
    },
    {
      "cell_type": "code",
      "metadata": {
        "colab": {
          "base_uri": "https://localhost:8080/"
        },
        "id": "dWzvKPdewbLz",
        "outputId": "2b421235-e267-4e82-b8a4-a869607cdbdc"
      },
      "source": [
        "# Extracting all filenames iteratively\n",
        "base_path = 'COVID-19 Radiography Database'\n",
        "categories = ['COVID', 'NORMAL', 'Viral Pneumonia']\n",
        "\n",
        "# load file names to fnames list object\n",
        "fnames = []\n",
        "for category in categories:\n",
        "    image_folder = os.path.join(base_path, category)\n",
        "    file_names = os.listdir(image_folder)\n",
        "    full_path = [os.path.join(image_folder, file_name) for file_name in file_names]\n",
        "    fnames.append(full_path)\n",
        "\n",
        "print('number of images for each category:', [len(f) for f in fnames])\n",
        "print(fnames[0:2]) #examples of file names"
      ],
      "execution_count": 4,
      "outputs": [
        {
          "output_type": "stream",
          "name": "stdout",
          "text": [
            "number of images for each category: [1200, 1341, 1345]\n",
            "[['COVID-19 Radiography Database/COVID/COVID (60).png', 'COVID-19 Radiography Database/COVID/COVID (98).png', 'COVID-19 Radiography Database/COVID/COVID (371).png', 'COVID-19 Radiography Database/COVID/COVID (380).png', 'COVID-19 Radiography Database/COVID/COVID (561).png', 'COVID-19 Radiography Database/COVID/COVID (140).png', 'COVID-19 Radiography Database/COVID/COVID (1194).png', 'COVID-19 Radiography Database/COVID/COVID (787).png', 'COVID-19 Radiography Database/COVID/COVID (195).png', 'COVID-19 Radiography Database/COVID/COVID (1154).png', 'COVID-19 Radiography Database/COVID/COVID (799).png', 'COVID-19 Radiography Database/COVID/COVID (766).png', 'COVID-19 Radiography Database/COVID/COVID (530).png', 'COVID-19 Radiography Database/COVID/COVID (224).png', 'COVID-19 Radiography Database/COVID/COVID (750).png', 'COVID-19 Radiography Database/COVID/COVID (677).png', 'COVID-19 Radiography Database/COVID/COVID (867).png', 'COVID-19 Radiography Database/COVID/COVID (701).png', 'COVID-19 Radiography Database/COVID/COVID (108).png', 'COVID-19 Radiography Database/COVID/COVID (315).png', 'COVID-19 Radiography Database/COVID/COVID (324).png', 'COVID-19 Radiography Database/COVID/COVID (119).png', 'COVID-19 Radiography Database/COVID/COVID (233).png', 'COVID-19 Radiography Database/COVID/COVID (1006).png', 'COVID-19 Radiography Database/COVID/COVID (270).png', 'COVID-19 Radiography Database/COVID/COVID (123).png', 'COVID-19 Radiography Database/COVID/COVID (188).png', 'COVID-19 Radiography Database/COVID/COVID (902).png', 'COVID-19 Radiography Database/COVID/COVID (430).png', 'COVID-19 Radiography Database/COVID/COVID (1130).png', 'COVID-19 Radiography Database/COVID/COVID (456).png', 'COVID-19 Radiography Database/COVID/COVID (393).png', 'COVID-19 Radiography Database/COVID/COVID (624).png', 'COVID-19 Radiography Database/COVID/COVID (446).png', 'COVID-19 Radiography Database/COVID/COVID (362).png', 'COVID-19 Radiography Database/COVID/COVID (537).png', 'COVID-19 Radiography Database/COVID/COVID (1142).png', 'COVID-19 Radiography Database/COVID/COVID (454).png', 'COVID-19 Radiography Database/COVID/COVID (506).png', 'COVID-19 Radiography Database/COVID/COVID (203).png', 'COVID-19 Radiography Database/COVID/COVID (937).png', 'COVID-19 Radiography Database/COVID/COVID (638).png', 'COVID-19 Radiography Database/COVID/COVID (950).png', 'COVID-19 Radiography Database/COVID/COVID (262).png', 'COVID-19 Radiography Database/COVID/COVID (398).png', 'COVID-19 Radiography Database/COVID/COVID (889).png', 'COVID-19 Radiography Database/COVID/COVID (1001).png', 'COVID-19 Radiography Database/COVID/COVID (533).png', 'COVID-19 Radiography Database/COVID/COVID (703).png', 'COVID-19 Radiography Database/COVID/COVID (290).png', 'COVID-19 Radiography Database/COVID/COVID (471).png', 'COVID-19 Radiography Database/COVID/COVID (747).png', 'COVID-19 Radiography Database/COVID/COVID (1018).png', 'COVID-19 Radiography Database/COVID/COVID (519).png', 'COVID-19 Radiography Database/COVID/COVID (491).png', 'COVID-19 Radiography Database/COVID/COVID (543).png', 'COVID-19 Radiography Database/COVID/COVID (564).png', 'COVID-19 Radiography Database/COVID/COVID (1138).png', 'COVID-19 Radiography Database/COVID/COVID (597).png', 'COVID-19 Radiography Database/COVID/COVID (1132).png', 'COVID-19 Radiography Database/COVID/COVID (419).png', 'COVID-19 Radiography Database/COVID/COVID (9).png', 'COVID-19 Radiography Database/COVID/COVID (189).png', 'COVID-19 Radiography Database/COVID/COVID (176).png', 'COVID-19 Radiography Database/COVID/COVID (106).png', 'COVID-19 Radiography Database/COVID/COVID (1181).png', 'COVID-19 Radiography Database/COVID/COVID (594).png', 'COVID-19 Radiography Database/COVID/COVID (120).png', 'COVID-19 Radiography Database/COVID/COVID (243).png', 'COVID-19 Radiography Database/COVID/COVID (846).png', 'COVID-19 Radiography Database/COVID/COVID (825).png', 'COVID-19 Radiography Database/COVID/COVID (274).png', 'COVID-19 Radiography Database/COVID/COVID (724).png', 'COVID-19 Radiography Database/COVID/COVID (87).png', 'COVID-19 Radiography Database/COVID/COVID (980).png', 'COVID-19 Radiography Database/COVID/COVID (990).png', 'COVID-19 Radiography Database/COVID/COVID (257).png', 'COVID-19 Radiography Database/COVID/COVID (389).png', 'COVID-19 Radiography Database/COVID/COVID (2).png', 'COVID-19 Radiography Database/COVID/COVID (52).png', 'COVID-19 Radiography Database/COVID/COVID (487).png', 'COVID-19 Radiography Database/COVID/COVID (1058).png', 'COVID-19 Radiography Database/COVID/COVID (557).png', 'COVID-19 Radiography Database/COVID/COVID (712).png', 'COVID-19 Radiography Database/COVID/COVID (621).png', 'COVID-19 Radiography Database/COVID/COVID (1168).png', 'COVID-19 Radiography Database/COVID/COVID (215).png', 'COVID-19 Radiography Database/COVID/COVID (944).png', 'COVID-19 Radiography Database/COVID/COVID (917).png', 'COVID-19 Radiography Database/COVID/COVID (709).png', 'COVID-19 Radiography Database/COVID/COVID (674).png', 'COVID-19 Radiography Database/COVID/COVID (534).png', 'COVID-19 Radiography Database/COVID/COVID (1115).png', 'COVID-19 Radiography Database/COVID/COVID (827).png', 'COVID-19 Radiography Database/COVID/COVID (1057).png', 'COVID-19 Radiography Database/COVID/COVID (525).png', 'COVID-19 Radiography Database/COVID/COVID (957).png', 'COVID-19 Radiography Database/COVID/COVID (1186).png', 'COVID-19 Radiography Database/COVID/COVID (547).png', 'COVID-19 Radiography Database/COVID/COVID (1116).png', 'COVID-19 Radiography Database/COVID/COVID (349).png', 'COVID-19 Radiography Database/COVID/COVID (760).png', 'COVID-19 Radiography Database/COVID/COVID (864).png', 'COVID-19 Radiography Database/COVID/COVID (835).png', 'COVID-19 Radiography Database/COVID/COVID (527).png', 'COVID-19 Radiography Database/COVID/COVID (823).png', 'COVID-19 Radiography Database/COVID/COVID (128).png', 'COVID-19 Radiography Database/COVID/COVID (3).png', 'COVID-19 Radiography Database/COVID/COVID (809).png', 'COVID-19 Radiography Database/COVID/COVID (226).png', 'COVID-19 Radiography Database/COVID/COVID (253).png', 'COVID-19 Radiography Database/COVID/COVID (7).png', 'COVID-19 Radiography Database/COVID/COVID (1191).png', 'COVID-19 Radiography Database/COVID/COVID (354).png', 'COVID-19 Radiography Database/COVID/COVID (681).png', 'COVID-19 Radiography Database/COVID/COVID (651).png', 'COVID-19 Radiography Database/COVID/COVID (614).png', 'COVID-19 Radiography Database/COVID/COVID (769).png', 'COVID-19 Radiography Database/COVID/COVID (788).png', 'COVID-19 Radiography Database/COVID/COVID (815).png', 'COVID-19 Radiography Database/COVID/COVID (15).png', 'COVID-19 Radiography Database/COVID/COVID (574).png', 'COVID-19 Radiography Database/COVID/COVID (730).png', 'COVID-19 Radiography Database/COVID/COVID (199).png', 'COVID-19 Radiography Database/COVID/COVID (901).png', 'COVID-19 Radiography Database/COVID/COVID (678).png', 'COVID-19 Radiography Database/COVID/COVID (657).png', 'COVID-19 Radiography Database/COVID/COVID (843).png', 'COVID-19 Radiography Database/COVID/COVID (75).png', 'COVID-19 Radiography Database/COVID/COVID (936).png', 'COVID-19 Radiography Database/COVID/COVID (151).png', 'COVID-19 Radiography Database/COVID/COVID (855).png', 'COVID-19 Radiography Database/COVID/COVID (587).png', 'COVID-19 Radiography Database/COVID/COVID (172).png', 'COVID-19 Radiography Database/COVID/COVID (198).png', 'COVID-19 Radiography Database/COVID/COVID (933).png', 'COVID-19 Radiography Database/COVID/COVID (285).png', 'COVID-19 Radiography Database/COVID/COVID (1198).png', 'COVID-19 Radiography Database/COVID/COVID (386).png', 'COVID-19 Radiography Database/COVID/COVID (268).png', 'COVID-19 Radiography Database/COVID/COVID (1099).png', 'COVID-19 Radiography Database/COVID/COVID (1175).png', 'COVID-19 Radiography Database/COVID/COVID (180).png', 'COVID-19 Radiography Database/COVID/COVID (457).png', 'COVID-19 Radiography Database/COVID/COVID (121).png', 'COVID-19 Radiography Database/COVID/COVID (523).png', 'COVID-19 Radiography Database/COVID/COVID (909).png', 'COVID-19 Radiography Database/COVID/COVID (133).png', 'COVID-19 Radiography Database/COVID/COVID (988).png', 'COVID-19 Radiography Database/COVID/COVID (476).png', 'COVID-19 Radiography Database/COVID/COVID (113).png', 'COVID-19 Radiography Database/COVID/COVID (167).png', 'COVID-19 Radiography Database/COVID/COVID (888).png', 'COVID-19 Radiography Database/COVID/COVID (645).png', 'COVID-19 Radiography Database/COVID/COVID (1027).png', 'COVID-19 Radiography Database/COVID/COVID (967).png', 'COVID-19 Radiography Database/COVID/COVID (475).png', 'COVID-19 Radiography Database/COVID/COVID (366).png', 'COVID-19 Radiography Database/COVID/COVID (1156).png', 'COVID-19 Radiography Database/COVID/COVID (444).png', 'COVID-19 Radiography Database/COVID/COVID (1082).png', 'COVID-19 Radiography Database/COVID/COVID (164).png', 'COVID-19 Radiography Database/COVID/COVID (963).png', 'COVID-19 Radiography Database/COVID/COVID (329).png', 'COVID-19 Radiography Database/COVID/COVID (686).png', 'COVID-19 Radiography Database/COVID/COVID (42).png', 'COVID-19 Radiography Database/COVID/COVID (415).png', 'COVID-19 Radiography Database/COVID/COVID (663).png', 'COVID-19 Radiography Database/COVID/COVID (570).png', 'COVID-19 Radiography Database/COVID/COVID (25).png', 'COVID-19 Radiography Database/COVID/COVID (210).png', 'COVID-19 Radiography Database/COVID/COVID (84).png', 'COVID-19 Radiography Database/COVID/COVID (538).png', 'COVID-19 Radiography Database/COVID/COVID (699).png', 'COVID-19 Radiography Database/COVID/COVID (550).png', 'COVID-19 Radiography Database/COVID/COVID (359).png', 'COVID-19 Radiography Database/COVID/COVID (78).png', 'COVID-19 Radiography Database/COVID/COVID (383).png', 'COVID-19 Radiography Database/COVID/COVID (945).png', 'COVID-19 Radiography Database/COVID/COVID (1054).png', 'COVID-19 Radiography Database/COVID/COVID (671).png', 'COVID-19 Radiography Database/COVID/COVID (962).png', 'COVID-19 Radiography Database/COVID/COVID (781).png', 'COVID-19 Radiography Database/COVID/COVID (578).png', 'COVID-19 Radiography Database/COVID/COVID (1062).png', 'COVID-19 Radiography Database/COVID/COVID (304).png', 'COVID-19 Radiography Database/COVID/COVID (566).png', 'COVID-19 Radiography Database/COVID/COVID (928).png', 'COVID-19 Radiography Database/COVID/COVID (1124).png', 'COVID-19 Radiography Database/COVID/COVID (92).png', 'COVID-19 Radiography Database/COVID/COVID (971).png', 'COVID-19 Radiography Database/COVID/COVID (81).png', 'COVID-19 Radiography Database/COVID/COVID (258).png', 'COVID-19 Radiography Database/COVID/COVID (466).png', 'COVID-19 Radiography Database/COVID/COVID (632).png', 'COVID-19 Radiography Database/COVID/COVID (109).png', 'COVID-19 Radiography Database/COVID/COVID (1177).png', 'COVID-19 Radiography Database/COVID/COVID (790).png', 'COVID-19 Radiography Database/COVID/COVID (90).png', 'COVID-19 Radiography Database/COVID/COVID (292).png', 'COVID-19 Radiography Database/COVID/COVID (630).png', 'COVID-19 Radiography Database/COVID/COVID (1089).png', 'COVID-19 Radiography Database/COVID/COVID (239).png', 'COVID-19 Radiography Database/COVID/COVID (76).png', 'COVID-19 Radiography Database/COVID/COVID (876).png', 'COVID-19 Radiography Database/COVID/COVID (883).png', 'COVID-19 Radiography Database/COVID/COVID (1107).png', 'COVID-19 Radiography Database/COVID/COVID (1180).png', 'COVID-19 Radiography Database/COVID/COVID (5).png', 'COVID-19 Radiography Database/COVID/COVID (343).png', 'COVID-19 Radiography Database/COVID/COVID (1046).png', 'COVID-19 Radiography Database/COVID/COVID (1171).png', 'COVID-19 Radiography Database/COVID/COVID (1049).png', 'COVID-19 Radiography Database/COVID/COVID (637).png', 'COVID-19 Radiography Database/COVID/COVID (4).png', 'COVID-19 Radiography Database/COVID/COVID (1087).png', 'COVID-19 Radiography Database/COVID/COVID (898).png', 'COVID-19 Radiography Database/COVID/COVID (468).png', 'COVID-19 Radiography Database/COVID/COVID (193).png', 'COVID-19 Radiography Database/COVID/COVID (95).png', 'COVID-19 Radiography Database/COVID/COVID (946).png', 'COVID-19 Radiography Database/COVID/COVID (994).png', 'COVID-19 Radiography Database/COVID/COVID (915).png', 'COVID-19 Radiography Database/COVID/COVID (1034).png', 'COVID-19 Radiography Database/COVID/COVID (903).png', 'COVID-19 Radiography Database/COVID/COVID (492).png', 'COVID-19 Radiography Database/COVID/COVID (756).png', 'COVID-19 Radiography Database/COVID/COVID (905).png', 'COVID-19 Radiography Database/COVID/COVID (515).png', 'COVID-19 Radiography Database/COVID/COVID (690).png', 'COVID-19 Radiography Database/COVID/COVID (352).png', 'COVID-19 Radiography Database/COVID/COVID (50).png', 'COVID-19 Radiography Database/COVID/COVID (546).png', 'COVID-19 Radiography Database/COVID/COVID (249).png', 'COVID-19 Radiography Database/COVID/COVID (997).png', 'COVID-19 Radiography Database/COVID/COVID (405).png', 'COVID-19 Radiography Database/COVID/COVID (1026).png', 'COVID-19 Radiography Database/COVID/COVID (421).png', 'COVID-19 Radiography Database/COVID/COVID (800).png', 'COVID-19 Radiography Database/COVID/COVID (929).png', 'COVID-19 Radiography Database/COVID/COVID (1172).png', 'COVID-19 Radiography Database/COVID/COVID (955).png', 'COVID-19 Radiography Database/COVID/COVID (1109).png', 'COVID-19 Radiography Database/COVID/COVID (228).png', 'COVID-19 Radiography Database/COVID/COVID (1102).png', 'COVID-19 Radiography Database/COVID/COVID (458).png', 'COVID-19 Radiography Database/COVID/COVID (242).png', 'COVID-19 Radiography Database/COVID/COVID (670).png', 'COVID-19 Radiography Database/COVID/COVID (340).png', 'COVID-19 Radiography Database/COVID/COVID (765).png', 'COVID-19 Radiography Database/COVID/COVID (860).png', 'COVID-19 Radiography Database/COVID/COVID (693).png', 'COVID-19 Radiography Database/COVID/COVID (878).png', 'COVID-19 Radiography Database/COVID/COVID (1009).png', 'COVID-19 Radiography Database/COVID/COVID (353).png', 'COVID-19 Radiography Database/COVID/COVID (313).png', 'COVID-19 Radiography Database/COVID/COVID (1179).png', 'COVID-19 Radiography Database/COVID/COVID (219).png', 'COVID-19 Radiography Database/COVID/COVID (655).png', 'COVID-19 Radiography Database/COVID/COVID (654).png', 'COVID-19 Radiography Database/COVID/COVID (434).png', 'COVID-19 Radiography Database/COVID/COVID (785).png', 'COVID-19 Radiography Database/COVID/COVID (576).png', 'COVID-19 Radiography Database/COVID/COVID (372).png', 'COVID-19 Radiography Database/COVID/COVID (922).png', 'COVID-19 Radiography Database/COVID/COVID (493).png', 'COVID-19 Radiography Database/COVID/COVID (976).png', 'COVID-19 Radiography Database/COVID/COVID (542).png', 'COVID-19 Radiography Database/COVID/COVID (1052).png', 'COVID-19 Radiography Database/COVID/COVID (874).png', 'COVID-19 Radiography Database/COVID/COVID (559).png', 'COVID-19 Radiography Database/COVID/COVID (396).png', 'COVID-19 Radiography Database/COVID/COVID (190).png', 'COVID-19 Radiography Database/COVID/COVID (365).png', 'COVID-19 Radiography Database/COVID/COVID (337).png', 'COVID-19 Radiography Database/COVID/COVID (407).png', 'COVID-19 Radiography Database/COVID/COVID (1134).png', 'COVID-19 Radiography Database/COVID/COVID (214).png', 'COVID-19 Radiography Database/COVID/COVID (661).png', 'COVID-19 Radiography Database/COVID/COVID (722).png', 'COVID-19 Radiography Database/COVID/COVID (1011).png', 'COVID-19 Radiography Database/COVID/COVID (565).png', 'COVID-19 Radiography Database/COVID/COVID (539).png', 'COVID-19 Radiography Database/COVID/COVID (687).png', 'COVID-19 Radiography Database/COVID/COVID (513).png', 'COVID-19 Radiography Database/COVID/COVID (254).png', 'COVID-19 Radiography Database/COVID/COVID (186).png', 'COVID-19 Radiography Database/COVID/COVID (1091).png', 'COVID-19 Radiography Database/COVID/COVID (447).png', 'COVID-19 Radiography Database/COVID/COVID (41).png', 'COVID-19 Radiography Database/COVID/COVID (43).png', 'COVID-19 Radiography Database/COVID/COVID (1007).png', 'COVID-19 Radiography Database/COVID/COVID (544).png', 'COVID-19 Radiography Database/COVID/COVID (605).png', 'COVID-19 Radiography Database/COVID/COVID (1192).png', 'COVID-19 Radiography Database/COVID/COVID (201).png', 'COVID-19 Radiography Database/COVID/COVID (465).png', 'COVID-19 Radiography Database/COVID/COVID (66).png', 'COVID-19 Radiography Database/COVID/COVID (861).png', 'COVID-19 Radiography Database/COVID/COVID (47).png', 'COVID-19 Radiography Database/COVID/COVID (432).png', 'COVID-19 Radiography Database/COVID/COVID (85).png', 'COVID-19 Radiography Database/COVID/COVID (1106).png', 'COVID-19 Radiography Database/COVID/COVID (379).png', 'COVID-19 Radiography Database/COVID/COVID (659).png', 'COVID-19 Radiography Database/COVID/COVID (743).png', 'COVID-19 Radiography Database/COVID/COVID (548).png', 'COVID-19 Radiography Database/COVID/COVID (620).png', 'COVID-19 Radiography Database/COVID/COVID (341).png', 'COVID-19 Radiography Database/COVID/COVID (707).png', 'COVID-19 Radiography Database/COVID/COVID (1162).png', 'COVID-19 Radiography Database/COVID/COVID (970).png', 'COVID-19 Radiography Database/COVID/COVID (479).png', 'COVID-19 Radiography Database/COVID/COVID (540).png', 'COVID-19 Radiography Database/COVID/COVID (745).png', 'COVID-19 Radiography Database/COVID/COVID (713).png', 'COVID-19 Radiography Database/COVID/COVID (979).png', 'COVID-19 Radiography Database/COVID/COVID (455).png', 'COVID-19 Radiography Database/COVID/COVID (851).png', 'COVID-19 Radiography Database/COVID/COVID (104).png', 'COVID-19 Radiography Database/COVID/COVID (8).png', 'COVID-19 Radiography Database/COVID/COVID (704).png', 'COVID-19 Radiography Database/COVID/COVID (134).png', 'COVID-19 Radiography Database/COVID/COVID (462).png', 'COVID-19 Radiography Database/COVID/COVID (46).png', 'COVID-19 Radiography Database/COVID/COVID (989).png', 'COVID-19 Radiography Database/COVID/COVID (381).png', 'COVID-19 Radiography Database/COVID/COVID (744).png', 'COVID-19 Radiography Database/COVID/COVID (294).png', 'COVID-19 Radiography Database/COVID/COVID (554).png', 'COVID-19 Radiography Database/COVID/COVID (746).png', 'COVID-19 Radiography Database/COVID/COVID (718).png', 'COVID-19 Radiography Database/COVID/COVID (338).png', 'COVID-19 Radiography Database/COVID/COVID (585).png', 'COVID-19 Radiography Database/COVID/COVID (1036).png', 'COVID-19 Radiography Database/COVID/COVID (794).png', 'COVID-19 Radiography Database/COVID/COVID (1098).png', 'COVID-19 Radiography Database/COVID/COVID (762).png', 'COVID-19 Radiography Database/COVID/COVID (124).png', 'COVID-19 Radiography Database/COVID/COVID (279).png', 'COVID-19 Radiography Database/COVID/COVID (488).png', 'COVID-19 Radiography Database/COVID/COVID (499).png', 'COVID-19 Radiography Database/COVID/COVID (612).png', 'COVID-19 Radiography Database/COVID/COVID (232).png', 'COVID-19 Radiography Database/COVID/COVID (772).png', 'COVID-19 Radiography Database/COVID/COVID (891).png', 'COVID-19 Radiography Database/COVID/COVID (358).png', 'COVID-19 Radiography Database/COVID/COVID (1039).png', 'COVID-19 Radiography Database/COVID/COVID (135).png', 'COVID-19 Radiography Database/COVID/COVID (636).png', 'COVID-19 Radiography Database/COVID/COVID (551).png', 'COVID-19 Radiography Database/COVID/COVID (673).png', 'COVID-19 Radiography Database/COVID/COVID (502).png', 'COVID-19 Radiography Database/COVID/COVID (34).png', 'COVID-19 Radiography Database/COVID/COVID (469).png', 'COVID-19 Radiography Database/COVID/COVID (500).png', 'COVID-19 Radiography Database/COVID/COVID (1010).png', 'COVID-19 Radiography Database/COVID/COVID (939).png', 'COVID-19 Radiography Database/COVID/COVID (642).png', 'COVID-19 Radiography Database/COVID/COVID (94).png', 'COVID-19 Radiography Database/COVID/COVID (263).png', 'COVID-19 Radiography Database/COVID/COVID (376).png', 'COVID-19 Radiography Database/COVID/COVID (652).png', 'COVID-19 Radiography Database/COVID/COVID (1059).png', 'COVID-19 Radiography Database/COVID/COVID (1200).png', 'COVID-19 Radiography Database/COVID/COVID (884).png', 'COVID-19 Radiography Database/COVID/COVID (656).png', 'COVID-19 Radiography Database/COVID/COVID (299).png', 'COVID-19 Radiography Database/COVID/COVID (1188).png', 'COVID-19 Radiography Database/COVID/COVID (791).png', 'COVID-19 Radiography Database/COVID/COVID (1146).png', 'COVID-19 Radiography Database/COVID/COVID (336).png', 'COVID-19 Radiography Database/COVID/COVID (19).png', 'COVID-19 Radiography Database/COVID/COVID (1053).png', 'COVID-19 Radiography Database/COVID/COVID (146).png', 'COVID-19 Radiography Database/COVID/COVID (507).png', 'COVID-19 Radiography Database/COVID/COVID (221).png', 'COVID-19 Radiography Database/COVID/COVID (150).png', 'COVID-19 Radiography Database/COVID/COVID (301).png', 'COVID-19 Radiography Database/COVID/COVID (714).png', 'COVID-19 Radiography Database/COVID/COVID (490).png', 'COVID-19 Radiography Database/COVID/COVID (752).png', 'COVID-19 Radiography Database/COVID/COVID (1080).png', 'COVID-19 Radiography Database/COVID/COVID (356).png', 'COVID-19 Radiography Database/COVID/COVID (918).png', 'COVID-19 Radiography Database/COVID/COVID (209).png', 'COVID-19 Radiography Database/COVID/COVID (424).png', 'COVID-19 Radiography Database/COVID/COVID (529).png', 'COVID-19 Radiography Database/COVID/COVID (17).png', 'COVID-19 Radiography Database/COVID/COVID (423).png', 'COVID-19 Radiography Database/COVID/COVID (987).png', 'COVID-19 Radiography Database/COVID/COVID (31).png', 'COVID-19 Radiography Database/COVID/COVID (160).png', 'COVID-19 Radiography Database/COVID/COVID (1075).png', 'COVID-19 Radiography Database/COVID/COVID (156).png', 'COVID-19 Radiography Database/COVID/COVID (298).png', 'COVID-19 Radiography Database/COVID/COVID (494).png', 'COVID-19 Radiography Database/COVID/COVID (473).png', 'COVID-19 Radiography Database/COVID/COVID (481).png', 'COVID-19 Radiography Database/COVID/COVID (245).png', 'COVID-19 Radiography Database/COVID/COVID (414).png', 'COVID-19 Radiography Database/COVID/COVID (954).png', 'COVID-19 Radiography Database/COVID/COVID (1033).png', 'COVID-19 Radiography Database/COVID/COVID (1164).png', 'COVID-19 Radiography Database/COVID/COVID (935).png', 'COVID-19 Radiography Database/COVID/COVID (904).png', 'COVID-19 Radiography Database/COVID/COVID (155).png', 'COVID-19 Radiography Database/COVID/COVID (808).png', 'COVID-19 Radiography Database/COVID/COVID (212).png', 'COVID-19 Radiography Database/COVID/COVID (163).png', 'COVID-19 Radiography Database/COVID/COVID (665).png', 'COVID-19 Radiography Database/COVID/COVID (839).png', 'COVID-19 Radiography Database/COVID/COVID (696).png', 'COVID-19 Radiography Database/COVID/COVID (877).png', 'COVID-19 Radiography Database/COVID/COVID (474).png', 'COVID-19 Radiography Database/COVID/COVID (797).png', 'COVID-19 Radiography Database/COVID/COVID (323).png', 'COVID-19 Radiography Database/COVID/COVID (486).png', 'COVID-19 Radiography Database/COVID/COVID (33).png', 'COVID-19 Radiography Database/COVID/COVID (647).png', 'COVID-19 Radiography Database/COVID/COVID (606).png', 'COVID-19 Radiography Database/COVID/COVID (604).png', 'COVID-19 Radiography Database/COVID/COVID (682).png', 'COVID-19 Radiography Database/COVID/COVID (685).png', 'COVID-19 Radiography Database/COVID/COVID (1083).png', 'COVID-19 Radiography Database/COVID/COVID (890).png', 'COVID-19 Radiography Database/COVID/COVID (996).png', 'COVID-19 Radiography Database/COVID/COVID (763).png', 'COVID-19 Radiography Database/COVID/COVID (218).png', 'COVID-19 Radiography Database/COVID/COVID (600).png', 'COVID-19 Radiography Database/COVID/COVID (89).png', 'COVID-19 Radiography Database/COVID/COVID (1199).png', 'COVID-19 Radiography Database/COVID/COVID (644).png', 'COVID-19 Radiography Database/COVID/COVID (925).png', 'COVID-19 Radiography Database/COVID/COVID (392).png', 'COVID-19 Radiography Database/COVID/COVID (132).png', 'COVID-19 Radiography Database/COVID/COVID (431).png', 'COVID-19 Radiography Database/COVID/COVID (1137).png', 'COVID-19 Radiography Database/COVID/COVID (1045).png', 'COVID-19 Radiography Database/COVID/COVID (91).png', 'COVID-19 Radiography Database/COVID/COVID (433).png', 'COVID-19 Radiography Database/COVID/COVID (943).png', 'COVID-19 Radiography Database/COVID/COVID (1079).png', 'COVID-19 Radiography Database/COVID/COVID (237).png', 'COVID-19 Radiography Database/COVID/COVID (62).png', 'COVID-19 Radiography Database/COVID/COVID (733).png', 'COVID-19 Radiography Database/COVID/COVID (435).png', 'COVID-19 Radiography Database/COVID/COVID (370).png', 'COVID-19 Radiography Database/COVID/COVID (1122).png', 'COVID-19 Radiography Database/COVID/COVID (1068).png', 'COVID-19 Radiography Database/COVID/COVID (463).png', 'COVID-19 Radiography Database/COVID/COVID (910).png', 'COVID-19 Radiography Database/COVID/COVID (735).png', 'COVID-19 Radiography Database/COVID/COVID (1012).png', 'COVID-19 Radiography Database/COVID/COVID (553).png', 'COVID-19 Radiography Database/COVID/COVID (865).png', 'COVID-19 Radiography Database/COVID/COVID (1173).png', 'COVID-19 Radiography Database/COVID/COVID (205).png', 'COVID-19 Radiography Database/COVID/COVID (472).png', 'COVID-19 Radiography Database/COVID/COVID (443).png', 'COVID-19 Radiography Database/COVID/COVID (302).png', 'COVID-19 Radiography Database/COVID/COVID (590).png', 'COVID-19 Radiography Database/COVID/COVID (622).png', 'COVID-19 Radiography Database/COVID/COVID (177).png', 'COVID-19 Radiography Database/COVID/COVID (69).png', 'COVID-19 Radiography Database/COVID/COVID (818).png', 'COVID-19 Radiography Database/COVID/COVID (24).png', 'COVID-19 Radiography Database/COVID/COVID (779).png', 'COVID-19 Radiography Database/COVID/COVID (420).png', 'COVID-19 Radiography Database/COVID/COVID (1155).png', 'COVID-19 Radiography Database/COVID/COVID (1013).png', 'COVID-19 Radiography Database/COVID/COVID (93).png', 'COVID-19 Radiography Database/COVID/COVID (1078).png', 'COVID-19 Radiography Database/COVID/COVID (58).png', 'COVID-19 Radiography Database/COVID/COVID (196).png', 'COVID-19 Radiography Database/COVID/COVID (832).png', 'COVID-19 Radiography Database/COVID/COVID (834).png', 'COVID-19 Radiography Database/COVID/COVID (1187).png', 'COVID-19 Radiography Database/COVID/COVID (1145).png', 'COVID-19 Radiography Database/COVID/COVID (1104).png', 'COVID-19 Radiography Database/COVID/COVID (45).png', 'COVID-19 Radiography Database/COVID/COVID (598).png', 'COVID-19 Radiography Database/COVID/COVID (375).png', 'COVID-19 Radiography Database/COVID/COVID (694).png', 'COVID-19 Radiography Database/COVID/COVID (1074).png', 'COVID-19 Radiography Database/COVID/COVID (390).png', 'COVID-19 Radiography Database/COVID/COVID (805).png', 'COVID-19 Radiography Database/COVID/COVID (577).png', 'COVID-19 Radiography Database/COVID/COVID (975).png', 'COVID-19 Radiography Database/COVID/COVID (429).png', 'COVID-19 Radiography Database/COVID/COVID (1063).png', 'COVID-19 Radiography Database/COVID/COVID (404).png', 'COVID-19 Radiography Database/COVID/COVID (68).png', 'COVID-19 Radiography Database/COVID/COVID (1008).png', 'COVID-19 Radiography Database/COVID/COVID (1043).png', 'COVID-19 Radiography Database/COVID/COVID (482).png', 'COVID-19 Radiography Database/COVID/COVID (1029).png', 'COVID-19 Radiography Database/COVID/COVID (1072).png', 'COVID-19 Radiography Database/COVID/COVID (575).png', 'COVID-19 Radiography Database/COVID/COVID (1147).png', 'COVID-19 Radiography Database/COVID/COVID (348).png', 'COVID-19 Radiography Database/COVID/COVID (1044).png', 'COVID-19 Radiography Database/COVID/COVID (812).png', 'COVID-19 Radiography Database/COVID/COVID (641).png', 'COVID-19 Radiography Database/COVID/COVID (361).png', 'COVID-19 Radiography Database/COVID/COVID (227).png', 'COVID-19 Radiography Database/COVID/COVID (982).png', 'COVID-19 Radiography Database/COVID/COVID (1101).png', 'COVID-19 Radiography Database/COVID/COVID (461).png', 'COVID-19 Radiography Database/COVID/COVID (154).png', 'COVID-19 Radiography Database/COVID/COVID (941).png', 'COVID-19 Radiography Database/COVID/COVID (200).png', 'COVID-19 Radiography Database/COVID/COVID (801).png', 'COVID-19 Radiography Database/COVID/COVID (1069).png', 'COVID-19 Radiography Database/COVID/COVID (959).png', 'COVID-19 Radiography Database/COVID/COVID (717).png', 'COVID-19 Radiography Database/COVID/COVID (464).png', 'COVID-19 Radiography Database/COVID/COVID (280).png', 'COVID-19 Radiography Database/COVID/COVID (777).png', 'COVID-19 Radiography Database/COVID/COVID (748).png', 'COVID-19 Radiography Database/COVID/COVID (715).png', 'COVID-19 Radiography Database/COVID/COVID (810).png', 'COVID-19 Radiography Database/COVID/COVID (586).png', 'COVID-19 Radiography Database/COVID/COVID (770).png', 'COVID-19 Radiography Database/COVID/COVID (40).png', 'COVID-19 Radiography Database/COVID/COVID (1025).png', 'COVID-19 Radiography Database/COVID/COVID (413).png', 'COVID-19 Radiography Database/COVID/COVID (222).png', 'COVID-19 Radiography Database/COVID/COVID (558).png', 'COVID-19 Radiography Database/COVID/COVID (1060).png', 'COVID-19 Radiography Database/COVID/COVID (984).png', 'COVID-19 Radiography Database/COVID/COVID (234).png', 'COVID-19 Radiography Database/COVID/COVID (848).png', 'COVID-19 Radiography Database/COVID/COVID (197).png', 'COVID-19 Radiography Database/COVID/COVID (1061).png', 'COVID-19 Radiography Database/COVID/COVID (741).png', 'COVID-19 Radiography Database/COVID/COVID (807).png', 'COVID-19 Radiography Database/COVID/COVID (691).png', 'COVID-19 Radiography Database/COVID/COVID (658).png', 'COVID-19 Radiography Database/COVID/COVID (1105).png', 'COVID-19 Radiography Database/COVID/COVID (282).png', 'COVID-19 Radiography Database/COVID/COVID (247).png', 'COVID-19 Radiography Database/COVID/COVID (314).png', 'COVID-19 Radiography Database/COVID/COVID (96).png', 'COVID-19 Radiography Database/COVID/COVID (147).png', 'COVID-19 Radiography Database/COVID/COVID (1084).png', 'COVID-19 Radiography Database/COVID/COVID (894).png', 'COVID-19 Radiography Database/COVID/COVID (1131).png', 'COVID-19 Radiography Database/COVID/COVID (1178).png', 'COVID-19 Radiography Database/COVID/COVID (938).png', 'COVID-19 Radiography Database/COVID/COVID (97).png', 'COVID-19 Radiography Database/COVID/COVID (185).png', 'COVID-19 Radiography Database/COVID/COVID (223).png', 'COVID-19 Radiography Database/COVID/COVID (103).png', 'COVID-19 Radiography Database/COVID/COVID (725).png', 'COVID-19 Radiography Database/COVID/COVID (30).png', 'COVID-19 Radiography Database/COVID/COVID (273).png', 'COVID-19 Radiography Database/COVID/COVID (165).png', 'COVID-19 Radiography Database/COVID/COVID (892).png', 'COVID-19 Radiography Database/COVID/COVID (297).png', 'COVID-19 Radiography Database/COVID/COVID (240).png', 'COVID-19 Radiography Database/COVID/COVID (723).png', 'COVID-19 Radiography Database/COVID/COVID (742).png', 'COVID-19 Radiography Database/COVID/COVID (1196).png', 'COVID-19 Radiography Database/COVID/COVID (1135).png', 'COVID-19 Radiography Database/COVID/COVID (1159).png', 'COVID-19 Radiography Database/COVID/COVID (560).png', 'COVID-19 Radiography Database/COVID/COVID (792).png', 'COVID-19 Radiography Database/COVID/COVID (1160).png', 'COVID-19 Radiography Database/COVID/COVID (773).png', 'COVID-19 Radiography Database/COVID/COVID (1095).png', 'COVID-19 Radiography Database/COVID/COVID (869).png', 'COVID-19 Radiography Database/COVID/COVID (650).png', 'COVID-19 Radiography Database/COVID/COVID (1028).png', 'COVID-19 Radiography Database/COVID/COVID (12).png', 'COVID-19 Radiography Database/COVID/COVID (110).png', 'COVID-19 Radiography Database/COVID/COVID (21).png', 'COVID-19 Radiography Database/COVID/COVID (1166).png', 'COVID-19 Radiography Database/COVID/COVID (54).png', 'COVID-19 Radiography Database/COVID/COVID (259).png', 'COVID-19 Radiography Database/COVID/COVID (875).png', 'COVID-19 Radiography Database/COVID/COVID (931).png', 'COVID-19 Radiography Database/COVID/COVID (220).png', 'COVID-19 Radiography Database/COVID/COVID (1067).png', 'COVID-19 Radiography Database/COVID/COVID (716).png', 'COVID-19 Radiography Database/COVID/COVID (260).png', 'COVID-19 Radiography Database/COVID/COVID (761).png', 'COVID-19 Radiography Database/COVID/COVID (618).png', 'COVID-19 Radiography Database/COVID/COVID (521).png', 'COVID-19 Radiography Database/COVID/COVID (776).png', 'COVID-19 Radiography Database/COVID/COVID (266).png', 'COVID-19 Radiography Database/COVID/COVID (300).png', 'COVID-19 Radiography Database/COVID/COVID (1097).png', 'COVID-19 Radiography Database/COVID/COVID (868).png', 'COVID-19 Radiography Database/COVID/COVID (958).png', 'COVID-19 Radiography Database/COVID/COVID (852).png', 'COVID-19 Radiography Database/COVID/COVID (101).png', 'COVID-19 Radiography Database/COVID/COVID (26).png', 'COVID-19 Radiography Database/COVID/COVID (283).png', 'COVID-19 Radiography Database/COVID/COVID (926).png', 'COVID-19 Radiography Database/COVID/COVID (410).png', 'COVID-19 Radiography Database/COVID/COVID (866).png', 'COVID-19 Radiography Database/COVID/COVID (1031).png', 'COVID-19 Radiography Database/COVID/COVID (82).png', 'COVID-19 Radiography Database/COVID/COVID (453).png', 'COVID-19 Radiography Database/COVID/COVID (153).png', 'COVID-19 Radiography Database/COVID/COVID (316).png', 'COVID-19 Radiography Database/COVID/COVID (775).png', 'COVID-19 Radiography Database/COVID/COVID (331).png', 'COVID-19 Radiography Database/COVID/COVID (896).png', 'COVID-19 Radiography Database/COVID/COVID (626).png', 'COVID-19 Radiography Database/COVID/COVID (1169).png', 'COVID-19 Radiography Database/COVID/COVID (679).png', 'COVID-19 Radiography Database/COVID/COVID (213).png', 'COVID-19 Radiography Database/COVID/COVID (403).png', 'COVID-19 Radiography Database/COVID/COVID (942).png', 'COVID-19 Radiography Database/COVID/COVID (908).png', 'COVID-19 Radiography Database/COVID/COVID (599).png', 'COVID-19 Radiography Database/COVID/COVID (1090).png', 'COVID-19 Radiography Database/COVID/COVID (720).png', 'COVID-19 Radiography Database/COVID/COVID (44).png', 'COVID-19 Radiography Database/COVID/COVID (10).png', 'COVID-19 Radiography Database/COVID/COVID (194).png', 'COVID-19 Radiography Database/COVID/COVID (293).png', 'COVID-19 Radiography Database/COVID/COVID (617).png', 'COVID-19 Radiography Database/COVID/COVID (719).png', 'COVID-19 Radiography Database/COVID/COVID (178).png', 'COVID-19 Radiography Database/COVID/COVID (364).png', 'COVID-19 Radiography Database/COVID/COVID (1119).png', 'COVID-19 Radiography Database/COVID/COVID (580).png', 'COVID-19 Radiography Database/COVID/COVID (496).png', 'COVID-19 Radiography Database/COVID/COVID (73).png', 'COVID-19 Radiography Database/COVID/COVID (669).png', 'COVID-19 Radiography Database/COVID/COVID (758).png', 'COVID-19 Radiography Database/COVID/COVID (850).png', 'COVID-19 Radiography Database/COVID/COVID (602).png', 'COVID-19 Radiography Database/COVID/COVID (401).png', 'COVID-19 Radiography Database/COVID/COVID (451).png', 'COVID-19 Radiography Database/COVID/COVID (131).png', 'COVID-19 Radiography Database/COVID/COVID (330).png', 'COVID-19 Radiography Database/COVID/COVID (968).png', 'COVID-19 Radiography Database/COVID/COVID (437).png', 'COVID-19 Radiography Database/COVID/COVID (552).png', 'COVID-19 Radiography Database/COVID/COVID (613).png', 'COVID-19 Radiography Database/COVID/COVID (680).png', 'COVID-19 Radiography Database/COVID/COVID (784).png', 'COVID-19 Radiography Database/COVID/COVID (248).png', 'COVID-19 Radiography Database/COVID/COVID (449).png', 'COVID-19 Radiography Database/COVID/COVID (862).png', 'COVID-19 Radiography Database/COVID/COVID (235).png', 'COVID-19 Radiography Database/COVID/COVID (754).png', 'COVID-19 Radiography Database/COVID/COVID (1017).png', 'COVID-19 Radiography Database/COVID/COVID (418).png', 'COVID-19 Radiography Database/COVID/COVID (1103).png', 'COVID-19 Radiography Database/COVID/COVID (882).png', 'COVID-19 Radiography Database/COVID/COVID (986).png', 'COVID-19 Radiography Database/COVID/COVID (555).png', 'COVID-19 Radiography Database/COVID/COVID (412).png', 'COVID-19 Radiography Database/COVID/COVID (384).png', 'COVID-19 Radiography Database/COVID/COVID (977).png', 'COVID-19 Radiography Database/COVID/COVID (55).png', 'COVID-19 Radiography Database/COVID/COVID (51).png', 'COVID-19 Radiography Database/COVID/COVID (501).png', 'COVID-19 Radiography Database/COVID/COVID (573).png', 'COVID-19 Radiography Database/COVID/COVID (1170).png', 'COVID-19 Radiography Database/COVID/COVID (251).png', 'COVID-19 Radiography Database/COVID/COVID (828).png', 'COVID-19 Radiography Database/COVID/COVID (72).png', 'COVID-19 Radiography Database/COVID/COVID (184).png', 'COVID-19 Radiography Database/COVID/COVID (1016).png', 'COVID-19 Radiography Database/COVID/COVID (711).png', 'COVID-19 Radiography Database/COVID/COVID (169).png', 'COVID-19 Radiography Database/COVID/COVID (640).png', 'COVID-19 Radiography Database/COVID/COVID (1163).png', 'COVID-19 Radiography Database/COVID/COVID (952).png', 'COVID-19 Radiography Database/COVID/COVID (129).png', 'COVID-19 Radiography Database/COVID/COVID (676).png', 'COVID-19 Radiography Database/COVID/COVID (276).png', 'COVID-19 Radiography Database/COVID/COVID (497).png', 'COVID-19 Radiography Database/COVID/COVID (504).png', 'COVID-19 Radiography Database/COVID/COVID (591).png', 'COVID-19 Radiography Database/COVID/COVID (1022).png', 'COVID-19 Radiography Database/COVID/COVID (907).png', 'COVID-19 Radiography Database/COVID/COVID (845).png', 'COVID-19 Radiography Database/COVID/COVID (921).png', 'COVID-19 Radiography Database/COVID/COVID (863).png', 'COVID-19 Radiography Database/COVID/COVID (1000).png', 'COVID-19 Radiography Database/COVID/COVID (309).png', 'COVID-19 Radiography Database/COVID/COVID (726).png', 'COVID-19 Radiography Database/COVID/COVID (667).png', 'COVID-19 Radiography Database/COVID/COVID (771).png', 'COVID-19 Radiography Database/COVID/COVID (886).png', 'COVID-19 Radiography Database/COVID/COVID (111).png', 'COVID-19 Radiography Database/COVID/COVID (1023).png', 'COVID-19 Radiography Database/COVID/COVID (965).png', 'COVID-19 Radiography Database/COVID/COVID (288).png', 'COVID-19 Radiography Database/COVID/COVID (1182).png', 'COVID-19 Radiography Database/COVID/COVID (608).png', 'COVID-19 Radiography Database/COVID/COVID (734).png', 'COVID-19 Radiography Database/COVID/COVID (579).png', 'COVID-19 Radiography Database/COVID/COVID (934).png', 'COVID-19 Radiography Database/COVID/COVID (1047).png', 'COVID-19 Radiography Database/COVID/COVID (972).png', 'COVID-19 Radiography Database/COVID/COVID (813).png', 'COVID-19 Radiography Database/COVID/COVID (951).png', 'COVID-19 Radiography Database/COVID/COVID (13).png', 'COVID-19 Radiography Database/COVID/COVID (698).png', 'COVID-19 Radiography Database/COVID/COVID (159).png', 'COVID-19 Radiography Database/COVID/COVID (953).png', 'COVID-19 Radiography Database/COVID/COVID (927).png', 'COVID-19 Radiography Database/COVID/COVID (217).png', 'COVID-19 Radiography Database/COVID/COVID (702).png', 'COVID-19 Radiography Database/COVID/COVID (1125).png', 'COVID-19 Radiography Database/COVID/COVID (137).png', 'COVID-19 Radiography Database/COVID/COVID (335).png', 'COVID-19 Radiography Database/COVID/COVID (118).png', 'COVID-19 Radiography Database/COVID/COVID (246).png', 'COVID-19 Radiography Database/COVID/COVID (442).png', 'COVID-19 Radiography Database/COVID/COVID (795).png', 'COVID-19 Radiography Database/COVID/COVID (1123).png', 'COVID-19 Radiography Database/COVID/COVID (18).png', 'COVID-19 Radiography Database/COVID/COVID (149).png', 'COVID-19 Radiography Database/COVID/COVID (470).png', 'COVID-19 Radiography Database/COVID/COVID (1114).png', 'COVID-19 Radiography Database/COVID/COVID (581).png', 'COVID-19 Radiography Database/COVID/COVID (978).png', 'COVID-19 Radiography Database/COVID/COVID (755).png', 'COVID-19 Radiography Database/COVID/COVID (516).png', 'COVID-19 Radiography Database/COVID/COVID (930).png', 'COVID-19 Radiography Database/COVID/COVID (893).png', 'COVID-19 Radiography Database/COVID/COVID (633).png', 'COVID-19 Radiography Database/COVID/COVID (439).png', 'COVID-19 Radiography Database/COVID/COVID (305).png', 'COVID-19 Radiography Database/COVID/COVID (517).png', 'COVID-19 Radiography Database/COVID/COVID (86).png', 'COVID-19 Radiography Database/COVID/COVID (1035).png', 'COVID-19 Radiography Database/COVID/COVID (105).png', 'COVID-19 Radiography Database/COVID/COVID (757).png', 'COVID-19 Radiography Database/COVID/COVID (803).png', 'COVID-19 Radiography Database/COVID/COVID (706).png', 'COVID-19 Radiography Database/COVID/COVID (1148).png', 'COVID-19 Radiography Database/COVID/COVID (635).png', 'COVID-19 Radiography Database/COVID/COVID (271).png', 'COVID-19 Radiography Database/COVID/COVID (99).png', 'COVID-19 Radiography Database/COVID/COVID (1149).png', 'COVID-19 Radiography Database/COVID/COVID (295).png', 'COVID-19 Radiography Database/COVID/COVID (59).png', 'COVID-19 Radiography Database/COVID/COVID (71).png', 'COVID-19 Radiography Database/COVID/COVID (252).png', 'COVID-19 Radiography Database/COVID/COVID (541).png', 'COVID-19 Radiography Database/COVID/COVID (1055).png', 'COVID-19 Radiography Database/COVID/COVID (14).png', 'COVID-19 Radiography Database/COVID/COVID (342).png', 'COVID-19 Radiography Database/COVID/COVID (284).png', 'COVID-19 Radiography Database/COVID/COVID (36).png', 'COVID-19 Radiography Database/COVID/COVID (206).png', 'COVID-19 Radiography Database/COVID/COVID (325).png', 'COVID-19 Radiography Database/COVID/COVID (847).png', 'COVID-19 Radiography Database/COVID/COVID (924).png', 'COVID-19 Radiography Database/COVID/COVID (1112).png', 'COVID-19 Radiography Database/COVID/COVID (480).png', 'COVID-19 Radiography Database/COVID/COVID (56).png', 'COVID-19 Radiography Database/COVID/COVID (740).png', 'COVID-19 Radiography Database/COVID/COVID (821).png', 'COVID-19 Radiography Database/COVID/COVID (425).png', 'COVID-19 Radiography Database/COVID/COVID (1041).png', 'COVID-19 Radiography Database/COVID/COVID (596).png', 'COVID-19 Radiography Database/COVID/COVID (727).png', 'COVID-19 Radiography Database/COVID/COVID (48).png', 'COVID-19 Radiography Database/COVID/COVID (571).png', 'COVID-19 Radiography Database/COVID/COVID (830).png', 'COVID-19 Radiography Database/COVID/COVID (139).png', 'COVID-19 Radiography Database/COVID/COVID (1161).png', 'COVID-19 Radiography Database/COVID/COVID (836).png', 'COVID-19 Radiography Database/COVID/COVID (1096).png', 'COVID-19 Radiography Database/COVID/COVID (634).png', 'COVID-19 Radiography Database/COVID/COVID (241).png', 'COVID-19 Radiography Database/COVID/COVID (1071).png', 'COVID-19 Radiography Database/COVID/COVID (378).png', 'COVID-19 Radiography Database/COVID/COVID (112).png', 'COVID-19 Radiography Database/COVID/COVID (664).png', 'COVID-19 Radiography Database/COVID/COVID (1065).png', 'COVID-19 Radiography Database/COVID/COVID (208).png', 'COVID-19 Radiography Database/COVID/COVID (291).png', 'COVID-19 Radiography Database/COVID/COVID (960).png', 'COVID-19 Radiography Database/COVID/COVID (615).png', 'COVID-19 Radiography Database/COVID/COVID (1100).png', 'COVID-19 Radiography Database/COVID/COVID (838).png', 'COVID-19 Radiography Database/COVID/COVID (158).png', 'COVID-19 Radiography Database/COVID/COVID (911).png', 'COVID-19 Radiography Database/COVID/COVID (932).png', 'COVID-19 Radiography Database/COVID/COVID (387).png', 'COVID-19 Radiography Database/COVID/COVID (619).png', 'COVID-19 Radiography Database/COVID/COVID (328).png', 'COVID-19 Radiography Database/COVID/COVID (916).png', 'COVID-19 Radiography Database/COVID/COVID (919).png', 'COVID-19 Radiography Database/COVID/COVID (238).png', 'COVID-19 Radiography Database/COVID/COVID (77).png', 'COVID-19 Radiography Database/COVID/COVID (39).png', 'COVID-19 Radiography Database/COVID/COVID (452).png', 'COVID-19 Radiography Database/COVID/COVID (853).png', 'COVID-19 Radiography Database/COVID/COVID (339).png', 'COVID-19 Radiography Database/COVID/COVID (345).png', 'COVID-19 Radiography Database/COVID/COVID (477).png', 'COVID-19 Radiography Database/COVID/COVID (880).png', 'COVID-19 Radiography Database/COVID/COVID (179).png', 'COVID-19 Radiography Database/COVID/COVID (275).png', 'COVID-19 Radiography Database/COVID/COVID (395).png', 'COVID-19 Radiography Database/COVID/COVID (202).png', 'COVID-19 Radiography Database/COVID/COVID (373).png', 'COVID-19 Radiography Database/COVID/COVID (666).png', 'COVID-19 Radiography Database/COVID/COVID (1174).png', 'COVID-19 Radiography Database/COVID/COVID (858).png', 'COVID-19 Radiography Database/COVID/COVID (804).png', 'COVID-19 Radiography Database/COVID/COVID (689).png', 'COVID-19 Radiography Database/COVID/COVID (391).png', 'COVID-19 Radiography Database/COVID/COVID (966).png', 'COVID-19 Radiography Database/COVID/COVID (568).png', 'COVID-19 Radiography Database/COVID/COVID (840).png', 'COVID-19 Radiography Database/COVID/COVID (1051).png', 'COVID-19 Radiography Database/COVID/COVID (369).png', 'COVID-19 Radiography Database/COVID/COVID (721).png', 'COVID-19 Radiography Database/COVID/COVID (947).png', 'COVID-19 Radiography Database/COVID/COVID (509).png', 'COVID-19 Radiography Database/COVID/COVID (145).png', 'COVID-19 Radiography Database/COVID/COVID (459).png', 'COVID-19 Radiography Database/COVID/COVID (753).png', 'COVID-19 Radiography Database/COVID/COVID (764).png', 'COVID-19 Radiography Database/COVID/COVID (181).png', 'COVID-19 Radiography Database/COVID/COVID (1195).png', 'COVID-19 Radiography Database/COVID/COVID (783).png', 'COVID-19 Radiography Database/COVID/COVID (873).png', 'COVID-19 Radiography Database/COVID/COVID (897).png', 'COVID-19 Radiography Database/COVID/COVID (572).png', 'COVID-19 Radiography Database/COVID/COVID (80).png', 'COVID-19 Radiography Database/COVID/COVID (780).png', 'COVID-19 Radiography Database/COVID/COVID (1139).png', 'COVID-19 Radiography Database/COVID/COVID (1153).png', 'COVID-19 Radiography Database/COVID/COVID (1094).png', 'COVID-19 Radiography Database/COVID/COVID (508).png', 'COVID-19 Radiography Database/COVID/COVID (211).png', 'COVID-19 Radiography Database/COVID/COVID (842).png', 'COVID-19 Radiography Database/COVID/COVID (589).png', 'COVID-19 Radiography Database/COVID/COVID (1165).png', 'COVID-19 Radiography Database/COVID/COVID (281).png', 'COVID-19 Radiography Database/COVID/COVID (1108).png', 'COVID-19 Radiography Database/COVID/COVID (1111).png', 'COVID-19 Radiography Database/COVID/COVID (631).png', 'COVID-19 Radiography Database/COVID/COVID (67).png', 'COVID-19 Radiography Database/COVID/COVID (844).png', 'COVID-19 Radiography Database/COVID/COVID (122).png', 'COVID-19 Radiography Database/COVID/COVID (382).png', 'COVID-19 Radiography Database/COVID/COVID (143).png', 'COVID-19 Radiography Database/COVID/COVID (1120).png', 'COVID-19 Radiography Database/COVID/COVID (312).png', 'COVID-19 Radiography Database/COVID/COVID (70).png', 'COVID-19 Radiography Database/COVID/COVID (816).png', 'COVID-19 Radiography Database/COVID/COVID (998).png', 'COVID-19 Radiography Database/COVID/COVID (1002).png', 'COVID-19 Radiography Database/COVID/COVID (183).png', 'COVID-19 Radiography Database/COVID/COVID (1140).png', 'COVID-19 Radiography Database/COVID/COVID (1151).png', 'COVID-19 Radiography Database/COVID/COVID (438).png', 'COVID-19 Radiography Database/COVID/COVID (310).png', 'COVID-19 Radiography Database/COVID/COVID (1).png', 'COVID-19 Radiography Database/COVID/COVID (126).png', 'COVID-19 Radiography Database/COVID/COVID (1183).png', 'COVID-19 Radiography Database/COVID/COVID (107).png', 'COVID-19 Radiography Database/COVID/COVID (63).png', 'COVID-19 Radiography Database/COVID/COVID (616).png', 'COVID-19 Radiography Database/COVID/COVID (296).png', 'COVID-19 Radiography Database/COVID/COVID (411).png', 'COVID-19 Radiography Database/COVID/COVID (786).png', 'COVID-19 Radiography Database/COVID/COVID (906).png', 'COVID-19 Radiography Database/COVID/COVID (261).png', 'COVID-19 Radiography Database/COVID/COVID (265).png', 'COVID-19 Radiography Database/COVID/COVID (584).png', 'COVID-19 Radiography Database/COVID/COVID (607).png', 'COVID-19 Radiography Database/COVID/COVID (793).png', 'COVID-19 Radiography Database/COVID/COVID (870).png', 'COVID-19 Radiography Database/COVID/COVID (1157).png', 'COVID-19 Radiography Database/COVID/COVID (225).png', 'COVID-19 Radiography Database/COVID/COVID (207).png', 'COVID-19 Radiography Database/COVID/COVID (895).png', 'COVID-19 Radiography Database/COVID/COVID (872).png', 'COVID-19 Radiography Database/COVID/COVID (272).png', 'COVID-19 Radiography Database/COVID/COVID (802).png', 'COVID-19 Radiography Database/COVID/COVID (705).png', 'COVID-19 Radiography Database/COVID/COVID (357).png', 'COVID-19 Radiography Database/COVID/COVID (57).png', 'COVID-19 Radiography Database/COVID/COVID (536).png', 'COVID-19 Radiography Database/COVID/COVID (782).png', 'COVID-19 Radiography Database/COVID/COVID (440).png', 'COVID-19 Radiography Database/COVID/COVID (1064).png', 'COVID-19 Radiography Database/COVID/COVID (993).png', 'COVID-19 Radiography Database/COVID/COVID (535).png', 'COVID-19 Radiography Database/COVID/COVID (1014).png', 'COVID-19 Radiography Database/COVID/COVID (837).png', 'COVID-19 Radiography Database/COVID/COVID (593).png', 'COVID-19 Radiography Database/COVID/COVID (346).png', 'COVID-19 Radiography Database/COVID/COVID (83).png', 'COVID-19 Radiography Database/COVID/COVID (322).png', 'COVID-19 Radiography Database/COVID/COVID (385).png', 'COVID-19 Radiography Database/COVID/COVID (737).png', 'COVID-19 Radiography Database/COVID/COVID (885).png', 'COVID-19 Radiography Database/COVID/COVID (660).png', 'COVID-19 Radiography Database/COVID/COVID (141).png', 'COVID-19 Radiography Database/COVID/COVID (567).png', 'COVID-19 Radiography Database/COVID/COVID (65).png', 'COVID-19 Radiography Database/COVID/COVID (16).png', 'COVID-19 Radiography Database/COVID/COVID (1004).png', 'COVID-19 Radiography Database/COVID/COVID (125).png', 'COVID-19 Radiography Database/COVID/COVID (32).png', 'COVID-19 Radiography Database/COVID/COVID (264).png', 'COVID-19 Radiography Database/COVID/COVID (347).png', 'COVID-19 Radiography Database/COVID/COVID (23).png', 'COVID-19 Radiography Database/COVID/COVID (532).png', 'COVID-19 Radiography Database/COVID/COVID (611).png', 'COVID-19 Radiography Database/COVID/COVID (956).png', 'COVID-19 Radiography Database/COVID/COVID (136).png', 'COVID-19 Radiography Database/COVID/COVID (350).png', 'COVID-19 Radiography Database/COVID/COVID (130).png', 'COVID-19 Radiography Database/COVID/COVID (1141).png', 'COVID-19 Radiography Database/COVID/COVID (887).png', 'COVID-19 Radiography Database/COVID/COVID (692).png', 'COVID-19 Radiography Database/COVID/COVID (985).png', 'COVID-19 Radiography Database/COVID/COVID (256).png', 'COVID-19 Radiography Database/COVID/COVID (483).png', 'COVID-19 Radiography Database/COVID/COVID (406).png', 'COVID-19 Radiography Database/COVID/COVID (1086).png', 'COVID-19 Radiography Database/COVID/COVID (1150).png', 'COVID-19 Radiography Database/COVID/COVID (961).png', 'COVID-19 Radiography Database/COVID/COVID (831).png', 'COVID-19 Radiography Database/COVID/COVID (1085).png', 'COVID-19 Radiography Database/COVID/COVID (489).png', 'COVID-19 Radiography Database/COVID/COVID (806).png', 'COVID-19 Radiography Database/COVID/COVID (829).png', 'COVID-19 Radiography Database/COVID/COVID (236).png', 'COVID-19 Radiography Database/COVID/COVID (1126).png', 'COVID-19 Radiography Database/COVID/COVID (127).png', 'COVID-19 Radiography Database/COVID/COVID (510).png', 'COVID-19 Radiography Database/COVID/COVID (949).png', 'COVID-19 Radiography Database/COVID/COVID (1184).png', 'COVID-19 Radiography Database/COVID/COVID (29).png', 'COVID-19 Radiography Database/COVID/COVID (940).png', 'COVID-19 Radiography Database/COVID/COVID (1088).png', 'COVID-19 Radiography Database/COVID/COVID (732).png', 'COVID-19 Radiography Database/COVID/COVID (173).png', 'COVID-19 Radiography Database/COVID/COVID (628).png', 'COVID-19 Radiography Database/COVID/COVID (992).png', 'COVID-19 Radiography Database/COVID/COVID (841).png', 'COVID-19 Radiography Database/COVID/COVID (914).png', 'COVID-19 Radiography Database/COVID/COVID (995).png', 'COVID-19 Radiography Database/COVID/COVID (833).png', 'COVID-19 Radiography Database/COVID/COVID (849).png', 'COVID-19 Radiography Database/COVID/COVID (360).png', 'COVID-19 Radiography Database/COVID/COVID (27).png', 'COVID-19 Radiography Database/COVID/COVID (303).png', 'COVID-19 Radiography Database/COVID/COVID (601).png', 'COVID-19 Radiography Database/COVID/COVID (856).png', 'COVID-19 Radiography Database/COVID/COVID (1129).png', 'COVID-19 Radiography Database/COVID/COVID (948).png', 'COVID-19 Radiography Database/COVID/COVID (643).png', 'COVID-19 Radiography Database/COVID/COVID (653).png', 'COVID-19 Radiography Database/COVID/COVID (116).png', 'COVID-19 Radiography Database/COVID/COVID (1077).png', 'COVID-19 Radiography Database/COVID/COVID (327).png', 'COVID-19 Radiography Database/COVID/COVID (603).png', 'COVID-19 Radiography Database/COVID/COVID (528).png', 'COVID-19 Radiography Database/COVID/COVID (627).png', 'COVID-19 Radiography Database/COVID/COVID (899).png', 'COVID-19 Radiography Database/COVID/COVID (1143).png', 'COVID-19 Radiography Database/COVID/COVID (308).png', 'COVID-19 Radiography Database/COVID/COVID (549).png', 'COVID-19 Radiography Database/COVID/COVID (710).png', 'COVID-19 Radiography Database/COVID/COVID (981).png', 'COVID-19 Radiography Database/COVID/COVID (923).png', 'COVID-19 Radiography Database/COVID/COVID (778).png', 'COVID-19 Radiography Database/COVID/COVID (1040).png', 'COVID-19 Radiography Database/COVID/COVID (307).png', 'COVID-19 Radiography Database/COVID/COVID (416).png', 'COVID-19 Radiography Database/COVID/COVID (610).png', 'COVID-19 Radiography Database/COVID/COVID (1189).png', 'COVID-19 Radiography Database/COVID/COVID (582).png', 'COVID-19 Radiography Database/COVID/COVID (161).png', 'COVID-19 Radiography Database/COVID/COVID (1076).png', 'COVID-19 Radiography Database/COVID/COVID (1185).png', 'COVID-19 Radiography Database/COVID/COVID (441).png', 'COVID-19 Radiography Database/COVID/COVID (152).png', 'COVID-19 Radiography Database/COVID/COVID (408).png', 'COVID-19 Radiography Database/COVID/COVID (311).png', 'COVID-19 Radiography Database/COVID/COVID (417).png', 'COVID-19 Radiography Database/COVID/COVID (512).png', 'COVID-19 Radiography Database/COVID/COVID (675).png', 'COVID-19 Radiography Database/COVID/COVID (511).png', 'COVID-19 Radiography Database/COVID/COVID (684).png', 'COVID-19 Radiography Database/COVID/COVID (467).png', 'COVID-19 Radiography Database/COVID/COVID (22).png', 'COVID-19 Radiography Database/COVID/COVID (422).png', 'COVID-19 Radiography Database/COVID/COVID (736).png', 'COVID-19 Radiography Database/COVID/COVID (318).png', 'COVID-19 Radiography Database/COVID/COVID (859).png', 'COVID-19 Radiography Database/COVID/COVID (1144).png', 'COVID-19 Radiography Database/COVID/COVID (170).png', 'COVID-19 Radiography Database/COVID/COVID (969).png', 'COVID-19 Radiography Database/COVID/COVID (377).png', 'COVID-19 Radiography Database/COVID/COVID (1081).png', 'COVID-19 Radiography Database/COVID/COVID (1070).png', 'COVID-19 Radiography Database/COVID/COVID (646).png', 'COVID-19 Radiography Database/COVID/COVID (1197).png', 'COVID-19 Radiography Database/COVID/COVID (115).png', 'COVID-19 Radiography Database/COVID/COVID (639).png', 'COVID-19 Radiography Database/COVID/COVID (191).png', 'COVID-19 Radiography Database/COVID/COVID (739).png', 'COVID-19 Radiography Database/COVID/COVID (879).png', 'COVID-19 Radiography Database/COVID/COVID (695).png', 'COVID-19 Radiography Database/COVID/COVID (1021).png', 'COVID-19 Radiography Database/COVID/COVID (588).png', 'COVID-19 Radiography Database/COVID/COVID (505).png', 'COVID-19 Radiography Database/COVID/COVID (192).png', 'COVID-19 Radiography Database/COVID/COVID (319).png', 'COVID-19 Radiography Database/COVID/COVID (999).png', 'COVID-19 Radiography Database/COVID/COVID (1117).png', 'COVID-19 Radiography Database/COVID/COVID (1152).png', 'COVID-19 Radiography Database/COVID/COVID (751).png', 'COVID-19 Radiography Database/COVID/COVID (162).png', 'COVID-19 Radiography Database/COVID/COVID (460).png', 'COVID-19 Radiography Database/COVID/COVID (524).png', 'COVID-19 Radiography Database/COVID/COVID (114).png', 'COVID-19 Radiography Database/COVID/COVID (857).png', 'COVID-19 Radiography Database/COVID/COVID (826).png', 'COVID-19 Radiography Database/COVID/COVID (397).png', 'COVID-19 Radiography Database/COVID/COVID (289).png', 'COVID-19 Radiography Database/COVID/COVID (522).png', 'COVID-19 Radiography Database/COVID/COVID (484).png', 'COVID-19 Radiography Database/COVID/COVID (811).png', 'COVID-19 Radiography Database/COVID/COVID (175).png', 'COVID-19 Radiography Database/COVID/COVID (448).png', 'COVID-19 Radiography Database/COVID/COVID (102).png', 'COVID-19 Radiography Database/COVID/COVID (100).png', 'COVID-19 Radiography Database/COVID/COVID (1113).png', 'COVID-19 Radiography Database/COVID/COVID (28).png', 'COVID-19 Radiography Database/COVID/COVID (1092).png', 'COVID-19 Radiography Database/COVID/COVID (117).png', 'COVID-19 Radiography Database/COVID/COVID (1066).png', 'COVID-19 Radiography Database/COVID/COVID (854).png', 'COVID-19 Radiography Database/COVID/COVID (216).png', 'COVID-19 Radiography Database/COVID/COVID (820).png', 'COVID-19 Radiography Database/COVID/COVID (629).png', 'COVID-19 Radiography Database/COVID/COVID (333).png', 'COVID-19 Radiography Database/COVID/COVID (731).png', 'COVID-19 Radiography Database/COVID/COVID (1005).png', 'COVID-19 Radiography Database/COVID/COVID (1030).png', 'COVID-19 Radiography Database/COVID/COVID (142).png', 'COVID-19 Radiography Database/COVID/COVID (520).png', 'COVID-19 Radiography Database/COVID/COVID (320).png', 'COVID-19 Radiography Database/COVID/COVID (817).png', 'COVID-19 Radiography Database/COVID/COVID (1136).png', 'COVID-19 Radiography Database/COVID/COVID (583).png', 'COVID-19 Radiography Database/COVID/COVID (556).png', 'COVID-19 Radiography Database/COVID/COVID (35).png', 'COVID-19 Radiography Database/COVID/COVID (697).png', 'COVID-19 Radiography Database/COVID/COVID (738).png', 'COVID-19 Radiography Database/COVID/COVID (562).png', 'COVID-19 Radiography Database/COVID/COVID (1048).png', 'COVID-19 Radiography Database/COVID/COVID (267).png', 'COVID-19 Radiography Database/COVID/COVID (1127).png', 'COVID-19 Radiography Database/COVID/COVID (1032).png', 'COVID-19 Radiography Database/COVID/COVID (648).png', 'COVID-19 Radiography Database/COVID/COVID (168).png', 'COVID-19 Radiography Database/COVID/COVID (450).png', 'COVID-19 Radiography Database/COVID/COVID (427).png', 'COVID-19 Radiography Database/COVID/COVID (708).png', 'COVID-19 Radiography Database/COVID/COVID (204).png', 'COVID-19 Radiography Database/COVID/COVID (545).png', 'COVID-19 Radiography Database/COVID/COVID (402).png', 'COVID-19 Radiography Database/COVID/COVID (912).png', 'COVID-19 Radiography Database/COVID/COVID (774).png', 'COVID-19 Radiography Database/COVID/COVID (157).png', 'COVID-19 Radiography Database/COVID/COVID (531).png', 'COVID-19 Radiography Database/COVID/COVID (394).png', 'COVID-19 Radiography Database/COVID/COVID (326).png', 'COVID-19 Radiography Database/COVID/COVID (768).png', 'COVID-19 Radiography Database/COVID/COVID (1158).png', 'COVID-19 Radiography Database/COVID/COVID (428).png', 'COVID-19 Radiography Database/COVID/COVID (662).png', 'COVID-19 Radiography Database/COVID/COVID (334).png', 'COVID-19 Radiography Database/COVID/COVID (822).png', 'COVID-19 Radiography Database/COVID/COVID (749).png', 'COVID-19 Radiography Database/COVID/COVID (138).png', 'COVID-19 Radiography Database/COVID/COVID (796).png', 'COVID-19 Radiography Database/COVID/COVID (881).png', 'COVID-19 Radiography Database/COVID/COVID (1020).png', 'COVID-19 Radiography Database/COVID/COVID (1193).png', 'COVID-19 Radiography Database/COVID/COVID (913).png', 'COVID-19 Radiography Database/COVID/COVID (649).png', 'COVID-19 Radiography Database/COVID/COVID (1037).png', 'COVID-19 Radiography Database/COVID/COVID (321).png', 'COVID-19 Radiography Database/COVID/COVID (920).png', 'COVID-19 Radiography Database/COVID/COVID (503).png', 'COVID-19 Radiography Database/COVID/COVID (672).png', 'COVID-19 Radiography Database/COVID/COVID (244).png', 'COVID-19 Radiography Database/COVID/COVID (1133).png', 'COVID-19 Radiography Database/COVID/COVID (306).png', 'COVID-19 Radiography Database/COVID/COVID (625).png', 'COVID-19 Radiography Database/COVID/COVID (231).png', 'COVID-19 Radiography Database/COVID/COVID (38).png', 'COVID-19 Radiography Database/COVID/COVID (49).png', 'COVID-19 Radiography Database/COVID/COVID (426).png', 'COVID-19 Radiography Database/COVID/COVID (1024).png', 'COVID-19 Radiography Database/COVID/COVID (767).png', 'COVID-19 Radiography Database/COVID/COVID (287).png', 'COVID-19 Radiography Database/COVID/COVID (399).png', 'COVID-19 Radiography Database/COVID/COVID (495).png', 'COVID-19 Radiography Database/COVID/COVID (255).png', 'COVID-19 Radiography Database/COVID/COVID (37).png', 'COVID-19 Radiography Database/COVID/COVID (351).png', 'COVID-19 Radiography Database/COVID/COVID (269).png', 'COVID-19 Radiography Database/COVID/COVID (368).png', 'COVID-19 Radiography Database/COVID/COVID (485).png', 'COVID-19 Radiography Database/COVID/COVID (569).png', 'COVID-19 Radiography Database/COVID/COVID (79).png', 'COVID-19 Radiography Database/COVID/COVID (563).png', 'COVID-19 Radiography Database/COVID/COVID (409).png', 'COVID-19 Radiography Database/COVID/COVID (171).png', 'COVID-19 Radiography Database/COVID/COVID (144).png', 'COVID-19 Radiography Database/COVID/COVID (1056).png', 'COVID-19 Radiography Database/COVID/COVID (61).png', 'COVID-19 Radiography Database/COVID/COVID (1128).png', 'COVID-19 Radiography Database/COVID/COVID (363).png', 'COVID-19 Radiography Database/COVID/COVID (964).png', 'COVID-19 Radiography Database/COVID/COVID (595).png', 'COVID-19 Radiography Database/COVID/COVID (277).png', 'COVID-19 Radiography Database/COVID/COVID (174).png', 'COVID-19 Radiography Database/COVID/COVID (148).png', 'COVID-19 Radiography Database/COVID/COVID (819).png', 'COVID-19 Radiography Database/COVID/COVID (1073).png', 'COVID-19 Radiography Database/COVID/COVID (514).png', 'COVID-19 Radiography Database/COVID/COVID (900).png', 'COVID-19 Radiography Database/COVID/COVID (688).png', 'COVID-19 Radiography Database/COVID/COVID (20).png', 'COVID-19 Radiography Database/COVID/COVID (1050).png', 'COVID-19 Radiography Database/COVID/COVID (789).png', 'COVID-19 Radiography Database/COVID/COVID (11).png', 'COVID-19 Radiography Database/COVID/COVID (1038).png', 'COVID-19 Radiography Database/COVID/COVID (187).png', 'COVID-19 Radiography Database/COVID/COVID (445).png', 'COVID-19 Radiography Database/COVID/COVID (498).png', 'COVID-19 Radiography Database/COVID/COVID (991).png', 'COVID-19 Radiography Database/COVID/COVID (286).png', 'COVID-19 Radiography Database/COVID/COVID (526).png', 'COVID-19 Radiography Database/COVID/COVID (1167).png', 'COVID-19 Radiography Database/COVID/COVID (6).png', 'COVID-19 Radiography Database/COVID/COVID (250).png', 'COVID-19 Radiography Database/COVID/COVID (478).png', 'COVID-19 Radiography Database/COVID/COVID (367).png', 'COVID-19 Radiography Database/COVID/COVID (355).png', 'COVID-19 Radiography Database/COVID/COVID (1042).png', 'COVID-19 Radiography Database/COVID/COVID (1176).png', 'COVID-19 Radiography Database/COVID/COVID (374).png', 'COVID-19 Radiography Database/COVID/COVID (332).png', 'COVID-19 Radiography Database/COVID/COVID (1093).png', 'COVID-19 Radiography Database/COVID/COVID (814).png', 'COVID-19 Radiography Database/COVID/COVID (623).png', 'COVID-19 Radiography Database/COVID/COVID (1118).png', 'COVID-19 Radiography Database/COVID/COVID (1003).png', 'COVID-19 Radiography Database/COVID/COVID (592).png', 'COVID-19 Radiography Database/COVID/COVID (182).png', 'COVID-19 Radiography Database/COVID/COVID (973).png', 'COVID-19 Radiography Database/COVID/COVID (88).png', 'COVID-19 Radiography Database/COVID/COVID (74).png', 'COVID-19 Radiography Database/COVID/COVID (344).png', 'COVID-19 Radiography Database/COVID/COVID (229).png', 'COVID-19 Radiography Database/COVID/COVID (759).png', 'COVID-19 Radiography Database/COVID/COVID (230).png', 'COVID-19 Radiography Database/COVID/COVID (729).png', 'COVID-19 Radiography Database/COVID/COVID (668).png', 'COVID-19 Radiography Database/COVID/COVID (1190).png', 'COVID-19 Radiography Database/COVID/COVID (974).png', 'COVID-19 Radiography Database/COVID/COVID (436).png', 'COVID-19 Radiography Database/COVID/COVID (53).png', 'COVID-19 Radiography Database/COVID/COVID (1019).png', 'COVID-19 Radiography Database/COVID/COVID (317).png', 'COVID-19 Radiography Database/COVID/COVID (798).png', 'COVID-19 Radiography Database/COVID/COVID (683).png', 'COVID-19 Radiography Database/COVID/COVID (871).png', 'COVID-19 Radiography Database/COVID/COVID (1015).png', 'COVID-19 Radiography Database/COVID/COVID (824).png', 'COVID-19 Radiography Database/COVID/COVID (400).png', 'COVID-19 Radiography Database/COVID/COVID (518).png', 'COVID-19 Radiography Database/COVID/COVID (700).png', 'COVID-19 Radiography Database/COVID/COVID (1110).png', 'COVID-19 Radiography Database/COVID/COVID (388).png', 'COVID-19 Radiography Database/COVID/COVID (166).png', 'COVID-19 Radiography Database/COVID/COVID (983).png', 'COVID-19 Radiography Database/COVID/COVID (64).png', 'COVID-19 Radiography Database/COVID/COVID (609).png', 'COVID-19 Radiography Database/COVID/COVID (1121).png', 'COVID-19 Radiography Database/COVID/COVID (278).png', 'COVID-19 Radiography Database/COVID/COVID (728).png'], ['COVID-19 Radiography Database/NORMAL/NORMAL (773).png', 'COVID-19 Radiography Database/NORMAL/NORMAL (877).png', 'COVID-19 Radiography Database/NORMAL/NORMAL (269).png', 'COVID-19 Radiography Database/NORMAL/NORMAL (540).png', 'COVID-19 Radiography Database/NORMAL/NORMAL (363).png', 'COVID-19 Radiography Database/NORMAL/NORMAL (390).png', 'COVID-19 Radiography Database/NORMAL/NORMAL (115).png', 'COVID-19 Radiography Database/NORMAL/NORMAL (1309).png', 'COVID-19 Radiography Database/NORMAL/NORMAL (1266).png', 'COVID-19 Radiography Database/NORMAL/NORMAL (287).png', 'COVID-19 Radiography Database/NORMAL/NORMAL (508).png', 'COVID-19 Radiography Database/NORMAL/NORMAL (303).png', 'COVID-19 Radiography Database/NORMAL/NORMAL (529).png', 'COVID-19 Radiography Database/NORMAL/NORMAL (2).png', 'COVID-19 Radiography Database/NORMAL/NORMAL (264).png', 'COVID-19 Radiography Database/NORMAL/NORMAL (722).png', 'COVID-19 Radiography Database/NORMAL/NORMAL (1156).png', 'COVID-19 Radiography Database/NORMAL/NORMAL (948).png', 'COVID-19 Radiography Database/NORMAL/NORMAL (765).png', 'COVID-19 Radiography Database/NORMAL/NORMAL (197).png', 'COVID-19 Radiography Database/NORMAL/NORMAL (653).png', 'COVID-19 Radiography Database/NORMAL/NORMAL (9).png', 'COVID-19 Radiography Database/NORMAL/NORMAL (812).png', 'COVID-19 Radiography Database/NORMAL/NORMAL (635).png', 'COVID-19 Radiography Database/NORMAL/NORMAL (79).png', 'COVID-19 Radiography Database/NORMAL/NORMAL (1117).png', 'COVID-19 Radiography Database/NORMAL/NORMAL (1079).png', 'COVID-19 Radiography Database/NORMAL/NORMAL (1281).png', 'COVID-19 Radiography Database/NORMAL/NORMAL (1224).png', 'COVID-19 Radiography Database/NORMAL/NORMAL (936).png', 'COVID-19 Radiography Database/NORMAL/NORMAL (1128).png', 'COVID-19 Radiography Database/NORMAL/NORMAL (882).png', 'COVID-19 Radiography Database/NORMAL/NORMAL (452).png', 'COVID-19 Radiography Database/NORMAL/NORMAL (414).png', 'COVID-19 Radiography Database/NORMAL/NORMAL (108).png', 'COVID-19 Radiography Database/NORMAL/NORMAL (456).png', 'COVID-19 Radiography Database/NORMAL/NORMAL (1225).png', 'COVID-19 Radiography Database/NORMAL/NORMAL (1065).png', 'COVID-19 Radiography Database/NORMAL/NORMAL (833).png', 'COVID-19 Radiography Database/NORMAL/NORMAL (830).png', 'COVID-19 Radiography Database/NORMAL/NORMAL (662).png', 'COVID-19 Radiography Database/NORMAL/NORMAL (486).png', 'COVID-19 Radiography Database/NORMAL/NORMAL (924).png', 'COVID-19 Radiography Database/NORMAL/NORMAL (68).png', 'COVID-19 Radiography Database/NORMAL/NORMAL (796).png', 'COVID-19 Radiography Database/NORMAL/NORMAL (451).png', 'COVID-19 Radiography Database/NORMAL/NORMAL (478).png', 'COVID-19 Radiography Database/NORMAL/NORMAL (485).png', 'COVID-19 Radiography Database/NORMAL/NORMAL (289).png', 'COVID-19 Radiography Database/NORMAL/NORMAL (532).png', 'COVID-19 Radiography Database/NORMAL/NORMAL (602).png', 'COVID-19 Radiography Database/NORMAL/NORMAL (1319).png', 'COVID-19 Radiography Database/NORMAL/NORMAL (308).png', 'COVID-19 Radiography Database/NORMAL/NORMAL (374).png', 'COVID-19 Radiography Database/NORMAL/NORMAL (933).png', 'COVID-19 Radiography Database/NORMAL/NORMAL (592).png', 'COVID-19 Radiography Database/NORMAL/NORMAL (496).png', 'COVID-19 Radiography Database/NORMAL/NORMAL (85).png', 'COVID-19 Radiography Database/NORMAL/NORMAL (904).png', 'COVID-19 Radiography Database/NORMAL/NORMAL (1330).png', 'COVID-19 Radiography Database/NORMAL/NORMAL (768).png', 'COVID-19 Radiography Database/NORMAL/NORMAL (997).png', 'COVID-19 Radiography Database/NORMAL/NORMAL (979).png', 'COVID-19 Radiography Database/NORMAL/NORMAL (984).png', 'COVID-19 Radiography Database/NORMAL/NORMAL (166).png', 'COVID-19 Radiography Database/NORMAL/NORMAL (1095).png', 'COVID-19 Radiography Database/NORMAL/NORMAL (1010).png', 'COVID-19 Radiography Database/NORMAL/NORMAL (786).png', 'COVID-19 Radiography Database/NORMAL/NORMAL (154).png', 'COVID-19 Radiography Database/NORMAL/NORMAL (571).png', 'COVID-19 Radiography Database/NORMAL/NORMAL (1325).png', 'COVID-19 Radiography Database/NORMAL/NORMAL (745).png', 'COVID-19 Radiography Database/NORMAL/NORMAL (887).png', 'COVID-19 Radiography Database/NORMAL/NORMAL (937).png', 'COVID-19 Radiography Database/NORMAL/NORMAL (851).png', 'COVID-19 Radiography Database/NORMAL/NORMAL (324).png', 'COVID-19 Radiography Database/NORMAL/NORMAL (80).png', 'COVID-19 Radiography Database/NORMAL/NORMAL (120).png', 'COVID-19 Radiography Database/NORMAL/NORMAL (40).png', 'COVID-19 Radiography Database/NORMAL/NORMAL (139).png', 'COVID-19 Radiography Database/NORMAL/NORMAL (945).png', 'COVID-19 Radiography Database/NORMAL/NORMAL (45).png', 'COVID-19 Radiography Database/NORMAL/NORMAL (1245).png', 'COVID-19 Radiography Database/NORMAL/NORMAL (391).png', 'COVID-19 Radiography Database/NORMAL/NORMAL (727).png', 'COVID-19 Radiography Database/NORMAL/NORMAL (730).png', 'COVID-19 Radiography Database/NORMAL/NORMAL (1338).png', 'COVID-19 Radiography Database/NORMAL/NORMAL (276).png', 'COVID-19 Radiography Database/NORMAL/NORMAL (1040).png', 'COVID-19 Radiography Database/NORMAL/NORMAL (636).png', 'COVID-19 Radiography Database/NORMAL/NORMAL (1223).png', 'COVID-19 Radiography Database/NORMAL/NORMAL (985).png', 'COVID-19 Radiography Database/NORMAL/NORMAL (1192).png', 'COVID-19 Radiography Database/NORMAL/NORMAL (1303).png', 'COVID-19 Radiography Database/NORMAL/NORMAL (71).png', 'COVID-19 Radiography Database/NORMAL/NORMAL (742).png', 'COVID-19 Radiography Database/NORMAL/NORMAL (663).png', 'COVID-19 Radiography Database/NORMAL/NORMAL (136).png', 'COVID-19 Radiography Database/NORMAL/NORMAL (256).png', 'COVID-19 Radiography Database/NORMAL/NORMAL (1248).png', 'COVID-19 Radiography Database/NORMAL/NORMAL (563).png', 'COVID-19 Radiography Database/NORMAL/NORMAL (946).png', 'COVID-19 Radiography Database/NORMAL/NORMAL (594).png', 'COVID-19 Radiography Database/NORMAL/NORMAL (791).png', 'COVID-19 Radiography Database/NORMAL/NORMAL (1056).png', 'COVID-19 Radiography Database/NORMAL/NORMAL (828).png', 'COVID-19 Radiography Database/NORMAL/NORMAL (963).png', 'COVID-19 Radiography Database/NORMAL/NORMAL (204).png', 'COVID-19 Radiography Database/NORMAL/NORMAL (43).png', 'COVID-19 Radiography Database/NORMAL/NORMAL (240).png', 'COVID-19 Radiography Database/NORMAL/NORMAL (17).png', 'COVID-19 Radiography Database/NORMAL/NORMAL (257).png', 'COVID-19 Radiography Database/NORMAL/NORMAL (88).png', 'COVID-19 Radiography Database/NORMAL/NORMAL (422).png', 'COVID-19 Radiography Database/NORMAL/NORMAL (190).png', 'COVID-19 Radiography Database/NORMAL/NORMAL (160).png', 'COVID-19 Radiography Database/NORMAL/NORMAL (376).png', 'COVID-19 Radiography Database/NORMAL/NORMAL (1109).png', 'COVID-19 Radiography Database/NORMAL/NORMAL (927).png', 'COVID-19 Radiography Database/NORMAL/NORMAL (1300).png', 'COVID-19 Radiography Database/NORMAL/NORMAL (481).png', 'COVID-19 Radiography Database/NORMAL/NORMAL (648).png', 'COVID-19 Radiography Database/NORMAL/NORMAL (223).png', 'COVID-19 Radiography Database/NORMAL/NORMAL (1123).png', 'COVID-19 Radiography Database/NORMAL/NORMAL (1158).png', 'COVID-19 Radiography Database/NORMAL/NORMAL (535).png', 'COVID-19 Radiography Database/NORMAL/NORMAL (1179).png', 'COVID-19 Radiography Database/NORMAL/NORMAL (857).png', 'COVID-19 Radiography Database/NORMAL/NORMAL (628).png', 'COVID-19 Radiography Database/NORMAL/NORMAL (682).png', 'COVID-19 Radiography Database/NORMAL/NORMAL (21).png', 'COVID-19 Radiography Database/NORMAL/NORMAL (1149).png', 'COVID-19 Radiography Database/NORMAL/NORMAL (1162).png', 'COVID-19 Radiography Database/NORMAL/NORMAL (38).png', 'COVID-19 Radiography Database/NORMAL/NORMAL (216).png', 'COVID-19 Radiography Database/NORMAL/NORMAL (1268).png', 'COVID-19 Radiography Database/NORMAL/NORMAL (989).png', 'COVID-19 Radiography Database/NORMAL/NORMAL (1275).png', 'COVID-19 Radiography Database/NORMAL/NORMAL (850).png', 'COVID-19 Radiography Database/NORMAL/NORMAL (576).png', 'COVID-19 Radiography Database/NORMAL/NORMAL (514).png', 'COVID-19 Radiography Database/NORMAL/NORMAL (1141).png', 'COVID-19 Radiography Database/NORMAL/NORMAL (597).png', 'COVID-19 Radiography Database/NORMAL/NORMAL (1177).png', 'COVID-19 Radiography Database/NORMAL/NORMAL (935).png', 'COVID-19 Radiography Database/NORMAL/NORMAL (744).png', 'COVID-19 Radiography Database/NORMAL/NORMAL (67).png', 'COVID-19 Radiography Database/NORMAL/NORMAL (1143).png', 'COVID-19 Radiography Database/NORMAL/NORMAL (525).png', 'COVID-19 Radiography Database/NORMAL/NORMAL (228).png', 'COVID-19 Radiography Database/NORMAL/NORMAL (1106).png', 'COVID-19 Radiography Database/NORMAL/NORMAL (605).png', 'COVID-19 Radiography Database/NORMAL/NORMAL (961).png', 'COVID-19 Radiography Database/NORMAL/NORMAL (526).png', 'COVID-19 Radiography Database/NORMAL/NORMAL (482).png', 'COVID-19 Radiography Database/NORMAL/NORMAL (930).png', 'COVID-19 Radiography Database/NORMAL/NORMAL (595).png', 'COVID-19 Radiography Database/NORMAL/NORMAL (236).png', 'COVID-19 Radiography Database/NORMAL/NORMAL (884).png', 'COVID-19 Radiography Database/NORMAL/NORMAL (155).png', 'COVID-19 Radiography Database/NORMAL/NORMAL (1292).png', 'COVID-19 Radiography Database/NORMAL/NORMAL (1015).png', 'COVID-19 Radiography Database/NORMAL/NORMAL (1208).png', 'COVID-19 Radiography Database/NORMAL/NORMAL (1005).png', 'COVID-19 Radiography Database/NORMAL/NORMAL (947).png', 'COVID-19 Radiography Database/NORMAL/NORMAL (598).png', 'COVID-19 Radiography Database/NORMAL/NORMAL (774).png', 'COVID-19 Radiography Database/NORMAL/NORMAL (1147).png', 'COVID-19 Radiography Database/NORMAL/NORMAL (734).png', 'COVID-19 Radiography Database/NORMAL/NORMAL (1288).png', 'COVID-19 Radiography Database/NORMAL/NORMAL (1327).png', 'COVID-19 Radiography Database/NORMAL/NORMAL (6).png', 'COVID-19 Radiography Database/NORMAL/NORMAL (423).png', 'COVID-19 Radiography Database/NORMAL/NORMAL (152).png', 'COVID-19 Radiography Database/NORMAL/NORMAL (1339).png', 'COVID-19 Radiography Database/NORMAL/NORMAL (203).png', 'COVID-19 Radiography Database/NORMAL/NORMAL (1124).png', 'COVID-19 Radiography Database/NORMAL/NORMAL (825).png', 'COVID-19 Radiography Database/NORMAL/NORMAL (132).png', 'COVID-19 Radiography Database/NORMAL/NORMAL (762).png', 'COVID-19 Radiography Database/NORMAL/NORMAL (1285).png', 'COVID-19 Radiography Database/NORMAL/NORMAL (957).png', 'COVID-19 Radiography Database/NORMAL/NORMAL (28).png', 'COVID-19 Radiography Database/NORMAL/NORMAL (479).png', 'COVID-19 Radiography Database/NORMAL/NORMAL (475).png', 'COVID-19 Radiography Database/NORMAL/NORMAL (1155).png', 'COVID-19 Radiography Database/NORMAL/NORMAL (608).png', 'COVID-19 Radiography Database/NORMAL/NORMAL (453).png', 'COVID-19 Radiography Database/NORMAL/NORMAL (559).png', 'COVID-19 Radiography Database/NORMAL/NORMAL (690).png', 'COVID-19 Radiography Database/NORMAL/NORMAL (574).png', 'COVID-19 Radiography Database/NORMAL/NORMAL (994).png', 'COVID-19 Radiography Database/NORMAL/NORMAL (1293).png', 'COVID-19 Radiography Database/NORMAL/NORMAL (1082).png', 'COVID-19 Radiography Database/NORMAL/NORMAL (313).png', 'COVID-19 Radiography Database/NORMAL/NORMAL (758).png', 'COVID-19 Radiography Database/NORMAL/NORMAL (1153).png', 'COVID-19 Radiography Database/NORMAL/NORMAL (4).png', 'COVID-19 Radiography Database/NORMAL/NORMAL (799).png', 'COVID-19 Radiography Database/NORMAL/NORMAL (329).png', 'COVID-19 Radiography Database/NORMAL/NORMAL (1019).png', 'COVID-19 Radiography Database/NORMAL/NORMAL (164).png', 'COVID-19 Radiography Database/NORMAL/NORMAL (443).png', 'COVID-19 Radiography Database/NORMAL/NORMAL (450).png', 'COVID-19 Radiography Database/NORMAL/NORMAL (603).png', 'COVID-19 Radiography Database/NORMAL/NORMAL (1195).png', 'COVID-19 Radiography Database/NORMAL/NORMAL (1215).png', 'COVID-19 Radiography Database/NORMAL/NORMAL (672).png', 'COVID-19 Radiography Database/NORMAL/NORMAL (780).png', 'COVID-19 Radiography Database/NORMAL/NORMAL (83).png', 'COVID-19 Radiography Database/NORMAL/NORMAL (137).png', 'COVID-19 Radiography Database/NORMAL/NORMAL (1265).png', 'COVID-19 Radiography Database/NORMAL/NORMAL (200).png', 'COVID-19 Radiography Database/NORMAL/NORMAL (1032).png', 'COVID-19 Radiography Database/NORMAL/NORMAL (27).png', 'COVID-19 Radiography Database/NORMAL/NORMAL (377).png', 'COVID-19 Radiography Database/NORMAL/NORMAL (272).png', 'COVID-19 Radiography Database/NORMAL/NORMAL (347).png', 'COVID-19 Radiography Database/NORMAL/NORMAL (661).png', 'COVID-19 Radiography Database/NORMAL/NORMAL (967).png', 'COVID-19 Radiography Database/NORMAL/NORMAL (620).png', 'COVID-19 Radiography Database/NORMAL/NORMAL (826).png', 'COVID-19 Radiography Database/NORMAL/NORMAL (665).png', 'COVID-19 Radiography Database/NORMAL/NORMAL (913).png', 'COVID-19 Radiography Database/NORMAL/NORMAL (445).png', 'COVID-19 Radiography Database/NORMAL/NORMAL (400).png', 'COVID-19 Radiography Database/NORMAL/NORMAL (13).png', 'COVID-19 Radiography Database/NORMAL/NORMAL (837).png', 'COVID-19 Radiography Database/NORMAL/NORMAL (341).png', 'COVID-19 Radiography Database/NORMAL/NORMAL (229).png', 'COVID-19 Radiography Database/NORMAL/NORMAL (373).png', 'COVID-19 Radiography Database/NORMAL/NORMAL (440).png', 'COVID-19 Radiography Database/NORMAL/NORMAL (135).png', 'COVID-19 Radiography Database/NORMAL/NORMAL (515).png', 'COVID-19 Radiography Database/NORMAL/NORMAL (1172).png', 'COVID-19 Radiography Database/NORMAL/NORMAL (1289).png', 'COVID-19 Radiography Database/NORMAL/NORMAL (171).png', 'COVID-19 Radiography Database/NORMAL/NORMAL (654).png', 'COVID-19 Radiography Database/NORMAL/NORMAL (573).png', 'COVID-19 Radiography Database/NORMAL/NORMAL (298).png', 'COVID-19 Radiography Database/NORMAL/NORMAL (1206).png', 'COVID-19 Radiography Database/NORMAL/NORMAL (616).png', 'COVID-19 Radiography Database/NORMAL/NORMAL (122).png', 'COVID-19 Radiography Database/NORMAL/NORMAL (614).png', 'COVID-19 Radiography Database/NORMAL/NORMAL (99).png', 'COVID-19 Radiography Database/NORMAL/NORMAL (1318).png', 'COVID-19 Radiography Database/NORMAL/NORMAL (1341).png', 'COVID-19 Radiography Database/NORMAL/NORMAL (859).png', 'COVID-19 Radiography Database/NORMAL/NORMAL (1168).png', 'COVID-19 Radiography Database/NORMAL/NORMAL (813).png', 'COVID-19 Radiography Database/NORMAL/NORMAL (562).png', 'COVID-19 Radiography Database/NORMAL/NORMAL (281).png', 'COVID-19 Radiography Database/NORMAL/NORMAL (309).png', 'COVID-19 Radiography Database/NORMAL/NORMAL (809).png', 'COVID-19 Radiography Database/NORMAL/NORMAL (753).png', 'COVID-19 Radiography Database/NORMAL/NORMAL (528).png', 'COVID-19 Radiography Database/NORMAL/NORMAL (1190).png', 'COVID-19 Radiography Database/NORMAL/NORMAL (944).png', 'COVID-19 Radiography Database/NORMAL/NORMAL (25).png', 'COVID-19 Radiography Database/NORMAL/NORMAL (987).png', 'COVID-19 Radiography Database/NORMAL/NORMAL (1196).png', 'COVID-19 Radiography Database/NORMAL/NORMAL (566).png', 'COVID-19 Radiography Database/NORMAL/NORMAL (188).png', 'COVID-19 Radiography Database/NORMAL/NORMAL (361).png', 'COVID-19 Radiography Database/NORMAL/NORMAL (336).png', 'COVID-19 Radiography Database/NORMAL/NORMAL (741).png', 'COVID-19 Radiography Database/NORMAL/NORMAL (425).png', 'COVID-19 Radiography Database/NORMAL/NORMAL (186).png', 'COVID-19 Radiography Database/NORMAL/NORMAL (1129).png', 'COVID-19 Radiography Database/NORMAL/NORMAL (1024).png', 'COVID-19 Radiography Database/NORMAL/NORMAL (386).png', 'COVID-19 Radiography Database/NORMAL/NORMAL (587).png', 'COVID-19 Radiography Database/NORMAL/NORMAL (899).png', 'COVID-19 Radiography Database/NORMAL/NORMAL (973).png', 'COVID-19 Radiography Database/NORMAL/NORMAL (1061).png', 'COVID-19 Radiography Database/NORMAL/NORMAL (805).png', 'COVID-19 Radiography Database/NORMAL/NORMAL (1246).png', 'COVID-19 Radiography Database/NORMAL/NORMAL (910).png', 'COVID-19 Radiography Database/NORMAL/NORMAL (275).png', 'COVID-19 Radiography Database/NORMAL/NORMAL (1091).png', 'COVID-19 Radiography Database/NORMAL/NORMAL (1253).png', 'COVID-19 Radiography Database/NORMAL/NORMAL (1180).png', 'COVID-19 Radiography Database/NORMAL/NORMAL (382).png', 'COVID-19 Radiography Database/NORMAL/NORMAL (1198).png', 'COVID-19 Radiography Database/NORMAL/NORMAL (1062).png', 'COVID-19 Radiography Database/NORMAL/NORMAL (221).png', 'COVID-19 Radiography Database/NORMAL/NORMAL (811).png', 'COVID-19 Radiography Database/NORMAL/NORMAL (522).png', 'COVID-19 Radiography Database/NORMAL/NORMAL (1321).png', 'COVID-19 Radiography Database/NORMAL/NORMAL (501).png', 'COVID-19 Radiography Database/NORMAL/NORMAL (126).png', 'COVID-19 Radiography Database/NORMAL/NORMAL (633).png', 'COVID-19 Radiography Database/NORMAL/NORMAL (674).png', 'COVID-19 Radiography Database/NORMAL/NORMAL (639).png', 'COVID-19 Radiography Database/NORMAL/NORMAL (357).png', 'COVID-19 Radiography Database/NORMAL/NORMAL (307).png', 'COVID-19 Radiography Database/NORMAL/NORMAL (187).png', 'COVID-19 Radiography Database/NORMAL/NORMAL (623).png', 'COVID-19 Radiography Database/NORMAL/NORMAL (732).png', 'COVID-19 Radiography Database/NORMAL/NORMAL (1308).png', 'COVID-19 Radiography Database/NORMAL/NORMAL (794).png', 'COVID-19 Radiography Database/NORMAL/NORMAL (589).png', 'COVID-19 Radiography Database/NORMAL/NORMAL (429).png', 'COVID-19 Radiography Database/NORMAL/NORMAL (911).png', 'COVID-19 Radiography Database/NORMAL/NORMAL (1093).png', 'COVID-19 Radiography Database/NORMAL/NORMAL (163).png', 'COVID-19 Radiography Database/NORMAL/NORMAL (856).png', 'COVID-19 Radiography Database/NORMAL/NORMAL (1316).png', 'COVID-19 Radiography Database/NORMAL/NORMAL (702).png', 'COVID-19 Radiography Database/NORMAL/NORMAL (1199).png', 'COVID-19 Radiography Database/NORMAL/NORMAL (787).png', 'COVID-19 Radiography Database/NORMAL/NORMAL (93).png', 'COVID-19 Radiography Database/NORMAL/NORMAL (131).png', 'COVID-19 Radiography Database/NORMAL/NORMAL (271).png', 'COVID-19 Radiography Database/NORMAL/NORMAL (39).png', 'COVID-19 Radiography Database/NORMAL/NORMAL (279).png', 'COVID-19 Radiography Database/NORMAL/NORMAL (168).png', 'COVID-19 Radiography Database/NORMAL/NORMAL (631).png', 'COVID-19 Radiography Database/NORMAL/NORMAL (964).png', 'COVID-19 Radiography Database/NORMAL/NORMAL (1026).png', 'COVID-19 Radiography Database/NORMAL/NORMAL (499).png', 'COVID-19 Radiography Database/NORMAL/NORMAL (174).png', 'COVID-19 Radiography Database/NORMAL/NORMAL (715).png', 'COVID-19 Radiography Database/NORMAL/NORMAL (615).png', 'COVID-19 Radiography Database/NORMAL/NORMAL (1152).png', 'COVID-19 Radiography Database/NORMAL/NORMAL (280).png', 'COVID-19 Radiography Database/NORMAL/NORMAL (459).png', 'COVID-19 Radiography Database/NORMAL/NORMAL (328).png', 'COVID-19 Radiography Database/NORMAL/NORMAL (1053).png', 'COVID-19 Radiography Database/NORMAL/NORMAL (1337).png', 'COVID-19 Radiography Database/NORMAL/NORMAL (446).png', 'COVID-19 Radiography Database/NORMAL/NORMAL (1174).png', 'COVID-19 Radiography Database/NORMAL/NORMAL (173).png', 'COVID-19 Radiography Database/NORMAL/NORMAL (367).png', 'COVID-19 Radiography Database/NORMAL/NORMAL (230).png', 'COVID-19 Radiography Database/NORMAL/NORMAL (1273).png', 'COVID-19 Radiography Database/NORMAL/NORMAL (1278).png', 'COVID-19 Radiography Database/NORMAL/NORMAL (487).png', 'COVID-19 Radiography Database/NORMAL/NORMAL (73).png', 'COVID-19 Radiography Database/NORMAL/NORMAL (593).png', 'COVID-19 Radiography Database/NORMAL/NORMAL (225).png', 'COVID-19 Radiography Database/NORMAL/NORMAL (1047).png', 'COVID-19 Radiography Database/NORMAL/NORMAL (300).png', 'COVID-19 Radiography Database/NORMAL/NORMAL (219).png', 'COVID-19 Radiography Database/NORMAL/NORMAL (716).png', 'COVID-19 Radiography Database/NORMAL/NORMAL (1041).png', 'COVID-19 Radiography Database/NORMAL/NORMAL (393).png', 'COVID-19 Radiography Database/NORMAL/NORMAL (111).png', 'COVID-19 Radiography Database/NORMAL/NORMAL (863).png', 'COVID-19 Radiography Database/NORMAL/NORMAL (1220).png', 'COVID-19 Radiography Database/NORMAL/NORMAL (415).png', 'COVID-19 Radiography Database/NORMAL/NORMAL (584).png', 'COVID-19 Radiography Database/NORMAL/NORMAL (617).png', 'COVID-19 Radiography Database/NORMAL/NORMAL (1259).png', 'COVID-19 Radiography Database/NORMAL/NORMAL (1283).png', 'COVID-19 Radiography Database/NORMAL/NORMAL (1110).png', 'COVID-19 Radiography Database/NORMAL/NORMAL (1267).png', 'COVID-19 Radiography Database/NORMAL/NORMAL (1295).png', 'COVID-19 Radiography Database/NORMAL/NORMAL (749).png', 'COVID-19 Radiography Database/NORMAL/NORMAL (222).png', 'COVID-19 Radiography Database/NORMAL/NORMAL (748).png', 'COVID-19 Radiography Database/NORMAL/NORMAL (462).png', 'COVID-19 Radiography Database/NORMAL/NORMAL (724).png', 'COVID-19 Radiography Database/NORMAL/NORMAL (646).png', 'COVID-19 Radiography Database/NORMAL/NORMAL (226).png', 'COVID-19 Radiography Database/NORMAL/NORMAL (484).png', 'COVID-19 Radiography Database/NORMAL/NORMAL (519).png', 'COVID-19 Radiography Database/NORMAL/NORMAL (680).png', 'COVID-19 Radiography Database/NORMAL/NORMAL (343).png', 'COVID-19 Radiography Database/NORMAL/NORMAL (123).png', 'COVID-19 Radiography Database/NORMAL/NORMAL (823).png', 'COVID-19 Radiography Database/NORMAL/NORMAL (311).png', 'COVID-19 Radiography Database/NORMAL/NORMAL (632).png', 'COVID-19 Radiography Database/NORMAL/NORMAL (349).png', 'COVID-19 Radiography Database/NORMAL/NORMAL (954).png', 'COVID-19 Radiography Database/NORMAL/NORMAL (872).png', 'COVID-19 Radiography Database/NORMAL/NORMAL (480).png', 'COVID-19 Radiography Database/NORMAL/NORMAL (1186).png', 'COVID-19 Radiography Database/NORMAL/NORMAL (644).png', 'COVID-19 Radiography Database/NORMAL/NORMAL (1298).png', 'COVID-19 Radiography Database/NORMAL/NORMAL (239).png', 'COVID-19 Radiography Database/NORMAL/NORMAL (764).png', 'COVID-19 Radiography Database/NORMAL/NORMAL (201).png', 'COVID-19 Radiography Database/NORMAL/NORMAL (1072).png', 'COVID-19 Radiography Database/NORMAL/NORMAL (1101).png', 'COVID-19 Radiography Database/NORMAL/NORMAL (949).png', 'COVID-19 Radiography Database/NORMAL/NORMAL (1121).png', 'COVID-19 Radiography Database/NORMAL/NORMAL (232).png', 'COVID-19 Radiography Database/NORMAL/NORMAL (150).png', 'COVID-19 Radiography Database/NORMAL/NORMAL (1237).png', 'COVID-19 Radiography Database/NORMAL/NORMAL (1244).png', 'COVID-19 Radiography Database/NORMAL/NORMAL (72).png', 'COVID-19 Radiography Database/NORMAL/NORMAL (356).png', 'COVID-19 Radiography Database/NORMAL/NORMAL (505).png', 'COVID-19 Radiography Database/NORMAL/NORMAL (990).png', 'COVID-19 Radiography Database/NORMAL/NORMAL (20).png', 'COVID-19 Radiography Database/NORMAL/NORMAL (198).png', 'COVID-19 Radiography Database/NORMAL/NORMAL (495).png', 'COVID-19 Radiography Database/NORMAL/NORMAL (874).png', 'COVID-19 Radiography Database/NORMAL/NORMAL (1335).png', 'COVID-19 Radiography Database/NORMAL/NORMAL (1102).png', 'COVID-19 Radiography Database/NORMAL/NORMAL (447).png', 'COVID-19 Radiography Database/NORMAL/NORMAL (790).png', 'COVID-19 Radiography Database/NORMAL/NORMAL (655).png', 'COVID-19 Radiography Database/NORMAL/NORMAL (1331).png', 'COVID-19 Radiography Database/NORMAL/NORMAL (785).png', 'COVID-19 Radiography Database/NORMAL/NORMAL (1003).png', 'COVID-19 Radiography Database/NORMAL/NORMAL (931).png', 'COVID-19 Radiography Database/NORMAL/NORMAL (1296).png', 'COVID-19 Radiography Database/NORMAL/NORMAL (1054).png', 'COVID-19 Radiography Database/NORMAL/NORMAL (346).png', 'COVID-19 Radiography Database/NORMAL/NORMAL (1161).png', 'COVID-19 Radiography Database/NORMAL/NORMAL (520).png', 'COVID-19 Radiography Database/NORMAL/NORMAL (687).png', 'COVID-19 Radiography Database/NORMAL/NORMAL (19).png', 'COVID-19 Radiography Database/NORMAL/NORMAL (723).png', 'COVID-19 Radiography Database/NORMAL/NORMAL (1234).png', 'COVID-19 Radiography Database/NORMAL/NORMAL (202).png', 'COVID-19 Radiography Database/NORMAL/NORMAL (941).png', 'COVID-19 Radiography Database/NORMAL/NORMAL (53).png', 'COVID-19 Radiography Database/NORMAL/NORMAL (1130).png', 'COVID-19 Radiography Database/NORMAL/NORMAL (978).png', 'COVID-19 Radiography Database/NORMAL/NORMAL (1302).png', 'COVID-19 Radiography Database/NORMAL/NORMAL (545).png', 'COVID-19 Radiography Database/NORMAL/NORMAL (1207).png', 'COVID-19 Radiography Database/NORMAL/NORMAL (244).png', 'COVID-19 Radiography Database/NORMAL/NORMAL (841).png', 'COVID-19 Radiography Database/NORMAL/NORMAL (381).png', 'COVID-19 Radiography Database/NORMAL/NORMAL (923).png', 'COVID-19 Radiography Database/NORMAL/NORMAL (301).png', 'COVID-19 Radiography Database/NORMAL/NORMAL (864).png', 'COVID-19 Radiography Database/NORMAL/NORMAL (360).png', 'COVID-19 Radiography Database/NORMAL/NORMAL (1025).png', 'COVID-19 Radiography Database/NORMAL/NORMAL (1263).png', 'COVID-19 Radiography Database/NORMAL/NORMAL (721).png', 'COVID-19 Radiography Database/NORMAL/NORMAL (1089).png', 'COVID-19 Radiography Database/NORMAL/NORMAL (552).png', 'COVID-19 Radiography Database/NORMAL/NORMAL (995).png', 'COVID-19 Radiography Database/NORMAL/NORMAL (1042).png', 'COVID-19 Radiography Database/NORMAL/NORMAL (362).png', 'COVID-19 Radiography Database/NORMAL/NORMAL (1317).png', 'COVID-19 Radiography Database/NORMAL/NORMAL (1185).png', 'COVID-19 Radiography Database/NORMAL/NORMAL (1098).png', 'COVID-19 Radiography Database/NORMAL/NORMAL (588).png', 'COVID-19 Radiography Database/NORMAL/NORMAL (585).png', 'COVID-19 Radiography Database/NORMAL/NORMAL (1257).png', 'COVID-19 Radiography Database/NORMAL/NORMAL (971).png', 'COVID-19 Radiography Database/NORMAL/NORMAL (304).png', 'COVID-19 Radiography Database/NORMAL/NORMAL (191).png', 'COVID-19 Radiography Database/NORMAL/NORMAL (881).png', 'COVID-19 Radiography Database/NORMAL/NORMAL (1232).png', 'COVID-19 Radiography Database/NORMAL/NORMAL (1070).png', 'COVID-19 Radiography Database/NORMAL/NORMAL (772).png', 'COVID-19 Radiography Database/NORMAL/NORMAL (834).png', 'COVID-19 Radiography Database/NORMAL/NORMAL (153).png', 'COVID-19 Radiography Database/NORMAL/NORMAL (691).png', 'COVID-19 Radiography Database/NORMAL/NORMAL (657).png', 'COVID-19 Radiography Database/NORMAL/NORMAL (1009).png', 'COVID-19 Radiography Database/NORMAL/NORMAL (95).png', 'COVID-19 Radiography Database/NORMAL/NORMAL (427).png', 'COVID-19 Radiography Database/NORMAL/NORMAL (795).png', 'COVID-19 Radiography Database/NORMAL/NORMAL (1020).png', 'COVID-19 Radiography Database/NORMAL/NORMAL (969).png', 'COVID-19 Radiography Database/NORMAL/NORMAL (253).png', 'COVID-19 Radiography Database/NORMAL/NORMAL (365).png', 'COVID-19 Radiography Database/NORMAL/NORMAL (845).png', 'COVID-19 Radiography Database/NORMAL/NORMAL (736).png', 'COVID-19 Radiography Database/NORMAL/NORMAL (649).png', 'COVID-19 Radiography Database/NORMAL/NORMAL (444).png', 'COVID-19 Radiography Database/NORMAL/NORMAL (254).png', 'COVID-19 Radiography Database/NORMAL/NORMAL (606).png', 'COVID-19 Radiography Database/NORMAL/NORMAL (284).png', 'COVID-19 Radiography Database/NORMAL/NORMAL (694).png', 'COVID-19 Radiography Database/NORMAL/NORMAL (366).png', 'COVID-19 Radiography Database/NORMAL/NORMAL (387).png', 'COVID-19 Radiography Database/NORMAL/NORMAL (1269).png', 'COVID-19 Radiography Database/NORMAL/NORMAL (1078).png', 'COVID-19 Radiography Database/NORMAL/NORMAL (1243).png', 'COVID-19 Radiography Database/NORMAL/NORMAL (435).png', 'COVID-19 Radiography Database/NORMAL/NORMAL (1262).png', 'COVID-19 Radiography Database/NORMAL/NORMAL (1307).png', 'COVID-19 Radiography Database/NORMAL/NORMAL (843).png', 'COVID-19 Radiography Database/NORMAL/NORMAL (703).png', 'COVID-19 Radiography Database/NORMAL/NORMAL (46).png', 'COVID-19 Radiography Database/NORMAL/NORMAL (1235).png', 'COVID-19 Radiography Database/NORMAL/NORMAL (549).png', 'COVID-19 Radiography Database/NORMAL/NORMAL (454).png', 'COVID-19 Radiography Database/NORMAL/NORMAL (1290).png', 'COVID-19 Radiography Database/NORMAL/NORMAL (113).png', 'COVID-19 Radiography Database/NORMAL/NORMAL (278).png', 'COVID-19 Radiography Database/NORMAL/NORMAL (428).png', 'COVID-19 Radiography Database/NORMAL/NORMAL (1324).png', 'COVID-19 Radiography Database/NORMAL/NORMAL (511).png', 'COVID-19 Radiography Database/NORMAL/NORMAL (63).png', 'COVID-19 Radiography Database/NORMAL/NORMAL (534).png', 'COVID-19 Radiography Database/NORMAL/NORMAL (114).png', 'COVID-19 Radiography Database/NORMAL/NORMAL (808).png', 'COVID-19 Radiography Database/NORMAL/NORMAL (1159).png', 'COVID-19 Radiography Database/NORMAL/NORMAL (601).png', 'COVID-19 Radiography Database/NORMAL/NORMAL (18).png', 'COVID-19 Radiography Database/NORMAL/NORMAL (844).png', 'COVID-19 Radiography Database/NORMAL/NORMAL (1305).png', 'COVID-19 Radiography Database/NORMAL/NORMAL (369).png', 'COVID-19 Radiography Database/NORMAL/NORMAL (345).png', 'COVID-19 Radiography Database/NORMAL/NORMAL (804).png', 'COVID-19 Radiography Database/NORMAL/NORMAL (299).png', 'COVID-19 Radiography Database/NORMAL/NORMAL (781).png', 'COVID-19 Radiography Database/NORMAL/NORMAL (494).png', 'COVID-19 Radiography Database/NORMAL/NORMAL (1057).png', 'COVID-19 Radiography Database/NORMAL/NORMAL (375).png', 'COVID-19 Radiography Database/NORMAL/NORMAL (59).png', 'COVID-19 Radiography Database/NORMAL/NORMAL (10).png', 'COVID-19 Radiography Database/NORMAL/NORMAL (798).png', 'COVID-19 Radiography Database/NORMAL/NORMAL (647).png', 'COVID-19 Radiography Database/NORMAL/NORMAL (81).png', 'COVID-19 Radiography Database/NORMAL/NORMAL (1165).png', 'COVID-19 Radiography Database/NORMAL/NORMAL (1260).png', 'COVID-19 Radiography Database/NORMAL/NORMAL (1069).png', 'COVID-19 Radiography Database/NORMAL/NORMAL (1314).png', 'COVID-19 Radiography Database/NORMAL/NORMAL (642).png', 'COVID-19 Radiography Database/NORMAL/NORMAL (939).png', 'COVID-19 Radiography Database/NORMAL/NORMAL (384).png', 'COVID-19 Radiography Database/NORMAL/NORMAL (621).png', 'COVID-19 Radiography Database/NORMAL/NORMAL (1334).png', 'COVID-19 Radiography Database/NORMAL/NORMAL (195).png', 'COVID-19 Radiography Database/NORMAL/NORMAL (875).png', 'COVID-19 Radiography Database/NORMAL/NORMAL (599).png', 'COVID-19 Radiography Database/NORMAL/NORMAL (565).png', 'COVID-19 Radiography Database/NORMAL/NORMAL (351).png', 'COVID-19 Radiography Database/NORMAL/NORMAL (861).png', 'COVID-19 Radiography Database/NORMAL/NORMAL (943).png', 'COVID-19 Radiography Database/NORMAL/NORMAL (418).png', 'COVID-19 Radiography Database/NORMAL/NORMAL (1030).png', 'COVID-19 Radiography Database/NORMAL/NORMAL (1221).png', 'COVID-19 Radiography Database/NORMAL/NORMAL (541).png', 'COVID-19 Radiography Database/NORMAL/NORMAL (286).png', 'COVID-19 Radiography Database/NORMAL/NORMAL (500).png', 'COVID-19 Radiography Database/NORMAL/NORMAL (1050).png', 'COVID-19 Radiography Database/NORMAL/NORMAL (104).png', 'COVID-19 Radiography Database/NORMAL/NORMAL (1310).png', 'COVID-19 Radiography Database/NORMAL/NORMAL (793).png', 'COVID-19 Radiography Database/NORMAL/NORMAL (814).png', 'COVID-19 Radiography Database/NORMAL/NORMAL (89).png', 'COVID-19 Radiography Database/NORMAL/NORMAL (1297).png', 'COVID-19 Radiography Database/NORMAL/NORMAL (315).png', 'COVID-19 Radiography Database/NORMAL/NORMAL (209).png', 'COVID-19 Radiography Database/NORMAL/NORMAL (1027).png', 'COVID-19 Radiography Database/NORMAL/NORMAL (1178).png', 'COVID-19 Radiography Database/NORMAL/NORMAL (1036).png', 'COVID-19 Radiography Database/NORMAL/NORMAL (431).png', 'COVID-19 Radiography Database/NORMAL/NORMAL (539).png', 'COVID-19 Radiography Database/NORMAL/NORMAL (769).png', 'COVID-19 Radiography Database/NORMAL/NORMAL (8).png', 'COVID-19 Radiography Database/NORMAL/NORMAL (548).png', 'COVID-19 Radiography Database/NORMAL/NORMAL (413).png', 'COVID-19 Radiography Database/NORMAL/NORMAL (433).png', 'COVID-19 Radiography Database/NORMAL/NORMAL (1021).png', 'COVID-19 Radiography Database/NORMAL/NORMAL (1222).png', 'COVID-19 Radiography Database/NORMAL/NORMAL (572).png', 'COVID-19 Radiography Database/NORMAL/NORMAL (516).png', 'COVID-19 Radiography Database/NORMAL/NORMAL (1228).png', 'COVID-19 Radiography Database/NORMAL/NORMAL (1074).png', 'COVID-19 Radiography Database/NORMAL/NORMAL (1197).png', 'COVID-19 Radiography Database/NORMAL/NORMAL (696).png', 'COVID-19 Radiography Database/NORMAL/NORMAL (1114).png', 'COVID-19 Radiography Database/NORMAL/NORMAL (1194).png', 'COVID-19 Radiography Database/NORMAL/NORMAL (194).png', 'COVID-19 Radiography Database/NORMAL/NORMAL (938).png', 'COVID-19 Radiography Database/NORMAL/NORMAL (580).png', 'COVID-19 Radiography Database/NORMAL/NORMAL (358).png', 'COVID-19 Radiography Database/NORMAL/NORMAL (265).png', 'COVID-19 Radiography Database/NORMAL/NORMAL (981).png', 'COVID-19 Radiography Database/NORMAL/NORMAL (523).png', 'COVID-19 Radiography Database/NORMAL/NORMAL (737).png', 'COVID-19 Radiography Database/NORMAL/NORMAL (334).png', 'COVID-19 Radiography Database/NORMAL/NORMAL (1250).png', 'COVID-19 Radiography Database/NORMAL/NORMAL (424).png', 'COVID-19 Radiography Database/NORMAL/NORMAL (350).png', 'COVID-19 Radiography Database/NORMAL/NORMAL (16).png', 'COVID-19 Radiography Database/NORMAL/NORMAL (854).png', 'COVID-19 Radiography Database/NORMAL/NORMAL (262).png', 'COVID-19 Radiography Database/NORMAL/NORMAL (569).png', 'COVID-19 Radiography Database/NORMAL/NORMAL (627).png', 'COVID-19 Radiography Database/NORMAL/NORMAL (396).png', 'COVID-19 Radiography Database/NORMAL/NORMAL (710).png', 'COVID-19 Radiography Database/NORMAL/NORMAL (7).png', 'COVID-19 Radiography Database/NORMAL/NORMAL (641).png', 'COVID-19 Radiography Database/NORMAL/NORMAL (388).png', 'COVID-19 Radiography Database/NORMAL/NORMAL (1075).png', 'COVID-19 Radiography Database/NORMAL/NORMAL (426).png', 'COVID-19 Radiography Database/NORMAL/NORMAL (775).png', 'COVID-19 Radiography Database/NORMAL/NORMAL (167).png', 'COVID-19 Radiography Database/NORMAL/NORMAL (557).png', 'COVID-19 Radiography Database/NORMAL/NORMAL (688).png', 'COVID-19 Radiography Database/NORMAL/NORMAL (156).png', 'COVID-19 Radiography Database/NORMAL/NORMAL (1218).png', 'COVID-19 Radiography Database/NORMAL/NORMAL (1217).png', 'COVID-19 Radiography Database/NORMAL/NORMAL (968).png', 'COVID-19 Radiography Database/NORMAL/NORMAL (807).png', 'COVID-19 Radiography Database/NORMAL/NORMAL (695).png', 'COVID-19 Radiography Database/NORMAL/NORMAL (399).png', 'COVID-19 Radiography Database/NORMAL/NORMAL (720).png', 'COVID-19 Radiography Database/NORMAL/NORMAL (658).png', 'COVID-19 Radiography Database/NORMAL/NORMAL (332).png', 'COVID-19 Radiography Database/NORMAL/NORMAL (189).png', 'COVID-19 Radiography Database/NORMAL/NORMAL (234).png', 'COVID-19 Radiography Database/NORMAL/NORMAL (509).png', 'COVID-19 Radiography Database/NORMAL/NORMAL (1083).png', 'COVID-19 Radiography Database/NORMAL/NORMAL (61).png', 'COVID-19 Radiography Database/NORMAL/NORMAL (871).png', 'COVID-19 Radiography Database/NORMAL/NORMAL (33).png', 'COVID-19 Radiography Database/NORMAL/NORMAL (664).png', 'COVID-19 Radiography Database/NORMAL/NORMAL (1144).png', 'COVID-19 Radiography Database/NORMAL/NORMAL (824).png', 'COVID-19 Radiography Database/NORMAL/NORMAL (305).png', 'COVID-19 Radiography Database/NORMAL/NORMAL (488).png', 'COVID-19 Radiography Database/NORMAL/NORMAL (992).png', 'COVID-19 Radiography Database/NORMAL/NORMAL (819).png', 'COVID-19 Radiography Database/NORMAL/NORMAL (294).png', 'COVID-19 Radiography Database/NORMAL/NORMAL (1029).png', 'COVID-19 Radiography Database/NORMAL/NORMAL (754).png', 'COVID-19 Radiography Database/NORMAL/NORMAL (92).png', 'COVID-19 Radiography Database/NORMAL/NORMAL (1167).png', 'COVID-19 Radiography Database/NORMAL/NORMAL (1014).png', 'COVID-19 Radiography Database/NORMAL/NORMAL (980).png', 'COVID-19 Radiography Database/NORMAL/NORMAL (395).png', 'COVID-19 Radiography Database/NORMAL/NORMAL (165).png', 'COVID-19 Radiography Database/NORMAL/NORMAL (178).png', 'COVID-19 Radiography Database/NORMAL/NORMAL (831).png', 'COVID-19 Radiography Database/NORMAL/NORMAL (579).png', 'COVID-19 Radiography Database/NORMAL/NORMAL (972).png', 'COVID-19 Radiography Database/NORMAL/NORMAL (888).png', 'COVID-19 Radiography Database/NORMAL/NORMAL (1274).png', 'COVID-19 Radiography Database/NORMAL/NORMAL (1276).png', 'COVID-19 Radiography Database/NORMAL/NORMAL (470).png', 'COVID-19 Radiography Database/NORMAL/NORMAL (316).png', 'COVID-19 Radiography Database/NORMAL/NORMAL (517).png', 'COVID-19 Radiography Database/NORMAL/NORMAL (406).png', 'COVID-19 Radiography Database/NORMAL/NORMAL (1007).png', 'COVID-19 Radiography Database/NORMAL/NORMAL (634).png', 'COVID-19 Radiography Database/NORMAL/NORMAL (637).png', 'COVID-19 Radiography Database/NORMAL/NORMAL (860).png', 'COVID-19 Radiography Database/NORMAL/NORMAL (77).png', 'COVID-19 Radiography Database/NORMAL/NORMAL (1312).png', 'COVID-19 Radiography Database/NORMAL/NORMAL (335).png', 'COVID-19 Radiography Database/NORMAL/NORMAL (1034).png', 'COVID-19 Radiography Database/NORMAL/NORMAL (801).png', 'COVID-19 Radiography Database/NORMAL/NORMAL (30).png', 'COVID-19 Radiography Database/NORMAL/NORMAL (894).png', 'COVID-19 Radiography Database/NORMAL/NORMAL (962).png', 'COVID-19 Radiography Database/NORMAL/NORMAL (974).png', 'COVID-19 Radiography Database/NORMAL/NORMAL (140).png', 'COVID-19 Radiography Database/NORMAL/NORMAL (700).png', 'COVID-19 Radiography Database/NORMAL/NORMAL (134).png', 'COVID-19 Radiography Database/NORMAL/NORMAL (609).png', 'COVID-19 Radiography Database/NORMAL/NORMAL (159).png', 'COVID-19 Radiography Database/NORMAL/NORMAL (1320).png', 'COVID-19 Radiography Database/NORMAL/NORMAL (220).png', 'COVID-19 Radiography Database/NORMAL/NORMAL (144).png', 'COVID-19 Radiography Database/NORMAL/NORMAL (502).png', 'COVID-19 Radiography Database/NORMAL/NORMAL (689).png', 'COVID-19 Radiography Database/NORMAL/NORMAL (394).png', 'COVID-19 Radiography Database/NORMAL/NORMAL (512).png', 'COVID-19 Radiography Database/NORMAL/NORMAL (32).png', 'COVID-19 Radiography Database/NORMAL/NORMAL (920).png', 'COVID-19 Radiography Database/NORMAL/NORMAL (914).png', 'COVID-19 Radiography Database/NORMAL/NORMAL (880).png', 'COVID-19 Radiography Database/NORMAL/NORMAL (925).png', 'COVID-19 Radiography Database/NORMAL/NORMAL (1122).png', 'COVID-19 Radiography Database/NORMAL/NORMAL (208).png', 'COVID-19 Radiography Database/NORMAL/NORMAL (751).png', 'COVID-19 Radiography Database/NORMAL/NORMAL (142).png', 'COVID-19 Radiography Database/NORMAL/NORMAL (717).png', 'COVID-19 Radiography Database/NORMAL/NORMAL (1111).png', 'COVID-19 Radiography Database/NORMAL/NORMAL (1242).png', 'COVID-19 Radiography Database/NORMAL/NORMAL (196).png', 'COVID-19 Radiography Database/NORMAL/NORMAL (128).png', 'COVID-19 Radiography Database/NORMAL/NORMAL (342).png', 'COVID-19 Radiography Database/NORMAL/NORMAL (922).png', 'COVID-19 Radiography Database/NORMAL/NORMAL (905).png', 'COVID-19 Radiography Database/NORMAL/NORMAL (466).png', 'COVID-19 Radiography Database/NORMAL/NORMAL (296).png', 'COVID-19 Radiography Database/NORMAL/NORMAL (1322).png', 'COVID-19 Radiography Database/NORMAL/NORMAL (483).png', 'COVID-19 Radiography Database/NORMAL/NORMAL (1164).png', 'COVID-19 Radiography Database/NORMAL/NORMAL (816).png', 'COVID-19 Radiography Database/NORMAL/NORMAL (58).png', 'COVID-19 Radiography Database/NORMAL/NORMAL (62).png', 'COVID-19 Radiography Database/NORMAL/NORMAL (238).png', 'COVID-19 Radiography Database/NORMAL/NORMAL (862).png', 'COVID-19 Radiography Database/NORMAL/NORMAL (1139).png', 'COVID-19 Radiography Database/NORMAL/NORMAL (206).png', 'COVID-19 Radiography Database/NORMAL/NORMAL (685).png', 'COVID-19 Radiography Database/NORMAL/NORMAL (442).png', 'COVID-19 Radiography Database/NORMAL/NORMAL (983).png', 'COVID-19 Radiography Database/NORMAL/NORMAL (273).png', 'COVID-19 Radiography Database/NORMAL/NORMAL (241).png', 'COVID-19 Radiography Database/NORMAL/NORMAL (66).png', 'COVID-19 Radiography Database/NORMAL/NORMAL (564).png', 'COVID-19 Radiography Database/NORMAL/NORMAL (267).png', 'COVID-19 Radiography Database/NORMAL/NORMAL (288).png', 'COVID-19 Radiography Database/NORMAL/NORMAL (1170).png', 'COVID-19 Radiography Database/NORMAL/NORMAL (1313).png', 'COVID-19 Radiography Database/NORMAL/NORMAL (1068).png', 'COVID-19 Radiography Database/NORMAL/NORMAL (402).png', 'COVID-19 Radiography Database/NORMAL/NORMAL (951).png', 'COVID-19 Radiography Database/NORMAL/NORMAL (928).png', 'COVID-19 Radiography Database/NORMAL/NORMAL (733).png', 'COVID-19 Radiography Database/NORMAL/NORMAL (652).png', 'COVID-19 Radiography Database/NORMAL/NORMAL (107).png', 'COVID-19 Radiography Database/NORMAL/NORMAL (1059).png', 'COVID-19 Radiography Database/NORMAL/NORMAL (1113).png', 'COVID-19 Radiography Database/NORMAL/NORMAL (412).png', 'COVID-19 Radiography Database/NORMAL/NORMAL (660).png', 'COVID-19 Radiography Database/NORMAL/NORMAL (932).png', 'COVID-19 Radiography Database/NORMAL/NORMAL (1046).png', 'COVID-19 Radiography Database/NORMAL/NORMAL (743).png', 'COVID-19 Radiography Database/NORMAL/NORMAL (44).png', 'COVID-19 Radiography Database/NORMAL/NORMAL (383).png', 'COVID-19 Radiography Database/NORMAL/NORMAL (651).png', 'COVID-19 Radiography Database/NORMAL/NORMAL (750).png', 'COVID-19 Radiography Database/NORMAL/NORMAL (249).png', 'COVID-19 Radiography Database/NORMAL/NORMAL (438).png', 'COVID-19 Radiography Database/NORMAL/NORMAL (35).png', 'COVID-19 Radiography Database/NORMAL/NORMAL (110).png', 'COVID-19 Radiography Database/NORMAL/NORMAL (212).png', 'COVID-19 Radiography Database/NORMAL/NORMAL (420).png', 'COVID-19 Radiography Database/NORMAL/NORMAL (15).png', 'COVID-19 Radiography Database/NORMAL/NORMAL (1125).png', 'COVID-19 Radiography Database/NORMAL/NORMAL (417).png', 'COVID-19 Radiography Database/NORMAL/NORMAL (701).png', 'COVID-19 Radiography Database/NORMAL/NORMAL (339).png', 'COVID-19 Radiography Database/NORMAL/NORMAL (725).png', 'COVID-19 Radiography Database/NORMAL/NORMAL (926).png', 'COVID-19 Radiography Database/NORMAL/NORMAL (1304).png', 'COVID-19 Radiography Database/NORMAL/NORMAL (820).png', 'COVID-19 Radiography Database/NORMAL/NORMAL (1022).png', 'COVID-19 Radiography Database/NORMAL/NORMAL (337).png', 'COVID-19 Radiography Database/NORMAL/NORMAL (1087).png', 'COVID-19 Radiography Database/NORMAL/NORMAL (407).png', 'COVID-19 Radiography Database/NORMAL/NORMAL (1291).png', 'COVID-19 Radiography Database/NORMAL/NORMAL (1055).png', 'COVID-19 Radiography Database/NORMAL/NORMAL (693).png', 'COVID-19 Radiography Database/NORMAL/NORMAL (258).png', 'COVID-19 Radiography Database/NORMAL/NORMAL (326).png', 'COVID-19 Radiography Database/NORMAL/NORMAL (893).png', 'COVID-19 Radiography Database/NORMAL/NORMAL (903).png', 'COVID-19 Radiography Database/NORMAL/NORMAL (323).png', 'COVID-19 Radiography Database/NORMAL/NORMAL (586).png', 'COVID-19 Radiography Database/NORMAL/NORMAL (1254).png', 'COVID-19 Radiography Database/NORMAL/NORMAL (389).png', 'COVID-19 Radiography Database/NORMAL/NORMAL (270).png', 'COVID-19 Radiography Database/NORMAL/NORMAL (650).png', 'COVID-19 Radiography Database/NORMAL/NORMAL (266).png', 'COVID-19 Radiography Database/NORMAL/NORMAL (235).png', 'COVID-19 Radiography Database/NORMAL/NORMAL (1240).png', 'COVID-19 Radiography Database/NORMAL/NORMAL (1039).png', 'COVID-19 Radiography Database/NORMAL/NORMAL (55).png', 'COVID-19 Radiography Database/NORMAL/NORMAL (763).png', 'COVID-19 Radiography Database/NORMAL/NORMAL (1284).png', 'COVID-19 Radiography Database/NORMAL/NORMAL (75).png', 'COVID-19 Radiography Database/NORMAL/NORMAL (966).png', 'COVID-19 Radiography Database/NORMAL/NORMAL (1051).png', 'COVID-19 Radiography Database/NORMAL/NORMAL (684).png', 'COVID-19 Radiography Database/NORMAL/NORMAL (546).png', 'COVID-19 Radiography Database/NORMAL/NORMAL (1236).png', 'COVID-19 Radiography Database/NORMAL/NORMAL (1090).png', 'COVID-19 Radiography Database/NORMAL/NORMAL (169).png', 'COVID-19 Radiography Database/NORMAL/NORMAL (1271).png', 'COVID-19 Radiography Database/NORMAL/NORMAL (213).png', 'COVID-19 Radiography Database/NORMAL/NORMAL (1202).png', 'COVID-19 Radiography Database/NORMAL/NORMAL (610).png', 'COVID-19 Radiography Database/NORMAL/NORMAL (1107).png', 'COVID-19 Radiography Database/NORMAL/NORMAL (378).png', 'COVID-19 Radiography Database/NORMAL/NORMAL (955).png', 'COVID-19 Radiography Database/NORMAL/NORMAL (975).png', 'COVID-19 Radiography Database/NORMAL/NORMAL (707).png', 'COVID-19 Radiography Database/NORMAL/NORMAL (1258).png', 'COVID-19 Radiography Database/NORMAL/NORMAL (215).png', 'COVID-19 Radiography Database/NORMAL/NORMAL (1131).png', 'COVID-19 Radiography Database/NORMAL/NORMAL (731).png', 'COVID-19 Radiography Database/NORMAL/NORMAL (199).png', 'COVID-19 Radiography Database/NORMAL/NORMAL (227).png', 'COVID-19 Radiography Database/NORMAL/NORMAL (958).png', 'COVID-19 Radiography Database/NORMAL/NORMAL (463).png', 'COVID-19 Radiography Database/NORMAL/NORMAL (960).png', 'COVID-19 Radiography Database/NORMAL/NORMAL (679).png', 'COVID-19 Radiography Database/NORMAL/NORMAL (1255).png', 'COVID-19 Radiography Database/NORMAL/NORMAL (1277).png', 'COVID-19 Radiography Database/NORMAL/NORMAL (430).png', 'COVID-19 Radiography Database/NORMAL/NORMAL (74).png', 'COVID-19 Radiography Database/NORMAL/NORMAL (890).png', 'COVID-19 Radiography Database/NORMAL/NORMAL (1328).png', 'COVID-19 Radiography Database/NORMAL/NORMAL (735).png', 'COVID-19 Radiography Database/NORMAL/NORMAL (986).png', 'COVID-19 Radiography Database/NORMAL/NORMAL (970).png', 'COVID-19 Radiography Database/NORMAL/NORMAL (319).png', 'COVID-19 Radiography Database/NORMAL/NORMAL (1326).png', 'COVID-19 Radiography Database/NORMAL/NORMAL (1181).png', 'COVID-19 Radiography Database/NORMAL/NORMAL (148).png', 'COVID-19 Radiography Database/NORMAL/NORMAL (568).png', 'COVID-19 Radiography Database/NORMAL/NORMAL (1094).png', 'COVID-19 Radiography Database/NORMAL/NORMAL (348).png', 'COVID-19 Radiography Database/NORMAL/NORMAL (1088).png', 'COVID-19 Radiography Database/NORMAL/NORMAL (867).png', 'COVID-19 Radiography Database/NORMAL/NORMAL (403).png', 'COVID-19 Radiography Database/NORMAL/NORMAL (583).png', 'COVID-19 Radiography Database/NORMAL/NORMAL (998).png', 'COVID-19 Radiography Database/NORMAL/NORMAL (119).png', 'COVID-19 Radiography Database/NORMAL/NORMAL (940).png', 'COVID-19 Radiography Database/NORMAL/NORMAL (436).png', 'COVID-19 Radiography Database/NORMAL/NORMAL (458).png', 'COVID-19 Radiography Database/NORMAL/NORMAL (211).png', 'COVID-19 Radiography Database/NORMAL/NORMAL (130).png', 'COVID-19 Radiography Database/NORMAL/NORMAL (1134).png', 'COVID-19 Radiography Database/NORMAL/NORMAL (1189).png', 'COVID-19 Radiography Database/NORMAL/NORMAL (659).png', 'COVID-19 Radiography Database/NORMAL/NORMAL (233).png', 'COVID-19 Radiography Database/NORMAL/NORMAL (1270).png', 'COVID-19 Radiography Database/NORMAL/NORMAL (1119).png', 'COVID-19 Radiography Database/NORMAL/NORMAL (889).png', 'COVID-19 Radiography Database/NORMAL/NORMAL (847).png', 'COVID-19 Radiography Database/NORMAL/NORMAL (125).png', 'COVID-19 Radiography Database/NORMAL/NORMAL (1132).png', 'COVID-19 Radiography Database/NORMAL/NORMAL (250).png', 'COVID-19 Radiography Database/NORMAL/NORMAL (713).png', 'COVID-19 Radiography Database/NORMAL/NORMAL (91).png', 'COVID-19 Radiography Database/NORMAL/NORMAL (457).png', 'COVID-19 Radiography Database/NORMAL/NORMAL (205).png', 'COVID-19 Radiography Database/NORMAL/NORMAL (1127).png', 'COVID-19 Radiography Database/NORMAL/NORMAL (51).png', 'COVID-19 Radiography Database/NORMAL/NORMAL (1272).png', 'COVID-19 Radiography Database/NORMAL/NORMAL (709).png', 'COVID-19 Radiography Database/NORMAL/NORMAL (1142).png', 'COVID-19 Radiography Database/NORMAL/NORMAL (719).png', 'COVID-19 Radiography Database/NORMAL/NORMAL (612).png', 'COVID-19 Radiography Database/NORMAL/NORMAL (179).png', 'COVID-19 Radiography Database/NORMAL/NORMAL (853).png', 'COVID-19 Radiography Database/NORMAL/NORMAL (439).png', 'COVID-19 Radiography Database/NORMAL/NORMAL (103).png', 'COVID-19 Radiography Database/NORMAL/NORMAL (883).png', 'COVID-19 Radiography Database/NORMAL/NORMAL (797).png', 'COVID-19 Radiography Database/NORMAL/NORMAL (789).png', 'COVID-19 Radiography Database/NORMAL/NORMAL (1286).png', 'COVID-19 Radiography Database/NORMAL/NORMAL (527).png', 'COVID-19 Radiography Database/NORMAL/NORMAL (314).png', 'COVID-19 Radiography Database/NORMAL/NORMAL (100).png', 'COVID-19 Radiography Database/NORMAL/NORMAL (908).png', 'COVID-19 Radiography Database/NORMAL/NORMAL (1203).png', 'COVID-19 Radiography Database/NORMAL/NORMAL (1154).png', 'COVID-19 Radiography Database/NORMAL/NORMAL (728).png', 'COVID-19 Radiography Database/NORMAL/NORMAL (54).png', 'COVID-19 Radiography Database/NORMAL/NORMAL (23).png', 'COVID-19 Radiography Database/NORMAL/NORMAL (681).png', 'COVID-19 Radiography Database/NORMAL/NORMAL (469).png', 'COVID-19 Radiography Database/NORMAL/NORMAL (560).png', 'COVID-19 Radiography Database/NORMAL/NORMAL (1216).png', 'COVID-19 Radiography Database/NORMAL/NORMAL (1171).png', 'COVID-19 Radiography Database/NORMAL/NORMAL (953).png', 'COVID-19 Radiography Database/NORMAL/NORMAL (832).png', 'COVID-19 Radiography Database/NORMAL/NORMAL (146).png', 'COVID-19 Radiography Database/NORMAL/NORMAL (493).png', 'COVID-19 Radiography Database/NORMAL/NORMAL (1097).png', 'COVID-19 Radiography Database/NORMAL/NORMAL (1301).png', 'COVID-19 Radiography Database/NORMAL/NORMAL (183).png', 'COVID-19 Radiography Database/NORMAL/NORMAL (1247).png', 'COVID-19 Radiography Database/NORMAL/NORMAL (746).png', 'COVID-19 Radiography Database/NORMAL/NORMAL (827).png', 'COVID-19 Radiography Database/NORMAL/NORMAL (777).png', 'COVID-19 Radiography Database/NORMAL/NORMAL (176).png', 'COVID-19 Radiography Database/NORMAL/NORMAL (959).png', 'COVID-19 Radiography Database/NORMAL/NORMAL (1151).png', 'COVID-19 Radiography Database/NORMAL/NORMAL (677).png', 'COVID-19 Radiography Database/NORMAL/NORMAL (1175).png', 'COVID-19 Radiography Database/NORMAL/NORMAL (36).png', 'COVID-19 Radiography Database/NORMAL/NORMAL (330).png', 'COVID-19 Radiography Database/NORMAL/NORMAL (251).png', 'COVID-19 Radiography Database/NORMAL/NORMAL (667).png', 'COVID-19 Radiography Database/NORMAL/NORMAL (1076).png', 'COVID-19 Radiography Database/NORMAL/NORMAL (630).png', 'COVID-19 Radiography Database/NORMAL/NORMAL (185).png', 'COVID-19 Radiography Database/NORMAL/NORMAL (1031).png', 'COVID-19 Radiography Database/NORMAL/NORMAL (217).png', 'COVID-19 Radiography Database/NORMAL/NORMAL (530).png', 'COVID-19 Radiography Database/NORMAL/NORMAL (1037).png', 'COVID-19 Radiography Database/NORMAL/NORMAL (476).png', 'COVID-19 Radiography Database/NORMAL/NORMAL (645).png', 'COVID-19 Radiography Database/NORMAL/NORMAL (143).png', 'COVID-19 Radiography Database/NORMAL/NORMAL (1332).png', 'COVID-19 Radiography Database/NORMAL/NORMAL (835).png', 'COVID-19 Radiography Database/NORMAL/NORMAL (277).png', 'COVID-19 Radiography Database/NORMAL/NORMAL (755).png', 'COVID-19 Radiography Database/NORMAL/NORMAL (1299).png', 'COVID-19 Radiography Database/NORMAL/NORMAL (729).png', 'COVID-19 Radiography Database/NORMAL/NORMAL (310).png', 'COVID-19 Radiography Database/NORMAL/NORMAL (295).png', 'COVID-19 Radiography Database/NORMAL/NORMAL (842).png', 'COVID-19 Radiography Database/NORMAL/NORMAL (325).png', 'COVID-19 Radiography Database/NORMAL/NORMAL (900).png', 'COVID-19 Radiography Database/NORMAL/NORMAL (553).png', 'COVID-19 Radiography Database/NORMAL/NORMAL (784).png', 'COVID-19 Radiography Database/NORMAL/NORMAL (1227).png', 'COVID-19 Radiography Database/NORMAL/NORMAL (783).png', 'COVID-19 Radiography Database/NORMAL/NORMAL (354).png', 'COVID-19 Radiography Database/NORMAL/NORMAL (788).png', 'COVID-19 Radiography Database/NORMAL/NORMAL (554).png', 'COVID-19 Radiography Database/NORMAL/NORMAL (918).png', 'COVID-19 Radiography Database/NORMAL/NORMAL (929).png', 'COVID-19 Radiography Database/NORMAL/NORMAL (567).png', 'COVID-19 Radiography Database/NORMAL/NORMAL (578).png', 'COVID-19 Radiography Database/NORMAL/NORMAL (401).png', 'COVID-19 Radiography Database/NORMAL/NORMAL (247).png', 'COVID-19 Radiography Database/NORMAL/NORMAL (355).png', 'COVID-19 Radiography Database/NORMAL/NORMAL (404).png', 'COVID-19 Radiography Database/NORMAL/NORMAL (76).png', 'COVID-19 Radiography Database/NORMAL/NORMAL (757).png', 'COVID-19 Radiography Database/NORMAL/NORMAL (48).png', 'COVID-19 Radiography Database/NORMAL/NORMAL (1200).png', 'COVID-19 Radiography Database/NORMAL/NORMAL (437).png', 'COVID-19 Radiography Database/NORMAL/NORMAL (193).png', 'COVID-19 Radiography Database/NORMAL/NORMAL (1279).png', 'COVID-19 Radiography Database/NORMAL/NORMAL (1256).png', 'COVID-19 Radiography Database/NORMAL/NORMAL (78).png', 'COVID-19 Radiography Database/NORMAL/NORMAL (1176).png', 'COVID-19 Radiography Database/NORMAL/NORMAL (184).png', 'COVID-19 Radiography Database/NORMAL/NORMAL (666).png', 'COVID-19 Radiography Database/NORMAL/NORMAL (1251).png', 'COVID-19 Radiography Database/NORMAL/NORMAL (492).png', 'COVID-19 Radiography Database/NORMAL/NORMAL (86).png', 'COVID-19 Radiography Database/NORMAL/NORMAL (668).png', 'COVID-19 Radiography Database/NORMAL/NORMAL (1140).png', 'COVID-19 Radiography Database/NORMAL/NORMAL (640).png', 'COVID-19 Radiography Database/NORMAL/NORMAL (306).png', 'COVID-19 Radiography Database/NORMAL/NORMAL (536).png', 'COVID-19 Radiography Database/NORMAL/NORMAL (1045).png', 'COVID-19 Radiography Database/NORMAL/NORMAL (756).png', 'COVID-19 Radiography Database/NORMAL/NORMAL (379).png', 'COVID-19 Radiography Database/NORMAL/NORMAL (1241).png', 'COVID-19 Radiography Database/NORMAL/NORMAL (1099).png', 'COVID-19 Radiography Database/NORMAL/NORMAL (340).png', 'COVID-19 Radiography Database/NORMAL/NORMAL (849).png', 'COVID-19 Radiography Database/NORMAL/NORMAL (24).png', 'COVID-19 Radiography Database/NORMAL/NORMAL (416).png', 'COVID-19 Radiography Database/NORMAL/NORMAL (1136).png', 'COVID-19 Radiography Database/NORMAL/NORMAL (465).png', 'COVID-19 Radiography Database/NORMAL/NORMAL (292).png', 'COVID-19 Radiography Database/NORMAL/NORMAL (138).png', 'COVID-19 Radiography Database/NORMAL/NORMAL (210).png', 'COVID-19 Radiography Database/NORMAL/NORMAL (410).png', 'COVID-19 Radiography Database/NORMAL/NORMAL (1205).png', 'COVID-19 Radiography Database/NORMAL/NORMAL (1001).png', 'COVID-19 Radiography Database/NORMAL/NORMAL (1).png', 'COVID-19 Radiography Database/NORMAL/NORMAL (291).png', 'COVID-19 Radiography Database/NORMAL/NORMAL (504).png', 'COVID-19 Radiography Database/NORMAL/NORMAL (1085).png', 'COVID-19 Radiography Database/NORMAL/NORMAL (285).png', 'COVID-19 Radiography Database/NORMAL/NORMAL (1000).png', 'COVID-19 Radiography Database/NORMAL/NORMAL (11).png', 'COVID-19 Radiography Database/NORMAL/NORMAL (170).png', 'COVID-19 Radiography Database/NORMAL/NORMAL (726).png', 'COVID-19 Radiography Database/NORMAL/NORMAL (1210).png', 'COVID-19 Radiography Database/NORMAL/NORMAL (858).png', 'COVID-19 Radiography Database/NORMAL/NORMAL (897).png', 'COVID-19 Radiography Database/NORMAL/NORMAL (1323).png', 'COVID-19 Radiography Database/NORMAL/NORMAL (141).png', 'COVID-19 Radiography Database/NORMAL/NORMAL (87).png', 'COVID-19 Radiography Database/NORMAL/NORMAL (172).png', 'COVID-19 Radiography Database/NORMAL/NORMAL (181).png', 'COVID-19 Radiography Database/NORMAL/NORMAL (175).png', 'COVID-19 Radiography Database/NORMAL/NORMAL (738).png', 'COVID-19 Radiography Database/NORMAL/NORMAL (683).png', 'COVID-19 Radiography Database/NORMAL/NORMAL (1028).png', 'COVID-19 Radiography Database/NORMAL/NORMAL (1160).png', 'COVID-19 Radiography Database/NORMAL/NORMAL (1306).png', 'COVID-19 Radiography Database/NORMAL/NORMAL (12).png', 'COVID-19 Radiography Database/NORMAL/NORMAL (678).png', 'COVID-19 Radiography Database/NORMAL/NORMAL (468).png', 'COVID-19 Radiography Database/NORMAL/NORMAL (829).png', 'COVID-19 Radiography Database/NORMAL/NORMAL (1145).png', 'COVID-19 Radiography Database/NORMAL/NORMAL (180).png', 'COVID-19 Radiography Database/NORMAL/NORMAL (464).png', 'COVID-19 Radiography Database/NORMAL/NORMAL (1229).png', 'COVID-19 Radiography Database/NORMAL/NORMAL (318).png', 'COVID-19 Radiography Database/NORMAL/NORMAL (50).png', 'COVID-19 Radiography Database/NORMAL/NORMAL (411).png', 'COVID-19 Radiography Database/NORMAL/NORMAL (1231).png', 'COVID-19 Radiography Database/NORMAL/NORMAL (577).png', 'COVID-19 Radiography Database/NORMAL/NORMAL (1166).png', 'COVID-19 Radiography Database/NORMAL/NORMAL (885).png', 'COVID-19 Radiography Database/NORMAL/NORMAL (489).png', 'COVID-19 Radiography Database/NORMAL/NORMAL (1193).png', 'COVID-19 Radiography Database/NORMAL/NORMAL (1294).png', 'COVID-19 Radiography Database/NORMAL/NORMAL (869).png', 'COVID-19 Radiography Database/NORMAL/NORMAL (129).png', 'COVID-19 Radiography Database/NORMAL/NORMAL (158).png', 'COVID-19 Radiography Database/NORMAL/NORMAL (698).png', 'COVID-19 Radiography Database/NORMAL/NORMAL (3).png', 'COVID-19 Radiography Database/NORMAL/NORMAL (1013).png', 'COVID-19 Radiography Database/NORMAL/NORMAL (352).png', 'COVID-19 Radiography Database/NORMAL/NORMAL (117).png', 'COVID-19 Radiography Database/NORMAL/NORMAL (1004).png', 'COVID-19 Radiography Database/NORMAL/NORMAL (331).png', 'COVID-19 Radiography Database/NORMAL/NORMAL (921).png', 'COVID-19 Radiography Database/NORMAL/NORMAL (149).png', 'COVID-19 Radiography Database/NORMAL/NORMAL (671).png', 'COVID-19 Radiography Database/NORMAL/NORMAL (977).png', 'COVID-19 Radiography Database/NORMAL/NORMAL (359).png', 'COVID-19 Radiography Database/NORMAL/NORMAL (782).png', 'COVID-19 Radiography Database/NORMAL/NORMAL (1008).png', 'COVID-19 Radiography Database/NORMAL/NORMAL (759).png', 'COVID-19 Radiography Database/NORMAL/NORMAL (1084).png', 'COVID-19 Radiography Database/NORMAL/NORMAL (916).png', 'COVID-19 Radiography Database/NORMAL/NORMAL (182).png', 'COVID-19 Radiography Database/NORMAL/NORMAL (1184).png', 'COVID-19 Radiography Database/NORMAL/NORMAL (1063).png', 'COVID-19 Radiography Database/NORMAL/NORMAL (848).png', 'COVID-19 Radiography Database/NORMAL/NORMAL (1329).png', 'COVID-19 Radiography Database/NORMAL/NORMAL (752).png', 'COVID-19 Radiography Database/NORMAL/NORMAL (625).png', 'COVID-19 Radiography Database/NORMAL/NORMAL (474).png', 'COVID-19 Radiography Database/NORMAL/NORMAL (524).png', 'COVID-19 Radiography Database/NORMAL/NORMAL (1105).png', 'COVID-19 Radiography Database/NORMAL/NORMAL (497).png', 'COVID-19 Radiography Database/NORMAL/NORMAL (611).png', 'COVID-19 Radiography Database/NORMAL/NORMAL (669).png', 'COVID-19 Radiography Database/NORMAL/NORMAL (1157).png', 'COVID-19 Radiography Database/NORMAL/NORMAL (806).png', 'COVID-19 Radiography Database/NORMAL/NORMAL (1264).png', 'COVID-19 Radiography Database/NORMAL/NORMAL (26).png', 'COVID-19 Radiography Database/NORMAL/NORMAL (1204).png', 'COVID-19 Radiography Database/NORMAL/NORMAL (1148).png', 'COVID-19 Radiography Database/NORMAL/NORMAL (41).png', 'COVID-19 Radiography Database/NORMAL/NORMAL (1018).png', 'COVID-19 Radiography Database/NORMAL/NORMAL (675).png', 'COVID-19 Radiography Database/NORMAL/NORMAL (47).png', 'COVID-19 Radiography Database/NORMAL/NORMAL (891).png', 'COVID-19 Radiography Database/NORMAL/NORMAL (491).png', 'COVID-19 Radiography Database/NORMAL/NORMAL (467).png', 'COVID-19 Radiography Database/NORMAL/NORMAL (218).png', 'COVID-19 Radiography Database/NORMAL/NORMAL (243).png', 'COVID-19 Radiography Database/NORMAL/NORMAL (1092).png', 'COVID-19 Radiography Database/NORMAL/NORMAL (121).png', 'COVID-19 Radiography Database/NORMAL/NORMAL (699).png', 'COVID-19 Radiography Database/NORMAL/NORMAL (886).png', 'COVID-19 Radiography Database/NORMAL/NORMAL (704).png', 'COVID-19 Radiography Database/NORMAL/NORMAL (629).png', 'COVID-19 Radiography Database/NORMAL/NORMAL (449).png', 'COVID-19 Radiography Database/NORMAL/NORMAL (302).png', 'COVID-19 Radiography Database/NORMAL/NORMAL (821).png', 'COVID-19 Radiography Database/NORMAL/NORMAL (1035).png', 'COVID-19 Radiography Database/NORMAL/NORMAL (1120).png', 'COVID-19 Radiography Database/NORMAL/NORMAL (817).png', 'COVID-19 Radiography Database/NORMAL/NORMAL (1150).png', 'COVID-19 Radiography Database/NORMAL/NORMAL (846).png', 'COVID-19 Radiography Database/NORMAL/NORMAL (907).png', 'COVID-19 Radiography Database/NORMAL/NORMAL (434).png', 'COVID-19 Radiography Database/NORMAL/NORMAL (870).png', 'COVID-19 Radiography Database/NORMAL/NORMAL (776).png', 'COVID-19 Radiography Database/NORMAL/NORMAL (97).png', 'COVID-19 Radiography Database/NORMAL/NORMAL (1052).png', 'COVID-19 Radiography Database/NORMAL/NORMAL (591).png', 'COVID-19 Radiography Database/NORMAL/NORMAL (321).png', 'COVID-19 Radiography Database/NORMAL/NORMAL (919).png', 'COVID-19 Radiography Database/NORMAL/NORMAL (1043).png', 'COVID-19 Radiography Database/NORMAL/NORMAL (673).png', 'COVID-19 Radiography Database/NORMAL/NORMAL (290).png', 'COVID-19 Radiography Database/NORMAL/NORMAL (779).png', 'COVID-19 Radiography Database/NORMAL/NORMAL (507).png', 'COVID-19 Radiography Database/NORMAL/NORMAL (582).png', 'COVID-19 Radiography Database/NORMAL/NORMAL (950).png', 'COVID-19 Radiography Database/NORMAL/NORMAL (1081).png', 'COVID-19 Radiography Database/NORMAL/NORMAL (898).png', 'COVID-19 Radiography Database/NORMAL/NORMAL (192).png', 'COVID-19 Radiography Database/NORMAL/NORMAL (1188).png', 'COVID-19 Radiography Database/NORMAL/NORMAL (952).png', 'COVID-19 Radiography Database/NORMAL/NORMAL (818).png', 'COVID-19 Radiography Database/NORMAL/NORMAL (590).png', 'COVID-19 Radiography Database/NORMAL/NORMAL (1230).png', 'COVID-19 Radiography Database/NORMAL/NORMAL (116).png', 'COVID-19 Radiography Database/NORMAL/NORMAL (1103).png', 'COVID-19 Radiography Database/NORMAL/NORMAL (109).png', 'COVID-19 Radiography Database/NORMAL/NORMAL (344).png', 'COVID-19 Radiography Database/NORMAL/NORMAL (1064).png', 'COVID-19 Radiography Database/NORMAL/NORMAL (52).png', 'COVID-19 Radiography Database/NORMAL/NORMAL (1067).png', 'COVID-19 Radiography Database/NORMAL/NORMAL (317).png', 'COVID-19 Radiography Database/NORMAL/NORMAL (902).png', 'COVID-19 Radiography Database/NORMAL/NORMAL (991).png', 'COVID-19 Radiography Database/NORMAL/NORMAL (792).png', 'COVID-19 Radiography Database/NORMAL/NORMAL (101).png', 'COVID-19 Radiography Database/NORMAL/NORMAL (490).png', 'COVID-19 Radiography Database/NORMAL/NORMAL (718).png', 'COVID-19 Radiography Database/NORMAL/NORMAL (1044).png', 'COVID-19 Radiography Database/NORMAL/NORMAL (521).png', 'COVID-19 Radiography Database/NORMAL/NORMAL (398).png', 'COVID-19 Radiography Database/NORMAL/NORMAL (778).png', 'COVID-19 Radiography Database/NORMAL/NORMAL (1212).png', 'COVID-19 Radiography Database/NORMAL/NORMAL (996).png', 'COVID-19 Radiography Database/NORMAL/NORMAL (448).png', 'COVID-19 Radiography Database/NORMAL/NORMAL (643).png', 'COVID-19 Radiography Database/NORMAL/NORMAL (263).png', 'COVID-19 Radiography Database/NORMAL/NORMAL (380).png', 'COVID-19 Radiography Database/NORMAL/NORMAL (421).png', 'COVID-19 Radiography Database/NORMAL/NORMAL (1209).png', 'COVID-19 Radiography Database/NORMAL/NORMAL (1077).png', 'COVID-19 Radiography Database/NORMAL/NORMAL (282).png', 'COVID-19 Radiography Database/NORMAL/NORMAL (1252).png', 'COVID-19 Radiography Database/NORMAL/NORMAL (1071).png', 'COVID-19 Radiography Database/NORMAL/NORMAL (618).png', 'COVID-19 Radiography Database/NORMAL/NORMAL (624).png', 'COVID-19 Radiography Database/NORMAL/NORMAL (1191).png', 'COVID-19 Radiography Database/NORMAL/NORMAL (133).png', 'COVID-19 Radiography Database/NORMAL/NORMAL (207).png', 'COVID-19 Radiography Database/NORMAL/NORMAL (533).png', 'COVID-19 Radiography Database/NORMAL/NORMAL (538).png', 'COVID-19 Radiography Database/NORMAL/NORMAL (248).png', 'COVID-19 Radiography Database/NORMAL/NORMAL (506).png', 'COVID-19 Radiography Database/NORMAL/NORMAL (604).png', 'COVID-19 Radiography Database/NORMAL/NORMAL (556).png', 'COVID-19 Radiography Database/NORMAL/NORMAL (878).png', 'COVID-19 Radiography Database/NORMAL/NORMAL (836).png', 'COVID-19 Radiography Database/NORMAL/NORMAL (1261).png', 'COVID-19 Radiography Database/NORMAL/NORMAL (770).png', 'COVID-19 Radiography Database/NORMAL/NORMAL (147).png', 'COVID-19 Radiography Database/NORMAL/NORMAL (82).png', 'COVID-19 Radiography Database/NORMAL/NORMAL (1169).png', 'COVID-19 Radiography Database/NORMAL/NORMAL (513).png', 'COVID-19 Radiography Database/NORMAL/NORMAL (22).png', 'COVID-19 Radiography Database/NORMAL/NORMAL (942).png', 'COVID-19 Radiography Database/NORMAL/NORMAL (1340).png', 'COVID-19 Radiography Database/NORMAL/NORMAL (96).png', 'COVID-19 Radiography Database/NORMAL/NORMAL (619).png', 'COVID-19 Radiography Database/NORMAL/NORMAL (934).png', 'COVID-19 Radiography Database/NORMAL/NORMAL (1138).png', 'COVID-19 Radiography Database/NORMAL/NORMAL (740).png', 'COVID-19 Radiography Database/NORMAL/NORMAL (622).png', 'COVID-19 Radiography Database/NORMAL/NORMAL (1214).png', 'COVID-19 Radiography Database/NORMAL/NORMAL (498).png', 'COVID-19 Radiography Database/NORMAL/NORMAL (31).png', 'COVID-19 Radiography Database/NORMAL/NORMAL (293).png', 'COVID-19 Radiography Database/NORMAL/NORMAL (1016).png', 'COVID-19 Radiography Database/NORMAL/NORMAL (90).png', 'COVID-19 Radiography Database/NORMAL/NORMAL (1311).png', 'COVID-19 Radiography Database/NORMAL/NORMAL (333).png', 'COVID-19 Radiography Database/NORMAL/NORMAL (112).png', 'COVID-19 Radiography Database/NORMAL/NORMAL (245).png', 'COVID-19 Radiography Database/NORMAL/NORMAL (596).png', 'COVID-19 Radiography Database/NORMAL/NORMAL (909).png', 'COVID-19 Radiography Database/NORMAL/NORMAL (1187).png', 'COVID-19 Radiography Database/NORMAL/NORMAL (320).png', 'COVID-19 Radiography Database/NORMAL/NORMAL (1080).png', 'COVID-19 Radiography Database/NORMAL/NORMAL (56).png', 'COVID-19 Radiography Database/NORMAL/NORMAL (670).png', 'COVID-19 Radiography Database/NORMAL/NORMAL (855).png', 'COVID-19 Radiography Database/NORMAL/NORMAL (471).png', 'COVID-19 Radiography Database/NORMAL/NORMAL (771).png', 'COVID-19 Radiography Database/NORMAL/NORMAL (865).png', 'COVID-19 Radiography Database/NORMAL/NORMAL (145).png', 'COVID-19 Radiography Database/NORMAL/NORMAL (613).png', 'COVID-19 Radiography Database/NORMAL/NORMAL (555).png', 'COVID-19 Radiography Database/NORMAL/NORMAL (1066).png', 'COVID-19 Radiography Database/NORMAL/NORMAL (676).png', 'COVID-19 Radiography Database/NORMAL/NORMAL (993).png', 'COVID-19 Radiography Database/NORMAL/NORMAL (312).png', 'COVID-19 Radiography Database/NORMAL/NORMAL (84).png', 'COVID-19 Radiography Database/NORMAL/NORMAL (1239).png', 'COVID-19 Radiography Database/NORMAL/NORMAL (866).png', 'COVID-19 Radiography Database/NORMAL/NORMAL (1287).png', 'COVID-19 Radiography Database/NORMAL/NORMAL (760).png', 'COVID-19 Radiography Database/NORMAL/NORMAL (1201).png', 'COVID-19 Radiography Database/NORMAL/NORMAL (1126).png', 'COVID-19 Radiography Database/NORMAL/NORMAL (29).png', 'COVID-19 Radiography Database/NORMAL/NORMAL (708).png', 'COVID-19 Radiography Database/NORMAL/NORMAL (544).png', 'COVID-19 Radiography Database/NORMAL/NORMAL (297).png', 'COVID-19 Radiography Database/NORMAL/NORMAL (896).png', 'COVID-19 Radiography Database/NORMAL/NORMAL (224).png', 'COVID-19 Radiography Database/NORMAL/NORMAL (1096).png', 'COVID-19 Radiography Database/NORMAL/NORMAL (177).png', 'COVID-19 Radiography Database/NORMAL/NORMAL (761).png', 'COVID-19 Radiography Database/NORMAL/NORMAL (268).png', 'COVID-19 Radiography Database/NORMAL/NORMAL (1012).png', 'COVID-19 Radiography Database/NORMAL/NORMAL (815).png', 'COVID-19 Radiography Database/NORMAL/NORMAL (237).png', 'COVID-19 Radiography Database/NORMAL/NORMAL (510).png', 'COVID-19 Radiography Database/NORMAL/NORMAL (214).png', 'COVID-19 Radiography Database/NORMAL/NORMAL (906).png', 'COVID-19 Radiography Database/NORMAL/NORMAL (371).png', 'COVID-19 Radiography Database/NORMAL/NORMAL (1104).png', 'COVID-19 Radiography Database/NORMAL/NORMAL (714).png', 'COVID-19 Radiography Database/NORMAL/NORMAL (626).png', 'COVID-19 Radiography Database/NORMAL/NORMAL (976).png', 'COVID-19 Radiography Database/NORMAL/NORMAL (231).png', 'COVID-19 Radiography Database/NORMAL/NORMAL (432).png', 'COVID-19 Radiography Database/NORMAL/NORMAL (575).png', 'COVID-19 Radiography Database/NORMAL/NORMAL (550).png', 'COVID-19 Radiography Database/NORMAL/NORMAL (873).png', 'COVID-19 Radiography Database/NORMAL/NORMAL (712).png', 'COVID-19 Radiography Database/NORMAL/NORMAL (252).png', 'COVID-19 Radiography Database/NORMAL/NORMAL (747).png', 'COVID-19 Radiography Database/NORMAL/NORMAL (1133).png', 'COVID-19 Radiography Database/NORMAL/NORMAL (1226).png', 'COVID-19 Radiography Database/NORMAL/NORMAL (461).png', 'COVID-19 Radiography Database/NORMAL/NORMAL (570).png', 'COVID-19 Radiography Database/NORMAL/NORMAL (1135).png', 'COVID-19 Radiography Database/NORMAL/NORMAL (372).png', 'COVID-19 Radiography Database/NORMAL/NORMAL (385).png', 'COVID-19 Radiography Database/NORMAL/NORMAL (246).png', 'COVID-19 Radiography Database/NORMAL/NORMAL (868).png', 'COVID-19 Radiography Database/NORMAL/NORMAL (543).png', 'COVID-19 Radiography Database/NORMAL/NORMAL (261).png', 'COVID-19 Radiography Database/NORMAL/NORMAL (1233).png', 'COVID-19 Radiography Database/NORMAL/NORMAL (65).png', 'COVID-19 Radiography Database/NORMAL/NORMAL (547).png', 'COVID-19 Radiography Database/NORMAL/NORMAL (956).png', 'COVID-19 Radiography Database/NORMAL/NORMAL (105).png', 'COVID-19 Radiography Database/NORMAL/NORMAL (988).png', 'COVID-19 Radiography Database/NORMAL/NORMAL (503).png', 'COVID-19 Radiography Database/NORMAL/NORMAL (810).png', 'COVID-19 Radiography Database/NORMAL/NORMAL (477).png', 'COVID-19 Radiography Database/NORMAL/NORMAL (70).png', 'COVID-19 Radiography Database/NORMAL/NORMAL (1002).png', 'COVID-19 Radiography Database/NORMAL/NORMAL (460).png', 'COVID-19 Radiography Database/NORMAL/NORMAL (1033).png', 'COVID-19 Radiography Database/NORMAL/NORMAL (581).png', 'COVID-19 Radiography Database/NORMAL/NORMAL (1115).png', 'COVID-19 Radiography Database/NORMAL/NORMAL (370).png', 'COVID-19 Radiography Database/NORMAL/NORMAL (1173).png', 'COVID-19 Radiography Database/NORMAL/NORMAL (441).png', 'COVID-19 Radiography Database/NORMAL/NORMAL (607).png', 'COVID-19 Radiography Database/NORMAL/NORMAL (531).png', 'COVID-19 Radiography Database/NORMAL/NORMAL (656).png', 'COVID-19 Radiography Database/NORMAL/NORMAL (242).png', 'COVID-19 Radiography Database/NORMAL/NORMAL (879).png', 'COVID-19 Radiography Database/NORMAL/NORMAL (274).png', 'COVID-19 Radiography Database/NORMAL/NORMAL (840).png', 'COVID-19 Radiography Database/NORMAL/NORMAL (162).png', 'COVID-19 Radiography Database/NORMAL/NORMAL (1183).png', 'COVID-19 Radiography Database/NORMAL/NORMAL (102).png', 'COVID-19 Radiography Database/NORMAL/NORMAL (392).png', 'COVID-19 Radiography Database/NORMAL/NORMAL (802).png', 'COVID-19 Radiography Database/NORMAL/NORMAL (1137).png', 'COVID-19 Radiography Database/NORMAL/NORMAL (353).png', 'COVID-19 Radiography Database/NORMAL/NORMAL (1112).png', 'COVID-19 Radiography Database/NORMAL/NORMAL (1163).png', 'COVID-19 Radiography Database/NORMAL/NORMAL (472).png', 'COVID-19 Radiography Database/NORMAL/NORMAL (106).png', 'COVID-19 Radiography Database/NORMAL/NORMAL (127).png', 'COVID-19 Radiography Database/NORMAL/NORMAL (537).png', 'COVID-19 Radiography Database/NORMAL/NORMAL (558).png', 'COVID-19 Radiography Database/NORMAL/NORMAL (124).png', 'COVID-19 Radiography Database/NORMAL/NORMAL (1336).png', 'COVID-19 Radiography Database/NORMAL/NORMAL (161).png', 'COVID-19 Radiography Database/NORMAL/NORMAL (473).png', 'COVID-19 Radiography Database/NORMAL/NORMAL (600).png', 'COVID-19 Radiography Database/NORMAL/NORMAL (542).png', 'COVID-19 Radiography Database/NORMAL/NORMAL (912).png', 'COVID-19 Radiography Database/NORMAL/NORMAL (892).png', 'COVID-19 Radiography Database/NORMAL/NORMAL (895).png', 'COVID-19 Radiography Database/NORMAL/NORMAL (397).png', 'COVID-19 Radiography Database/NORMAL/NORMAL (1282).png', 'COVID-19 Radiography Database/NORMAL/NORMAL (551).png', 'COVID-19 Radiography Database/NORMAL/NORMAL (368).png', 'COVID-19 Radiography Database/NORMAL/NORMAL (327).png', 'COVID-19 Radiography Database/NORMAL/NORMAL (94).png', 'COVID-19 Radiography Database/NORMAL/NORMAL (1006).png', 'COVID-19 Radiography Database/NORMAL/NORMAL (1315).png', 'COVID-19 Radiography Database/NORMAL/NORMAL (1280).png', 'COVID-19 Radiography Database/NORMAL/NORMAL (1017).png', 'COVID-19 Radiography Database/NORMAL/NORMAL (405).png', 'COVID-19 Radiography Database/NORMAL/NORMAL (338).png', 'COVID-19 Radiography Database/NORMAL/NORMAL (42).png', 'COVID-19 Radiography Database/NORMAL/NORMAL (803).png', 'COVID-19 Radiography Database/NORMAL/NORMAL (822).png', 'COVID-19 Radiography Database/NORMAL/NORMAL (638).png', 'COVID-19 Radiography Database/NORMAL/NORMAL (767).png', 'COVID-19 Radiography Database/NORMAL/NORMAL (260).png', 'COVID-19 Radiography Database/NORMAL/NORMAL (705).png', 'COVID-19 Radiography Database/NORMAL/NORMAL (1238).png', 'COVID-19 Radiography Database/NORMAL/NORMAL (283).png', 'COVID-19 Radiography Database/NORMAL/NORMAL (917).png', 'COVID-19 Radiography Database/NORMAL/NORMAL (1182).png', 'COVID-19 Radiography Database/NORMAL/NORMAL (876).png', 'COVID-19 Radiography Database/NORMAL/NORMAL (1146).png', 'COVID-19 Radiography Database/NORMAL/NORMAL (1049).png', 'COVID-19 Radiography Database/NORMAL/NORMAL (1073).png', 'COVID-19 Radiography Database/NORMAL/NORMAL (157).png', 'COVID-19 Radiography Database/NORMAL/NORMAL (1249).png', 'COVID-19 Radiography Database/NORMAL/NORMAL (1219).png', 'COVID-19 Radiography Database/NORMAL/NORMAL (901).png', 'COVID-19 Radiography Database/NORMAL/NORMAL (409).png', 'COVID-19 Radiography Database/NORMAL/NORMAL (561).png', 'COVID-19 Radiography Database/NORMAL/NORMAL (1048).png', 'COVID-19 Radiography Database/NORMAL/NORMAL (1058).png', 'COVID-19 Radiography Database/NORMAL/NORMAL (1086).png', 'COVID-19 Radiography Database/NORMAL/NORMAL (1118).png', 'COVID-19 Radiography Database/NORMAL/NORMAL (322).png', 'COVID-19 Radiography Database/NORMAL/NORMAL (259).png', 'COVID-19 Radiography Database/NORMAL/NORMAL (766).png', 'COVID-19 Radiography Database/NORMAL/NORMAL (408).png', 'COVID-19 Radiography Database/NORMAL/NORMAL (915).png', 'COVID-19 Radiography Database/NORMAL/NORMAL (982).png', 'COVID-19 Radiography Database/NORMAL/NORMAL (69).png', 'COVID-19 Radiography Database/NORMAL/NORMAL (118).png', 'COVID-19 Radiography Database/NORMAL/NORMAL (64).png', 'COVID-19 Radiography Database/NORMAL/NORMAL (1060).png', 'COVID-19 Radiography Database/NORMAL/NORMAL (419).png', 'COVID-19 Radiography Database/NORMAL/NORMAL (1100).png', 'COVID-19 Radiography Database/NORMAL/NORMAL (1108).png', 'COVID-19 Radiography Database/NORMAL/NORMAL (1211).png', 'COVID-19 Radiography Database/NORMAL/NORMAL (739).png', 'COVID-19 Radiography Database/NORMAL/NORMAL (518).png', 'COVID-19 Radiography Database/NORMAL/NORMAL (965).png', 'COVID-19 Radiography Database/NORMAL/NORMAL (1116).png', 'COVID-19 Radiography Database/NORMAL/NORMAL (1038).png', 'COVID-19 Radiography Database/NORMAL/NORMAL (999).png', 'COVID-19 Radiography Database/NORMAL/NORMAL (5).png', 'COVID-19 Radiography Database/NORMAL/NORMAL (364).png', 'COVID-19 Radiography Database/NORMAL/NORMAL (60).png', 'COVID-19 Radiography Database/NORMAL/NORMAL (692).png', 'COVID-19 Radiography Database/NORMAL/NORMAL (697).png', 'COVID-19 Radiography Database/NORMAL/NORMAL (37).png', 'COVID-19 Radiography Database/NORMAL/NORMAL (1011).png', 'COVID-19 Radiography Database/NORMAL/NORMAL (800).png', 'COVID-19 Radiography Database/NORMAL/NORMAL (57).png', 'COVID-19 Radiography Database/NORMAL/NORMAL (1023).png', 'COVID-19 Radiography Database/NORMAL/NORMAL (706).png', 'COVID-19 Radiography Database/NORMAL/NORMAL (839).png', 'COVID-19 Radiography Database/NORMAL/NORMAL (98).png', 'COVID-19 Radiography Database/NORMAL/NORMAL (49).png', 'COVID-19 Radiography Database/NORMAL/NORMAL (14).png', 'COVID-19 Radiography Database/NORMAL/NORMAL (711).png', 'COVID-19 Radiography Database/NORMAL/NORMAL (1213).png', 'COVID-19 Radiography Database/NORMAL/NORMAL (455).png', 'COVID-19 Radiography Database/NORMAL/NORMAL (151).png', 'COVID-19 Radiography Database/NORMAL/NORMAL (852).png', 'COVID-19 Radiography Database/NORMAL/NORMAL (34).png', 'COVID-19 Radiography Database/NORMAL/NORMAL (255).png', 'COVID-19 Radiography Database/NORMAL/NORMAL (686).png', 'COVID-19 Radiography Database/NORMAL/NORMAL (1333).png', 'COVID-19 Radiography Database/NORMAL/NORMAL (838).png']]\n"
          ]
        }
      ]
    },
    {
      "cell_type": "markdown",
      "metadata": {
        "id": "bIleM1F6nWSF"
      },
      "source": [
        "## **Preprocessor Function & Setup**"
      ]
    },
    {
      "cell_type": "markdown",
      "metadata": {
        "id": "H3gLdb5k5vDk"
      },
      "source": [
        "### **Write a Preprocessor Function**\n",
        "\n",
        "\n",
        "> ###   Preprocessor functions are used to preprocess data into the precise data your model requires to generate predictions.  \n",
        "\n",
        "*  *Preprocessor functions should always be named \"preprocessor\".*\n",
        "*  *You can use any Python library in a preprocessor function, but all libraries should be imported inside your preprocessor function.*  \n",
        "*  *For image prediction models users should minimally include function inputs for an image filepath and values to reshape the image height and width.*  \n"
      ]
    },
    {
      "cell_type": "code",
      "metadata": {
        "id": "DR9fq2m_wx3V"
      },
      "source": [
        "# Import image, load to array of shape height, width, channels, then min/max transform.\n",
        "# Write preprocessor that will match up with model's expected input shape.\n",
        "# Uses opencv for image preprocessing\n",
        "\n",
        "def preprocessor(data, shape=(192, 192)):\n",
        "        \"\"\"\n",
        "        This function reads in images, resizes them to a fixed shape, and\n",
        "        min/max transforms them, before converting feature values to float32\n",
        "        for ONNX.\n",
        "        \n",
        "        params:\n",
        "            data\n",
        "                list of unprocessed images\n",
        "                      \n",
        "        returns:\n",
        "            X\n",
        "                numpy array of preprocessed image data\n",
        "                  \n",
        "        \"\"\"\n",
        "           \n",
        "        import cv2\n",
        "        import numpy as np\n",
        "\n",
        "        \"Resize a color image and min/max transform the image\"\n",
        "        img = cv2.imread(data) # Read in image from filepath.\n",
        "        img = cv2.cvtColor(img, cv2.COLOR_BGR2RGB) # cv2 reads in images in order of blue green and red, we reverse the order for ML.\n",
        "        #grayscale image?  Use im_gray = cv2.imread('gray_image.png', cv2.IMREAD_GRAYSCALE)\n",
        "        img = cv2.resize(img, shape) # Change height and width of image.\n",
        "        img = img / 255.0 # Min-max transform.  \n",
        "\n",
        "        # Resize the images.\n",
        "        X = np.array(img)\n",
        "        #X = np.expand_dims(X, axis=0) # Expand dims to add \"1\" to object shape [1, h, w, channels] if needed.\n",
        "        X = np.array(X, dtype=np.float32) # Final shape for onnx runtime.\n",
        "        return X\n",
        "\n",
        "#Try on single flower file (imports file and preprocesses it to data with following shape)\n",
        "#preprocessor('COVID-19 Radiography Database/COVID/COVID (1).png').shape"
      ],
      "execution_count": 5,
      "outputs": []
    },
    {
      "cell_type": "code",
      "metadata": {
        "id": "svHoZ-SXw9qX"
      },
      "source": [
        "#Import image files iteratively and preprocess them into array of correctly structured data\n",
        "\n",
        "# Create list of file paths\n",
        "image_filepaths=fnames[0]+fnames[1]+fnames[2]\n",
        "\n",
        "# Iteratively import and preprocess data using map function\n",
        "\n",
        "# map functions apply your preprocessor function one step at a time to each filepath\n",
        "preprocessed_image_data=list(map(preprocessor,image_filepaths ))\n",
        "\n",
        "# Object needs to be an array rather than a list for Keras (map returns to list object)\n",
        "X= np.array(preprocessed_image_data) # Assigning to X to highlight that this represents feature input data for our model"
      ],
      "execution_count": 6,
      "outputs": []
    },
    {
      "cell_type": "code",
      "metadata": {
        "colab": {
          "base_uri": "https://localhost:8080/"
        },
        "id": "4fjyLDwbxElq",
        "outputId": "1000d080-6fc6-419a-c3db-b796be306ca2"
      },
      "source": [
        "len(image_filepaths)"
      ],
      "execution_count": 7,
      "outputs": [
        {
          "output_type": "execute_result",
          "data": {
            "text/plain": [
              "3886"
            ]
          },
          "metadata": {},
          "execution_count": 7
        }
      ]
    },
    {
      "cell_type": "code",
      "metadata": {
        "colab": {
          "base_uri": "https://localhost:8080/"
        },
        "id": "dZ9Xo1ADxK1y",
        "outputId": "18bed6c2-25f0-43b6-b7f1-c293dff72dfc"
      },
      "source": [
        "print(len(X) ) #same number of elements as filenames\n",
        "print(X.shape ) #dimensions now 192,192,3 for all images\n",
        "print(X.min() ) #min value of every image is zero\n",
        "print(X.max() ) #max value of every image is one\n"
      ],
      "execution_count": 8,
      "outputs": [
        {
          "output_type": "stream",
          "name": "stdout",
          "text": [
            "3886\n",
            "(3886, 192, 192, 3)\n",
            "0.0\n",
            "1.0\n"
          ]
        }
      ]
    },
    {
      "cell_type": "code",
      "metadata": {
        "id": "pU0Da0m8x9_n",
        "colab": {
          "base_uri": "https://localhost:8080/",
          "height": 517
        },
        "outputId": "10e5d091-31c6-409e-d8cd-5cb2b3ea3a37"
      },
      "source": [
        "# Create y data made up of correctly ordered labels from file folders\n",
        "from itertools import repeat\n",
        "\n",
        "# Recall that we have five folders with the following number of images in each folder \n",
        "#...corresponding to each flower type\n",
        "\n",
        "print('number of images for each category:', [len(f) for f in fnames])\n",
        "covid=list(repeat(\"COVID\", 1200))\n",
        "normal=list(repeat(\"NORMAL\", 1341))\n",
        "pneumonia=list(repeat(\"PNEUMONIA\", 1345))\n",
        "\n",
        "#combine into single list of y labels\n",
        "y_labels = covid+normal+pneumonia\n",
        "\n",
        "#check length, same as X above\n",
        "print(len(y_labels) )\n",
        "\n",
        "# Need to one hot encode for Keras.  Let's use Pandas\n",
        "\n",
        "import pandas as pd\n",
        "y=pd.get_dummies(y_labels)\n",
        "\n",
        "display(y)"
      ],
      "execution_count": 9,
      "outputs": [
        {
          "output_type": "stream",
          "name": "stdout",
          "text": [
            "number of images for each category: [1200, 1341, 1345]\n",
            "3886\n"
          ]
        },
        {
          "output_type": "display_data",
          "data": {
            "text/plain": [
              "      COVID  NORMAL  PNEUMONIA\n",
              "0         1       0          0\n",
              "1         1       0          0\n",
              "2         1       0          0\n",
              "3         1       0          0\n",
              "4         1       0          0\n",
              "...     ...     ...        ...\n",
              "3881      0       0          1\n",
              "3882      0       0          1\n",
              "3883      0       0          1\n",
              "3884      0       0          1\n",
              "3885      0       0          1\n",
              "\n",
              "[3886 rows x 3 columns]"
            ],
            "text/html": [
              "\n",
              "  <div id=\"df-0f32974a-f537-4d9e-906b-747b60370717\">\n",
              "    <div class=\"colab-df-container\">\n",
              "      <div>\n",
              "<style scoped>\n",
              "    .dataframe tbody tr th:only-of-type {\n",
              "        vertical-align: middle;\n",
              "    }\n",
              "\n",
              "    .dataframe tbody tr th {\n",
              "        vertical-align: top;\n",
              "    }\n",
              "\n",
              "    .dataframe thead th {\n",
              "        text-align: right;\n",
              "    }\n",
              "</style>\n",
              "<table border=\"1\" class=\"dataframe\">\n",
              "  <thead>\n",
              "    <tr style=\"text-align: right;\">\n",
              "      <th></th>\n",
              "      <th>COVID</th>\n",
              "      <th>NORMAL</th>\n",
              "      <th>PNEUMONIA</th>\n",
              "    </tr>\n",
              "  </thead>\n",
              "  <tbody>\n",
              "    <tr>\n",
              "      <th>0</th>\n",
              "      <td>1</td>\n",
              "      <td>0</td>\n",
              "      <td>0</td>\n",
              "    </tr>\n",
              "    <tr>\n",
              "      <th>1</th>\n",
              "      <td>1</td>\n",
              "      <td>0</td>\n",
              "      <td>0</td>\n",
              "    </tr>\n",
              "    <tr>\n",
              "      <th>2</th>\n",
              "      <td>1</td>\n",
              "      <td>0</td>\n",
              "      <td>0</td>\n",
              "    </tr>\n",
              "    <tr>\n",
              "      <th>3</th>\n",
              "      <td>1</td>\n",
              "      <td>0</td>\n",
              "      <td>0</td>\n",
              "    </tr>\n",
              "    <tr>\n",
              "      <th>4</th>\n",
              "      <td>1</td>\n",
              "      <td>0</td>\n",
              "      <td>0</td>\n",
              "    </tr>\n",
              "    <tr>\n",
              "      <th>...</th>\n",
              "      <td>...</td>\n",
              "      <td>...</td>\n",
              "      <td>...</td>\n",
              "    </tr>\n",
              "    <tr>\n",
              "      <th>3881</th>\n",
              "      <td>0</td>\n",
              "      <td>0</td>\n",
              "      <td>1</td>\n",
              "    </tr>\n",
              "    <tr>\n",
              "      <th>3882</th>\n",
              "      <td>0</td>\n",
              "      <td>0</td>\n",
              "      <td>1</td>\n",
              "    </tr>\n",
              "    <tr>\n",
              "      <th>3883</th>\n",
              "      <td>0</td>\n",
              "      <td>0</td>\n",
              "      <td>1</td>\n",
              "    </tr>\n",
              "    <tr>\n",
              "      <th>3884</th>\n",
              "      <td>0</td>\n",
              "      <td>0</td>\n",
              "      <td>1</td>\n",
              "    </tr>\n",
              "    <tr>\n",
              "      <th>3885</th>\n",
              "      <td>0</td>\n",
              "      <td>0</td>\n",
              "      <td>1</td>\n",
              "    </tr>\n",
              "  </tbody>\n",
              "</table>\n",
              "<p>3886 rows × 3 columns</p>\n",
              "</div>\n",
              "      <button class=\"colab-df-convert\" onclick=\"convertToInteractive('df-0f32974a-f537-4d9e-906b-747b60370717')\"\n",
              "              title=\"Convert this dataframe to an interactive table.\"\n",
              "              style=\"display:none;\">\n",
              "        \n",
              "  <svg xmlns=\"http://www.w3.org/2000/svg\" height=\"24px\"viewBox=\"0 0 24 24\"\n",
              "       width=\"24px\">\n",
              "    <path d=\"M0 0h24v24H0V0z\" fill=\"none\"/>\n",
              "    <path d=\"M18.56 5.44l.94 2.06.94-2.06 2.06-.94-2.06-.94-.94-2.06-.94 2.06-2.06.94zm-11 1L8.5 8.5l.94-2.06 2.06-.94-2.06-.94L8.5 2.5l-.94 2.06-2.06.94zm10 10l.94 2.06.94-2.06 2.06-.94-2.06-.94-.94-2.06-.94 2.06-2.06.94z\"/><path d=\"M17.41 7.96l-1.37-1.37c-.4-.4-.92-.59-1.43-.59-.52 0-1.04.2-1.43.59L10.3 9.45l-7.72 7.72c-.78.78-.78 2.05 0 2.83L4 21.41c.39.39.9.59 1.41.59.51 0 1.02-.2 1.41-.59l7.78-7.78 2.81-2.81c.8-.78.8-2.07 0-2.86zM5.41 20L4 18.59l7.72-7.72 1.47 1.35L5.41 20z\"/>\n",
              "  </svg>\n",
              "      </button>\n",
              "      \n",
              "  <style>\n",
              "    .colab-df-container {\n",
              "      display:flex;\n",
              "      flex-wrap:wrap;\n",
              "      gap: 12px;\n",
              "    }\n",
              "\n",
              "    .colab-df-convert {\n",
              "      background-color: #E8F0FE;\n",
              "      border: none;\n",
              "      border-radius: 50%;\n",
              "      cursor: pointer;\n",
              "      display: none;\n",
              "      fill: #1967D2;\n",
              "      height: 32px;\n",
              "      padding: 0 0 0 0;\n",
              "      width: 32px;\n",
              "    }\n",
              "\n",
              "    .colab-df-convert:hover {\n",
              "      background-color: #E2EBFA;\n",
              "      box-shadow: 0px 1px 2px rgba(60, 64, 67, 0.3), 0px 1px 3px 1px rgba(60, 64, 67, 0.15);\n",
              "      fill: #174EA6;\n",
              "    }\n",
              "\n",
              "    [theme=dark] .colab-df-convert {\n",
              "      background-color: #3B4455;\n",
              "      fill: #D2E3FC;\n",
              "    }\n",
              "\n",
              "    [theme=dark] .colab-df-convert:hover {\n",
              "      background-color: #434B5C;\n",
              "      box-shadow: 0px 1px 3px 1px rgba(0, 0, 0, 0.15);\n",
              "      filter: drop-shadow(0px 1px 2px rgba(0, 0, 0, 0.3));\n",
              "      fill: #FFFFFF;\n",
              "    }\n",
              "  </style>\n",
              "\n",
              "      <script>\n",
              "        const buttonEl =\n",
              "          document.querySelector('#df-0f32974a-f537-4d9e-906b-747b60370717 button.colab-df-convert');\n",
              "        buttonEl.style.display =\n",
              "          google.colab.kernel.accessAllowed ? 'block' : 'none';\n",
              "\n",
              "        async function convertToInteractive(key) {\n",
              "          const element = document.querySelector('#df-0f32974a-f537-4d9e-906b-747b60370717');\n",
              "          const dataTable =\n",
              "            await google.colab.kernel.invokeFunction('convertToInteractive',\n",
              "                                                     [key], {});\n",
              "          if (!dataTable) return;\n",
              "\n",
              "          const docLinkHtml = 'Like what you see? Visit the ' +\n",
              "            '<a target=\"_blank\" href=https://colab.research.google.com/notebooks/data_table.ipynb>data table notebook</a>'\n",
              "            + ' to learn more about interactive tables.';\n",
              "          element.innerHTML = '';\n",
              "          dataTable['output_type'] = 'display_data';\n",
              "          await google.colab.output.renderOutput(dataTable, element);\n",
              "          const docLink = document.createElement('div');\n",
              "          docLink.innerHTML = docLinkHtml;\n",
              "          element.appendChild(docLink);\n",
              "        }\n",
              "      </script>\n",
              "    </div>\n",
              "  </div>\n",
              "  "
            ]
          },
          "metadata": {}
        }
      ]
    },
    {
      "cell_type": "code",
      "metadata": {
        "colab": {
          "base_uri": "https://localhost:8080/",
          "height": 54
        },
        "id": "nUTR0fRkybas",
        "outputId": "a2ad363b-1bfa-474b-9f2f-61c069d20c6d"
      },
      "source": [
        "import matplotlib.pyplot as plt\n",
        "from mpl_toolkits.axes_grid1 import ImageGrid\n",
        "import numpy as np\n",
        "import random\n",
        "\n",
        "im1 =preprocessor('COVID-19 Radiography Database/COVID/COVID (100).png')\n",
        "im2 =preprocessor('COVID-19 Radiography Database/COVID/COVID (1024).png')\n",
        "im3 =preprocessor('COVID-19 Radiography Database/NORMAL/NORMAL (1000).png')\n",
        "im4 =preprocessor('COVID-19 Radiography Database/NORMAL/NORMAL (1031).png')\n",
        "\n",
        "fig = plt.figure(figsize=(4., 4.))\n",
        "grid = ImageGrid(fig, 111,  # similar to subplot(111)\n",
        "                 nrows_ncols=(2, 2),  # creates 2x2 grid of axes\n",
        "                 axes_pad=0.25,  # pad between axes in inch.\n",
        "                 )\n",
        "\n",
        "for ax, im in zip(grid, [im1, im2, im3, im4]):\n",
        "    # Iterating over the grid returns the Axes.\n",
        "    ax.imshow(im)\n",
        "plt.show()"
      ],
      "execution_count": 10,
      "outputs": [
        {
          "output_type": "display_data",
          "data": {
            "text/plain": [
              "<Figure size 288x288 with 8 Axes>"
            ],
            "image/png": "[encoded data removed]"
          },
          "metadata": {
            "needs_background": "light"
          }
        }
      ]
    },
    {
      "cell_type": "code",
      "metadata": {
        "colab": {
          "base_uri": "https://localhost:8080/"
        },
        "id": "TImfyLlxy1Vx",
        "outputId": "bf18f6b9-45e3-4310-b3a7-9057af1d6097"
      },
      "source": [
        "# ======Train test split resized images (Hackathon Note!! Use same train test split to be able to submit predictions to leaderboard!)=======================================\n",
        "from sklearn.model_selection import train_test_split\n",
        "\n",
        "X_train, X_test, y_train, y_test = train_test_split(X, y, stratify = y, test_size = 0.20, random_state = 1987)\n",
        "\n",
        "\n",
        "y_test.sum()"
      ],
      "execution_count": 11,
      "outputs": [
        {
          "output_type": "execute_result",
          "data": {
            "text/plain": [
              "COVID        240\n",
              "NORMAL       269\n",
              "PNEUMONIA    269\n",
              "dtype: int64"
            ]
          },
          "metadata": {},
          "execution_count": 11
        }
      ]
    },
    {
      "cell_type": "markdown",
      "metadata": {
        "id": "FZGlu5PMWbNO"
      },
      "source": [
        "## **Save Preprocessor**\n",
        "### Saves preprocessor function to \"preprocessor.zip\" file"
      ]
    },
    {
      "cell_type": "code",
      "metadata": {
        "id": "Wh_vkwblXx7r",
        "colab": {
          "base_uri": "https://localhost:8080/"
        },
        "outputId": "0e7b6a20-265a-4a46-b0fe-cf43f9b8d113"
      },
      "source": [
        "import aimodelshare as ai\n",
        "ai.export_preprocessor(preprocessor,\"\") "
      ],
      "execution_count": 12,
      "outputs": [
        {
          "output_type": "stream",
          "name": "stdout",
          "text": [
            "Your preprocessor is now saved to 'preprocessor.zip'\n"
          ]
        }
      ]
    },
    {
      "cell_type": "markdown",
      "metadata": {
        "id": "mqyzWZPwgoEH"
      },
      "source": [
        "## **Submit Models**"
      ]
    },
    {
      "cell_type": "code",
      "metadata": {
        "id": "SAJJWhdAfyo5"
      },
      "source": [
        "#Instantiate Competition \n",
        "mycompetition= ai.Competition(\"https://79ei37u6vf.execute-api.us-east-1.amazonaws.com/prod/m\")\n"
      ],
      "execution_count": 13,
      "outputs": []
    },
    {
      "cell_type": "code",
      "metadata": {
        "id": "TbUX563jV1GS",
        "colab": {
          "base_uri": "https://localhost:8080/"
        },
        "outputId": "01477793-b25a-42fb-b24b-6a75a3455346"
      },
      "source": [
        "#Authorized users can submit new models after setting credentials using modelshare.org username/password\n",
        "\n",
        "apiurl=\"https://79ei37u6vf.execute-api.us-east-1.amazonaws.com/prod/m\" # example url from deployed playground: apiurl= \"https://123456.execute-api.us-east-1.amazonaws.com/prod/m\n",
        "\n",
        "import aimodelshare\n",
        "aimodelshare.aws.set_credentials(apiurl=apiurl)"
      ],
      "execution_count": 14,
      "outputs": [
        {
          "output_type": "stream",
          "name": "stdout",
          "text": [
            "AI Modelshare Username:··········\n",
            "AI Modelshare Password:··········\n",
            "AI Model Share login credentials set successfully.\n"
          ]
        }
      ]
    },
    {
      "cell_type": "code",
      "metadata": {
        "id": "dI2W7_B8v51l",
        "colab": {
          "base_uri": "https://localhost:8080/"
        },
        "outputId": "53b285a9-8291-4b71-ad14-927abf8e2d5b"
      },
      "source": [
        "with tf.device('/device:GPU:0'): #\"/GPU:0\": Short-hand notation for the first GPU of your machine that is visible to TensorFlow.\n",
        "\n",
        "  model = tf.keras.Sequential([\n",
        "    # input: images of size Sample size, height, width, channels 1x192x192x3 pixels (the three stands for RGB channels)    \n",
        "    tf.keras.layers.Conv2D(kernel_size=3, filters=32, padding='same', activation='relu', input_shape=(192, 192, 3)),\n",
        "    tf.keras.layers.Conv2D(kernel_size=1, filters=32, padding='same', activation='relu'),\n",
        "    tf.keras.layers.MaxPooling2D(pool_size=2),\n",
        "    tf.keras.layers.Conv2D(kernel_size=3, filters=64, padding='same', activation='relu'),\n",
        "    tf.keras.layers.Conv2D(kernel_size=1, filters=64, padding='same', activation='relu'),\n",
        "    tf.keras.layers.MaxPooling2D(pool_size=2),\n",
        "    tf.keras.layers.Conv2D(kernel_size=3, filters=128, padding='same', activation='relu'),\n",
        "    tf.keras.layers.Conv2D(kernel_size=1, filters=128, padding='same', activation='relu'),\n",
        "    tf.keras.layers.MaxPooling2D(pool_size=2),\n",
        "    tf.keras.layers.Conv2D(kernel_size=3, filters=512, padding='same', activation='relu'),\n",
        "    tf.keras.layers.Conv2D(kernel_size=1, filters=512, padding='same', activation='relu'),\n",
        "    tf.keras.layers.Flatten(),\n",
        "    # classifying into 3 categories\n",
        "    tf.keras.layers.Dense(3, activation='softmax')\n",
        "  ])\n",
        "  #from tensorflow.python.keras.callbacks import ReduceLROnPlateau\n",
        "  #red_lr= ReduceLROnPlateau(monitor='val_acc',patience=3,verbose=1,factor=0.1) # dividing lr by 10 when val_accuracy fails to improve after 3 epochs\n",
        "\n",
        "  model.compile(\n",
        "    optimizer=\"adam\", # to use callback set lr arg such as Adam(lr=0.001) instead\n",
        "    loss= 'categorical_crossentropy',\n",
        "    metrics=['accuracy'])\n",
        "  \n",
        "  # Fitting the CNN to the Training set\n",
        "  model.fit(X_train, y_train, \n",
        "                    epochs = 1, verbose=1,validation_data=(X_test,y_test)) #, callbacks=[red_lr]) for callback that automatically adjusts lr"
      ],
      "execution_count": null,
      "outputs": [
        {
          "output_type": "stream",
          "name": "stdout",
          "text": [
            "98/98 [==============================] - 511s 5s/step - loss: 0.4841 - accuracy: 0.8005 - val_loss: 0.2337 - val_accuracy: 0.9139\n"
          ]
        }
      ]
    },
    {
      "cell_type": "code",
      "metadata": {
        "id": "jraPDdsNX46e"
      },
      "source": [
        "# Save Model to .onnx file\n",
        "from aimodelshare.aimsonnx import model_to_onnx\n",
        "\n",
        "# Save tf.keras model to ONNX file\n",
        "onnx_model = model_to_onnx(model, framework='keras',\n",
        "                          transfer_learning=False,\n",
        "                          deep_learning=True)\n",
        "\n",
        "# Save model to local .onnx file\n",
        "with open(\"model.onnx\", \"wb\") as f:\n",
        "    f.write(onnx_model.SerializeToString()) "
      ],
      "execution_count": null,
      "outputs": []
    },
    {
      "cell_type": "code",
      "metadata": {
        "colab": {
          "base_uri": "https://localhost:8080/"
        },
        "id": "n8LIZZco1fVt",
        "outputId": "d5da40d8-9e20-4589-d687-897871f6d873"
      },
      "source": [
        "# using predict_classes() for multi-class data to return predicted class index.\n",
        "\n",
        "def predict_classes(x): # adjusted from keras github code\n",
        "  proba=x\n",
        "  if proba.shape[-1] > 1:\n",
        "      return proba.argmax(axis=-1)\n",
        "  else:\n",
        "      return (proba > 0.5).astype(\"int32\")\n",
        "\n",
        "print(predict_classes(model.predict(X_test)))\n",
        "\n",
        "prediction_index=predict_classes(model.predict(X_test))\n",
        "\n",
        "#Now lets run some code to get keras to return the label rather than the index...\n",
        "\n",
        "# get labels from one hot encoded y_train data\n",
        "labels=pd.get_dummies(y_train).columns\n",
        "\n",
        "# Iterate through all predicted indices using map method\n",
        "prediction_labels=list(map(lambda x: labels[x], prediction_index))"
      ],
      "execution_count": null,
      "outputs": [
        {
          "output_type": "stream",
          "name": "stdout",
          "text": [
            "[2 1 0 2 2 0 2 0 1 2 2 1 0 2 0 2 0 1 2 2 2 2 1 0 2 2 2 1 1 2 1 2 1 1 2 0 2\n",
            " 2 0 2 2 0 1 0 1 1 0 0 2 2 2 0 2 1 1 1 1 0 1 2 1 0 0 1 1 1 2 1 2 1 1 2 0 2\n",
            " 1 1 1 1 0 2 0 1 2 1 0 2 1 2 0 1 1 1 2 2 0 2 0 1 2 2 1 0 0 0 2 1 0 2 0 0 0\n",
            " 0 0 2 2 2 2 2 2 2 1 0 2 1 0 2 0 2 0 1 1 2 1 0 0 0 2 0 1 0 0 1 1 2 1 0 0 0\n",
            " 1 1 0 1 1 1 2 1 0 0 2 1 2 0 0 0 2 2 1 0 0 0 1 1 1 2 0 0 0 2 0 2 2 2 1 1 0\n",
            " 2 0 1 1 1 2 1 2 2 1 1 2 1 2 2 0 1 0 1 0 2 0 0 1 1 1 1 0 0 1 1 1 1 0 2 2 0\n",
            " 2 2 2 2 2 1 2 1 0 2 0 1 1 1 1 1 0 2 1 1 0 2 2 0 2 0 2 2 0 2 1 0 2 2 2 0 2\n",
            " 0 1 0 1 2 2 1 2 1 1 1 0 2 0 1 2 1 1 2 2 1 1 0 2 2 0 0 0 1 0 2 2 1 0 2 0 2\n",
            " 2 0 1 0 0 1 2 2 1 2 0 2 1 2 0 1 2 2 1 0 1 2 0 2 1 2 1 0 2 1 2 2 1 1 0 1 0\n",
            " 1 0 1 2 1 0 2 2 0 0 2 0 2 0 2 1 2 0 2 2 0 1 0 2 2 2 0 0 0 1 0 1 0 0 2 1 0\n",
            " 0 2 0 2 1 1 2 1 2 0 2 2 1 2 0 1 1 2 0 0 2 0 2 1 1 2 2 0 0 2 2 2 0 1 0 0 2\n",
            " 2 2 2 0 1 1 2 0 2 2 2 1 0 0 0 0 1 2 2 1 1 1 1 0 2 1 1 2 1 2 0 2 2 0 2 2 2\n",
            " 2 0 0 0 0 2 1 2 2 2 2 2 1 2 1 0 1 2 2 2 1 2 2 2 0 1 0 2 0 1 2 0 2 0 1 2 0\n",
            " 1 1 1 1 1 0 1 0 2 1 0 2 1 2 1 2 2 1 0 0 1 1 2 0 0 0 1 2 2 1 1 2 2 1 2 2 2\n",
            " 1 2 2 1 1 1 0 2 1 2 1 1 1 0 1 0 2 1 0 0 1 0 0 2 2 2 0 0 2 1 2 0 0 2 2 0 1\n",
            " 1 0 0 0 0 1 0 2 2 2 1 2 1 2 1 2 2 0 0 0 1 0 1 1 2 1 1 1 0 2 0 0 1 1 1 1 2\n",
            " 1 0 1 1 0 1 2 2 0 0 0 0 1 0 1 2 1 2 2 2 1 1 1 1 1 0 0 2 1 0 1 0 2 1 1 0 1\n",
            " 2 0 1 0 2 0 2 2 1 1 1 2 2 1 1 1 2 0 2 0 0 1 2 0 0 2 2 2 1 0 1 1 0 0 0 0 0\n",
            " 0 0 1 0 0 2 1 0 0 2 0 2 1 2 0 0 2 1 1 0 2 2 1 2 0 0 0 2 1 1 0 1 1 2 2 1 1\n",
            " 0 2 1 0 2 0 1 1 0 1 2 2 0 2 1 0 2 1 0 0 1 0 0 1 2 2 0 0 0 1 0 2 1 0 1 0 0\n",
            " 0 0 1 0 0 0 2 0 0 2 1 2 2 2 0 2 0 1 2 0 0 1 1 2 2 1 2 0 1 1 2 1 2 2 0 1 0\n",
            " 2]\n"
          ]
        }
      ]
    },
    {
      "cell_type": "code",
      "metadata": {
        "colab": {
          "base_uri": "https://localhost:8080/"
        },
        "id": "pJC2jl2PgfTf",
        "outputId": "8495f13e-e6e6-4ed7-a91b-71750097b43a"
      },
      "source": [
        "# Submit Model 1 to Competition Leaderboard\n",
        "mycompetition.submit_model(model_filepath = \"model.onnx\",\n",
        "                                 preprocessor_filepath=\"preprocessor.zip\",\n",
        "                                 prediction_submission=prediction_labels)"
      ],
      "execution_count": null,
      "outputs": [
        {
          "output_type": "stream",
          "name": "stdout",
          "text": [
            "Insert search tags to help users find your model (optional): \n",
            "Provide any useful notes about your model (optional): \n",
            "\n",
            "Your model has been submitted as model version 71\n",
            "\n",
            "To submit code used to create this model or to view current leaderboard navigate to Model Playground: \n",
            "\n",
            " https://www.modelshare.org/detail/model:1539\n"
          ]
        }
      ]
    },
    {
      "cell_type": "markdown",
      "metadata": {
        "id": "iLYlCkWchWC_"
      },
      "source": [
        "Get Leaderboard"
      ]
    },
    {
      "cell_type": "code",
      "metadata": {
        "colab": {
          "base_uri": "https://localhost:8080/",
          "height": 524
        },
        "id": "J0-B1h0chYDL",
        "outputId": "f5643558-5a90-4df4-92e5-393da53bfdc3"
      },
      "source": [
        "data = mycompetition.get_leaderboard()\n",
        "mycompetition.stylize_leaderboard(data)"
      ],
      "execution_count": null,
      "outputs": [
        {
          "output_type": "execute_result",
          "data": {
            "text/plain": [
              "<pandas.io.formats.style.Styler at 0x7ffb292d2850>"
            ],
            "text/html": [
              "<style type=\"text/css\">\n",
              "#T_4eef8_row0_col0 {\n",
              "  text-align: center;\n",
              "  width: 10em;\n",
              "  height: 80%;\n",
              "  background: linear-gradient(90deg,#f5f8d6 97.7%, transparent 97.7%);\n",
              "  color: #251e1b;\n",
              "  font-size: 12px;\n",
              "}\n",
              "#T_4eef8_row0_col1 {\n",
              "  text-align: center;\n",
              "  width: 10em;\n",
              "  height: 80%;\n",
              "  background: linear-gradient(90deg,#c778c8 97.7%, transparent 97.7%);\n",
              "  color: #251e1b;\n",
              "  font-size: 12px;\n",
              "}\n",
              "#T_4eef8_row0_col2 {\n",
              "  text-align: center;\n",
              "  width: 10em;\n",
              "  height: 80%;\n",
              "  background: linear-gradient(90deg,#ff4971 97.8%, transparent 97.8%);\n",
              "  color: #251e1b;\n",
              "  font-size: 12px;\n",
              "}\n",
              "#T_4eef8_row0_col3 {\n",
              "  text-align: center;\n",
              "  width: 10em;\n",
              "  height: 80%;\n",
              "  background: linear-gradient(90deg,#aadbaa 97.7%, transparent 97.7%);\n",
              "  color: #251e1b;\n",
              "  font-size: 12px;\n",
              "}\n",
              "#T_4eef8_row0_col4, #T_4eef8_row0_col5, #T_4eef8_row0_col6, #T_4eef8_row0_col7, #T_4eef8_row0_col8, #T_4eef8_row0_col9, #T_4eef8_row0_col10, #T_4eef8_row0_col11, #T_4eef8_row0_col12, #T_4eef8_row0_col13, #T_4eef8_row0_col14, #T_4eef8_row0_col15, #T_4eef8_row0_col16, #T_4eef8_row0_col17, #T_4eef8_row0_col18, #T_4eef8_row0_col19, #T_4eef8_row0_col20, #T_4eef8_row0_col21, #T_4eef8_row1_col4, #T_4eef8_row1_col5, #T_4eef8_row1_col6, #T_4eef8_row1_col7, #T_4eef8_row1_col8, #T_4eef8_row1_col9, #T_4eef8_row1_col10, #T_4eef8_row1_col11, #T_4eef8_row1_col12, #T_4eef8_row1_col13, #T_4eef8_row1_col14, #T_4eef8_row1_col15, #T_4eef8_row1_col16, #T_4eef8_row1_col17, #T_4eef8_row1_col18, #T_4eef8_row1_col19, #T_4eef8_row1_col20, #T_4eef8_row1_col21, #T_4eef8_row2_col4, #T_4eef8_row2_col5, #T_4eef8_row2_col6, #T_4eef8_row2_col7, #T_4eef8_row2_col8, #T_4eef8_row2_col9, #T_4eef8_row2_col10, #T_4eef8_row2_col11, #T_4eef8_row2_col12, #T_4eef8_row2_col13, #T_4eef8_row2_col14, #T_4eef8_row2_col15, #T_4eef8_row2_col16, #T_4eef8_row2_col17, #T_4eef8_row2_col18, #T_4eef8_row2_col19, #T_4eef8_row2_col20, #T_4eef8_row2_col21, #T_4eef8_row3_col4, #T_4eef8_row3_col5, #T_4eef8_row3_col6, #T_4eef8_row3_col7, #T_4eef8_row3_col8, #T_4eef8_row3_col9, #T_4eef8_row3_col10, #T_4eef8_row3_col11, #T_4eef8_row3_col12, #T_4eef8_row3_col13, #T_4eef8_row3_col14, #T_4eef8_row3_col15, #T_4eef8_row3_col16, #T_4eef8_row3_col17, #T_4eef8_row3_col18, #T_4eef8_row3_col19, #T_4eef8_row3_col20, #T_4eef8_row3_col21, #T_4eef8_row4_col4, #T_4eef8_row4_col5, #T_4eef8_row4_col6, #T_4eef8_row4_col7, #T_4eef8_row4_col8, #T_4eef8_row4_col9, #T_4eef8_row4_col10, #T_4eef8_row4_col11, #T_4eef8_row4_col12, #T_4eef8_row4_col13, #T_4eef8_row4_col14, #T_4eef8_row4_col15, #T_4eef8_row4_col16, #T_4eef8_row4_col17, #T_4eef8_row4_col18, #T_4eef8_row4_col19, #T_4eef8_row4_col20, #T_4eef8_row4_col21, #T_4eef8_row5_col4, #T_4eef8_row5_col5, #T_4eef8_row5_col6, #T_4eef8_row5_col7, #T_4eef8_row5_col8, #T_4eef8_row5_col9, #T_4eef8_row5_col10, #T_4eef8_row5_col11, #T_4eef8_row5_col12, #T_4eef8_row5_col13, #T_4eef8_row5_col14, #T_4eef8_row5_col15, #T_4eef8_row5_col16, #T_4eef8_row5_col17, #T_4eef8_row5_col18, #T_4eef8_row5_col19, #T_4eef8_row5_col20, #T_4eef8_row5_col21, #T_4eef8_row6_col4, #T_4eef8_row6_col5, #T_4eef8_row6_col6, #T_4eef8_row6_col7, #T_4eef8_row6_col8, #T_4eef8_row6_col9, #T_4eef8_row6_col10, #T_4eef8_row6_col11, #T_4eef8_row6_col12, #T_4eef8_row6_col13, #T_4eef8_row6_col14, #T_4eef8_row6_col15, #T_4eef8_row6_col16, #T_4eef8_row6_col17, #T_4eef8_row6_col18, #T_4eef8_row6_col19, #T_4eef8_row6_col20, #T_4eef8_row6_col21 {\n",
              "  text-align: center;\n",
              "}\n",
              "#T_4eef8_row1_col0 {\n",
              "  text-align: center;\n",
              "  width: 10em;\n",
              "  height: 80%;\n",
              "  background: linear-gradient(90deg,#f5f8d6 97.6%, transparent 97.6%);\n",
              "  color: #251e1b;\n",
              "  font-size: 12px;\n",
              "}\n",
              "#T_4eef8_row1_col1 {\n",
              "  text-align: center;\n",
              "  width: 10em;\n",
              "  height: 80%;\n",
              "  background: linear-gradient(90deg,#c778c8 97.6%, transparent 97.6%);\n",
              "  color: #251e1b;\n",
              "  font-size: 12px;\n",
              "}\n",
              "#T_4eef8_row1_col2 {\n",
              "  text-align: center;\n",
              "  width: 10em;\n",
              "  height: 80%;\n",
              "  background: linear-gradient(90deg,#ff4971 97.6%, transparent 97.6%);\n",
              "  color: #251e1b;\n",
              "  font-size: 12px;\n",
              "}\n",
              "#T_4eef8_row1_col3 {\n",
              "  text-align: center;\n",
              "  width: 10em;\n",
              "  height: 80%;\n",
              "  background: linear-gradient(90deg,#aadbaa 97.6%, transparent 97.6%);\n",
              "  color: #251e1b;\n",
              "  font-size: 12px;\n",
              "}\n",
              "#T_4eef8_row2_col0 {\n",
              "  text-align: center;\n",
              "  width: 10em;\n",
              "  height: 80%;\n",
              "  background: linear-gradient(90deg,#f5f8d6 94.9%, transparent 94.9%);\n",
              "  color: #251e1b;\n",
              "  font-size: 12px;\n",
              "}\n",
              "#T_4eef8_row2_col1 {\n",
              "  text-align: center;\n",
              "  width: 10em;\n",
              "  height: 80%;\n",
              "  background: linear-gradient(90deg,#c778c8 94.9%, transparent 94.9%);\n",
              "  color: #251e1b;\n",
              "  font-size: 12px;\n",
              "}\n",
              "#T_4eef8_row2_col2 {\n",
              "  text-align: center;\n",
              "  width: 10em;\n",
              "  height: 80%;\n",
              "  background: linear-gradient(90deg,#ff4971 94.8%, transparent 94.8%);\n",
              "  color: #251e1b;\n",
              "  font-size: 12px;\n",
              "}\n",
              "#T_4eef8_row2_col3 {\n",
              "  text-align: center;\n",
              "  width: 10em;\n",
              "  height: 80%;\n",
              "  background: linear-gradient(90deg,#aadbaa 94.9%, transparent 94.9%);\n",
              "  color: #251e1b;\n",
              "  font-size: 12px;\n",
              "}\n",
              "#T_4eef8_row3_col0 {\n",
              "  text-align: center;\n",
              "  width: 10em;\n",
              "  height: 80%;\n",
              "  background: linear-gradient(90deg,#f5f8d6 92.9%, transparent 92.9%);\n",
              "  color: #251e1b;\n",
              "  font-size: 12px;\n",
              "}\n",
              "#T_4eef8_row3_col1 {\n",
              "  text-align: center;\n",
              "  width: 10em;\n",
              "  height: 80%;\n",
              "  background: linear-gradient(90deg,#c778c8 92.9%, transparent 92.9%);\n",
              "  color: #251e1b;\n",
              "  font-size: 12px;\n",
              "}\n",
              "#T_4eef8_row3_col2 {\n",
              "  text-align: center;\n",
              "  width: 10em;\n",
              "  height: 80%;\n",
              "  background: linear-gradient(90deg,#ff4971 92.9%, transparent 92.9%);\n",
              "  color: #251e1b;\n",
              "  font-size: 12px;\n",
              "}\n",
              "#T_4eef8_row3_col3 {\n",
              "  text-align: center;\n",
              "  width: 10em;\n",
              "  height: 80%;\n",
              "  background: linear-gradient(90deg,#aadbaa 93.0%, transparent 93.0%);\n",
              "  color: #251e1b;\n",
              "  font-size: 12px;\n",
              "}\n",
              "#T_4eef8_row4_col0 {\n",
              "  text-align: center;\n",
              "  width: 10em;\n",
              "  height: 80%;\n",
              "  background: linear-gradient(90deg,#f5f8d6 90.7%, transparent 90.7%);\n",
              "  color: #251e1b;\n",
              "  font-size: 12px;\n",
              "}\n",
              "#T_4eef8_row4_col1 {\n",
              "  text-align: center;\n",
              "  width: 10em;\n",
              "  height: 80%;\n",
              "  background: linear-gradient(90deg,#c778c8 90.8%, transparent 90.8%);\n",
              "  color: #251e1b;\n",
              "  font-size: 12px;\n",
              "}\n",
              "#T_4eef8_row4_col2 {\n",
              "  text-align: center;\n",
              "  width: 10em;\n",
              "  height: 80%;\n",
              "  background: linear-gradient(90deg,#ff4971 91.3%, transparent 91.3%);\n",
              "  color: #251e1b;\n",
              "  font-size: 12px;\n",
              "}\n",
              "#T_4eef8_row4_col3 {\n",
              "  text-align: center;\n",
              "  width: 10em;\n",
              "  height: 80%;\n",
              "  background: linear-gradient(90deg,#aadbaa 90.6%, transparent 90.6%);\n",
              "  color: #251e1b;\n",
              "  font-size: 12px;\n",
              "}\n",
              "#T_4eef8_row5_col0 {\n",
              "  text-align: center;\n",
              "  width: 10em;\n",
              "  height: 80%;\n",
              "  background: linear-gradient(90deg,#f5f8d6 88.4%, transparent 88.4%);\n",
              "  color: #251e1b;\n",
              "  font-size: 12px;\n",
              "}\n",
              "#T_4eef8_row5_col1 {\n",
              "  text-align: center;\n",
              "  width: 10em;\n",
              "  height: 80%;\n",
              "  background: linear-gradient(90deg,#c778c8 88.6%, transparent 88.6%);\n",
              "  color: #251e1b;\n",
              "  font-size: 12px;\n",
              "}\n",
              "#T_4eef8_row5_col2 {\n",
              "  text-align: center;\n",
              "  width: 10em;\n",
              "  height: 80%;\n",
              "  background: linear-gradient(90deg,#ff4971 89.2%, transparent 89.2%);\n",
              "  color: #251e1b;\n",
              "  font-size: 12px;\n",
              "}\n",
              "#T_4eef8_row5_col3 {\n",
              "  text-align: center;\n",
              "  width: 10em;\n",
              "  height: 80%;\n",
              "  background: linear-gradient(90deg,#aadbaa 88.3%, transparent 88.3%);\n",
              "  color: #251e1b;\n",
              "  font-size: 12px;\n",
              "}\n",
              "#T_4eef8_row6_col0 {\n",
              "  text-align: center;\n",
              "  width: 10em;\n",
              "  height: 80%;\n",
              "  background: linear-gradient(90deg,#f5f8d6 88.0%, transparent 88.0%);\n",
              "  color: #251e1b;\n",
              "  font-size: 12px;\n",
              "}\n",
              "#T_4eef8_row6_col1 {\n",
              "  text-align: center;\n",
              "  width: 10em;\n",
              "  height: 80%;\n",
              "  background: linear-gradient(90deg,#c778c8 88.3%, transparent 88.3%);\n",
              "  color: #251e1b;\n",
              "  font-size: 12px;\n",
              "}\n",
              "#T_4eef8_row6_col2 {\n",
              "  text-align: center;\n",
              "  width: 10em;\n",
              "  height: 80%;\n",
              "  background: linear-gradient(90deg,#ff4971 90.0%, transparent 90.0%);\n",
              "  color: #251e1b;\n",
              "  font-size: 12px;\n",
              "}\n",
              "#T_4eef8_row6_col3 {\n",
              "  text-align: center;\n",
              "  width: 10em;\n",
              "  height: 80%;\n",
              "  background: linear-gradient(90deg,#aadbaa 88.0%, transparent 88.0%);\n",
              "  color: #251e1b;\n",
              "  font-size: 12px;\n",
              "}\n",
              "</style>\n",
              "<table id=\"T_4eef8_\" class=\"dataframe\">\n",
              "  <thead>\n",
              "    <tr>\n",
              "      <th class=\"blank level0\" >&nbsp;</th>\n",
              "      <th class=\"col_heading level0 col0\" >accuracy</th>\n",
              "      <th class=\"col_heading level0 col1\" >f1_score</th>\n",
              "      <th class=\"col_heading level0 col2\" >precision</th>\n",
              "      <th class=\"col_heading level0 col3\" >recall</th>\n",
              "      <th class=\"col_heading level0 col4\" >ml_framework</th>\n",
              "      <th class=\"col_heading level0 col5\" >transfer_learning</th>\n",
              "      <th class=\"col_heading level0 col6\" >deep_learning</th>\n",
              "      <th class=\"col_heading level0 col7\" >model_type</th>\n",
              "      <th class=\"col_heading level0 col8\" >depth</th>\n",
              "      <th class=\"col_heading level0 col9\" >num_params</th>\n",
              "      <th class=\"col_heading level0 col10\" >dense_layers</th>\n",
              "      <th class=\"col_heading level0 col11\" >flatten_layers</th>\n",
              "      <th class=\"col_heading level0 col12\" >conv2d_layers</th>\n",
              "      <th class=\"col_heading level0 col13\" >maxpooling2d_layers</th>\n",
              "      <th class=\"col_heading level0 col14\" >relu_act</th>\n",
              "      <th class=\"col_heading level0 col15\" >softmax_act</th>\n",
              "      <th class=\"col_heading level0 col16\" >loss</th>\n",
              "      <th class=\"col_heading level0 col17\" >optimizer</th>\n",
              "      <th class=\"col_heading level0 col18\" >model_config</th>\n",
              "      <th class=\"col_heading level0 col19\" >memory_size</th>\n",
              "      <th class=\"col_heading level0 col20\" >username</th>\n",
              "      <th class=\"col_heading level0 col21\" >version</th>\n",
              "    </tr>\n",
              "  </thead>\n",
              "  <tbody>\n",
              "    <tr>\n",
              "      <th id=\"T_4eef8_level0_row0\" class=\"row_heading level0 row0\" >0</th>\n",
              "      <td id=\"T_4eef8_row0_col0\" class=\"data row0 col0\" >97.69%</td>\n",
              "      <td id=\"T_4eef8_row0_col1\" class=\"data row0 col1\" >97.74%</td>\n",
              "      <td id=\"T_4eef8_row0_col2\" class=\"data row0 col2\" >97.76%</td>\n",
              "      <td id=\"T_4eef8_row0_col3\" class=\"data row0 col3\" >97.74%</td>\n",
              "      <td id=\"T_4eef8_row0_col4\" class=\"data row0 col4\" >keras</td>\n",
              "      <td id=\"T_4eef8_row0_col5\" class=\"data row0 col5\" >False</td>\n",
              "      <td id=\"T_4eef8_row0_col6\" class=\"data row0 col6\" >True</td>\n",
              "      <td id=\"T_4eef8_row0_col7\" class=\"data row0 col7\" >Sequential</td>\n",
              "      <td id=\"T_4eef8_row0_col8\" class=\"data row0 col8\" >7</td>\n",
              "      <td id=\"T_4eef8_row0_col9\" class=\"data row0 col9\" >977987</td>\n",
              "      <td id=\"T_4eef8_row0_col10\" class=\"data row0 col10\" >1</td>\n",
              "      <td id=\"T_4eef8_row0_col11\" class=\"data row0 col11\" >1</td>\n",
              "      <td id=\"T_4eef8_row0_col12\" class=\"data row0 col12\" >3.000000</td>\n",
              "      <td id=\"T_4eef8_row0_col13\" class=\"data row0 col13\" >2</td>\n",
              "      <td id=\"T_4eef8_row0_col14\" class=\"data row0 col14\" >3</td>\n",
              "      <td id=\"T_4eef8_row0_col15\" class=\"data row0 col15\" >1</td>\n",
              "      <td id=\"T_4eef8_row0_col16\" class=\"data row0 col16\" >str</td>\n",
              "      <td id=\"T_4eef8_row0_col17\" class=\"data row0 col17\" >Adam</td>\n",
              "      <td id=\"T_4eef8_row0_col18\" class=\"data row0 col18\" >{'name': 'sequential_1', 'laye...</td>\n",
              "      <td id=\"T_4eef8_row0_col19\" class=\"data row0 col19\" >1621536</td>\n",
              "      <td id=\"T_4eef8_row0_col20\" class=\"data row0 col20\" >cz2673</td>\n",
              "      <td id=\"T_4eef8_row0_col21\" class=\"data row0 col21\" >5</td>\n",
              "    </tr>\n",
              "    <tr>\n",
              "      <th id=\"T_4eef8_level0_row1\" class=\"row_heading level0 row1\" >1</th>\n",
              "      <td id=\"T_4eef8_row1_col0\" class=\"data row1 col0\" >97.56%</td>\n",
              "      <td id=\"T_4eef8_row1_col1\" class=\"data row1 col1\" >97.58%</td>\n",
              "      <td id=\"T_4eef8_row1_col2\" class=\"data row1 col2\" >97.59%</td>\n",
              "      <td id=\"T_4eef8_row1_col3\" class=\"data row1 col3\" >97.60%</td>\n",
              "      <td id=\"T_4eef8_row1_col4\" class=\"data row1 col4\" >keras</td>\n",
              "      <td id=\"T_4eef8_row1_col5\" class=\"data row1 col5\" >False</td>\n",
              "      <td id=\"T_4eef8_row1_col6\" class=\"data row1 col6\" >True</td>\n",
              "      <td id=\"T_4eef8_row1_col7\" class=\"data row1 col7\" >Sequential</td>\n",
              "      <td id=\"T_4eef8_row1_col8\" class=\"data row1 col8\" >7</td>\n",
              "      <td id=\"T_4eef8_row1_col9\" class=\"data row1 col9\" >977987</td>\n",
              "      <td id=\"T_4eef8_row1_col10\" class=\"data row1 col10\" >1</td>\n",
              "      <td id=\"T_4eef8_row1_col11\" class=\"data row1 col11\" >1</td>\n",
              "      <td id=\"T_4eef8_row1_col12\" class=\"data row1 col12\" >3.000000</td>\n",
              "      <td id=\"T_4eef8_row1_col13\" class=\"data row1 col13\" >2</td>\n",
              "      <td id=\"T_4eef8_row1_col14\" class=\"data row1 col14\" >3</td>\n",
              "      <td id=\"T_4eef8_row1_col15\" class=\"data row1 col15\" >1</td>\n",
              "      <td id=\"T_4eef8_row1_col16\" class=\"data row1 col16\" >str</td>\n",
              "      <td id=\"T_4eef8_row1_col17\" class=\"data row1 col17\" >Adam</td>\n",
              "      <td id=\"T_4eef8_row1_col18\" class=\"data row1 col18\" >{'name': 'sequential_16', 'lay...</td>\n",
              "      <td id=\"T_4eef8_row1_col19\" class=\"data row1 col19\" >1625648</td>\n",
              "      <td id=\"T_4eef8_row1_col20\" class=\"data row1 col20\" >cz2673</td>\n",
              "      <td id=\"T_4eef8_row1_col21\" class=\"data row1 col21\" >4</td>\n",
              "    </tr>\n",
              "    <tr>\n",
              "      <th id=\"T_4eef8_level0_row2\" class=\"row_heading level0 row2\" >2</th>\n",
              "      <td id=\"T_4eef8_row2_col0\" class=\"data row2 col0\" >94.86%</td>\n",
              "      <td id=\"T_4eef8_row2_col1\" class=\"data row2 col1\" >94.86%</td>\n",
              "      <td id=\"T_4eef8_row2_col2\" class=\"data row2 col2\" >94.83%</td>\n",
              "      <td id=\"T_4eef8_row2_col3\" class=\"data row2 col3\" >94.92%</td>\n",
              "      <td id=\"T_4eef8_row2_col4\" class=\"data row2 col4\" >keras</td>\n",
              "      <td id=\"T_4eef8_row2_col5\" class=\"data row2 col5\" >False</td>\n",
              "      <td id=\"T_4eef8_row2_col6\" class=\"data row2 col6\" >True</td>\n",
              "      <td id=\"T_4eef8_row2_col7\" class=\"data row2 col7\" >Sequential</td>\n",
              "      <td id=\"T_4eef8_row2_col8\" class=\"data row2 col8\" >7</td>\n",
              "      <td id=\"T_4eef8_row2_col9\" class=\"data row2 col9\" >977987</td>\n",
              "      <td id=\"T_4eef8_row2_col10\" class=\"data row2 col10\" >1</td>\n",
              "      <td id=\"T_4eef8_row2_col11\" class=\"data row2 col11\" >1</td>\n",
              "      <td id=\"T_4eef8_row2_col12\" class=\"data row2 col12\" >3.000000</td>\n",
              "      <td id=\"T_4eef8_row2_col13\" class=\"data row2 col13\" >2</td>\n",
              "      <td id=\"T_4eef8_row2_col14\" class=\"data row2 col14\" >3</td>\n",
              "      <td id=\"T_4eef8_row2_col15\" class=\"data row2 col15\" >1</td>\n",
              "      <td id=\"T_4eef8_row2_col16\" class=\"data row2 col16\" >str</td>\n",
              "      <td id=\"T_4eef8_row2_col17\" class=\"data row2 col17\" >Adam</td>\n",
              "      <td id=\"T_4eef8_row2_col18\" class=\"data row2 col18\" >{'name': 'sequential_12', 'lay...</td>\n",
              "      <td id=\"T_4eef8_row2_col19\" class=\"data row2 col19\" >1623728</td>\n",
              "      <td id=\"T_4eef8_row2_col20\" class=\"data row2 col20\" >cz2673</td>\n",
              "      <td id=\"T_4eef8_row2_col21\" class=\"data row2 col21\" >3</td>\n",
              "    </tr>\n",
              "    <tr>\n",
              "      <th id=\"T_4eef8_level0_row3\" class=\"row_heading level0 row3\" >3</th>\n",
              "      <td id=\"T_4eef8_row3_col0\" class=\"data row3 col0\" >92.93%</td>\n",
              "      <td id=\"T_4eef8_row3_col1\" class=\"data row3 col1\" >92.94%</td>\n",
              "      <td id=\"T_4eef8_row3_col2\" class=\"data row3 col2\" >92.92%</td>\n",
              "      <td id=\"T_4eef8_row3_col3\" class=\"data row3 col3\" >92.99%</td>\n",
              "      <td id=\"T_4eef8_row3_col4\" class=\"data row3 col4\" >keras</td>\n",
              "      <td id=\"T_4eef8_row3_col5\" class=\"data row3 col5\" >False</td>\n",
              "      <td id=\"T_4eef8_row3_col6\" class=\"data row3 col6\" >True</td>\n",
              "      <td id=\"T_4eef8_row3_col7\" class=\"data row3 col7\" >Sequential</td>\n",
              "      <td id=\"T_4eef8_row3_col8\" class=\"data row3 col8\" >13</td>\n",
              "      <td id=\"T_4eef8_row3_col9\" class=\"data row3 col9\" >1852707</td>\n",
              "      <td id=\"T_4eef8_row3_col10\" class=\"data row3 col10\" >1</td>\n",
              "      <td id=\"T_4eef8_row3_col11\" class=\"data row3 col11\" >1</td>\n",
              "      <td id=\"T_4eef8_row3_col12\" class=\"data row3 col12\" >8.000000</td>\n",
              "      <td id=\"T_4eef8_row3_col13\" class=\"data row3 col13\" >3</td>\n",
              "      <td id=\"T_4eef8_row3_col14\" class=\"data row3 col14\" >8</td>\n",
              "      <td id=\"T_4eef8_row3_col15\" class=\"data row3 col15\" >1</td>\n",
              "      <td id=\"T_4eef8_row3_col16\" class=\"data row3 col16\" >str</td>\n",
              "      <td id=\"T_4eef8_row3_col17\" class=\"data row3 col17\" >Adam</td>\n",
              "      <td id=\"T_4eef8_row3_col18\" class=\"data row3 col18\" >{'name': 'sequential', 'layers...</td>\n",
              "      <td id=\"T_4eef8_row3_col19\" class=\"data row3 col19\" >2347056</td>\n",
              "      <td id=\"T_4eef8_row3_col20\" class=\"data row3 col20\" >hp2500test</td>\n",
              "      <td id=\"T_4eef8_row3_col21\" class=\"data row3 col21\" >2</td>\n",
              "    </tr>\n",
              "    <tr>\n",
              "      <th id=\"T_4eef8_level0_row4\" class=\"row_heading level0 row4\" >4</th>\n",
              "      <td id=\"T_4eef8_row4_col0\" class=\"data row4 col0\" >90.75%</td>\n",
              "      <td id=\"T_4eef8_row4_col1\" class=\"data row4 col1\" >90.76%</td>\n",
              "      <td id=\"T_4eef8_row4_col2\" class=\"data row4 col2\" >91.32%</td>\n",
              "      <td id=\"T_4eef8_row4_col3\" class=\"data row4 col3\" >90.61%</td>\n",
              "      <td id=\"T_4eef8_row4_col4\" class=\"data row4 col4\" >keras</td>\n",
              "      <td id=\"T_4eef8_row4_col5\" class=\"data row4 col5\" >False</td>\n",
              "      <td id=\"T_4eef8_row4_col6\" class=\"data row4 col6\" >True</td>\n",
              "      <td id=\"T_4eef8_row4_col7\" class=\"data row4 col7\" >Sequential</td>\n",
              "      <td id=\"T_4eef8_row4_col8\" class=\"data row4 col8\" >13</td>\n",
              "      <td id=\"T_4eef8_row4_col9\" class=\"data row4 col9\" >1852707</td>\n",
              "      <td id=\"T_4eef8_row4_col10\" class=\"data row4 col10\" >1</td>\n",
              "      <td id=\"T_4eef8_row4_col11\" class=\"data row4 col11\" >1</td>\n",
              "      <td id=\"T_4eef8_row4_col12\" class=\"data row4 col12\" >nan</td>\n",
              "      <td id=\"T_4eef8_row4_col13\" class=\"data row4 col13\" >3</td>\n",
              "      <td id=\"T_4eef8_row4_col14\" class=\"data row4 col14\" >8</td>\n",
              "      <td id=\"T_4eef8_row4_col15\" class=\"data row4 col15\" >1</td>\n",
              "      <td id=\"T_4eef8_row4_col16\" class=\"data row4 col16\" >str</td>\n",
              "      <td id=\"T_4eef8_row4_col17\" class=\"data row4 col17\" >Adam</td>\n",
              "      <td id=\"T_4eef8_row4_col18\" class=\"data row4 col18\" >{'name': 'sequential', 'layers...</td>\n",
              "      <td id=\"T_4eef8_row4_col19\" class=\"data row4 col19\" >2346288</td>\n",
              "      <td id=\"T_4eef8_row4_col20\" class=\"data row4 col20\" >nikkigsak</td>\n",
              "      <td id=\"T_4eef8_row4_col21\" class=\"data row4 col21\" >7</td>\n",
              "    </tr>\n",
              "    <tr>\n",
              "      <th id=\"T_4eef8_level0_row5\" class=\"row_heading level0 row5\" >5</th>\n",
              "      <td id=\"T_4eef8_row5_col0\" class=\"data row5 col0\" >88.43%</td>\n",
              "      <td id=\"T_4eef8_row5_col1\" class=\"data row5 col1\" >88.56%</td>\n",
              "      <td id=\"T_4eef8_row5_col2\" class=\"data row5 col2\" >89.16%</td>\n",
              "      <td id=\"T_4eef8_row5_col3\" class=\"data row5 col3\" >88.32%</td>\n",
              "      <td id=\"T_4eef8_row5_col4\" class=\"data row5 col4\" >keras</td>\n",
              "      <td id=\"T_4eef8_row5_col5\" class=\"data row5 col5\" >False</td>\n",
              "      <td id=\"T_4eef8_row5_col6\" class=\"data row5 col6\" >True</td>\n",
              "      <td id=\"T_4eef8_row5_col7\" class=\"data row5 col7\" >Sequential</td>\n",
              "      <td id=\"T_4eef8_row5_col8\" class=\"data row5 col8\" >13</td>\n",
              "      <td id=\"T_4eef8_row5_col9\" class=\"data row5 col9\" >1852707</td>\n",
              "      <td id=\"T_4eef8_row5_col10\" class=\"data row5 col10\" >1</td>\n",
              "      <td id=\"T_4eef8_row5_col11\" class=\"data row5 col11\" >1</td>\n",
              "      <td id=\"T_4eef8_row5_col12\" class=\"data row5 col12\" >nan</td>\n",
              "      <td id=\"T_4eef8_row5_col13\" class=\"data row5 col13\" >3</td>\n",
              "      <td id=\"T_4eef8_row5_col14\" class=\"data row5 col14\" >8</td>\n",
              "      <td id=\"T_4eef8_row5_col15\" class=\"data row5 col15\" >1</td>\n",
              "      <td id=\"T_4eef8_row5_col16\" class=\"data row5 col16\" >str</td>\n",
              "      <td id=\"T_4eef8_row5_col17\" class=\"data row5 col17\" >Adam</td>\n",
              "      <td id=\"T_4eef8_row5_col18\" class=\"data row5 col18\" >{'name': 'sequential', 'layers...</td>\n",
              "      <td id=\"T_4eef8_row5_col19\" class=\"data row5 col19\" >2346288</td>\n",
              "      <td id=\"T_4eef8_row5_col20\" class=\"data row5 col20\" >nikkigsak</td>\n",
              "      <td id=\"T_4eef8_row5_col21\" class=\"data row5 col21\" >6</td>\n",
              "    </tr>\n",
              "    <tr>\n",
              "      <th id=\"T_4eef8_level0_row6\" class=\"row_heading level0 row6\" >6</th>\n",
              "      <td id=\"T_4eef8_row6_col0\" class=\"data row6 col0\" >88.05%</td>\n",
              "      <td id=\"T_4eef8_row6_col1\" class=\"data row6 col1\" >88.26%</td>\n",
              "      <td id=\"T_4eef8_row6_col2\" class=\"data row6 col2\" >90.00%</td>\n",
              "      <td id=\"T_4eef8_row6_col3\" class=\"data row6 col3\" >88.01%</td>\n",
              "      <td id=\"T_4eef8_row6_col4\" class=\"data row6 col4\" >keras</td>\n",
              "      <td id=\"T_4eef8_row6_col5\" class=\"data row6 col5\" >False</td>\n",
              "      <td id=\"T_4eef8_row6_col6\" class=\"data row6 col6\" >True</td>\n",
              "      <td id=\"T_4eef8_row6_col7\" class=\"data row6 col7\" >Sequential</td>\n",
              "      <td id=\"T_4eef8_row6_col8\" class=\"data row6 col8\" >16</td>\n",
              "      <td id=\"T_4eef8_row6_col9\" class=\"data row6 col9\" >3811619</td>\n",
              "      <td id=\"T_4eef8_row6_col10\" class=\"data row6 col10\" >1</td>\n",
              "      <td id=\"T_4eef8_row6_col11\" class=\"data row6 col11\" >1</td>\n",
              "      <td id=\"T_4eef8_row6_col12\" class=\"data row6 col12\" >10.000000</td>\n",
              "      <td id=\"T_4eef8_row6_col13\" class=\"data row6 col13\" >4</td>\n",
              "      <td id=\"T_4eef8_row6_col14\" class=\"data row6 col14\" >10</td>\n",
              "      <td id=\"T_4eef8_row6_col15\" class=\"data row6 col15\" >1</td>\n",
              "      <td id=\"T_4eef8_row6_col16\" class=\"data row6 col16\" >str</td>\n",
              "      <td id=\"T_4eef8_row6_col17\" class=\"data row6 col17\" >Adam</td>\n",
              "      <td id=\"T_4eef8_row6_col18\" class=\"data row6 col18\" >{'name': 'sequential', 'layers...</td>\n",
              "      <td id=\"T_4eef8_row6_col19\" class=\"data row6 col19\" >2632440</td>\n",
              "      <td id=\"T_4eef8_row6_col20\" class=\"data row6 col20\" >AdvProjectsinML</td>\n",
              "      <td id=\"T_4eef8_row6_col21\" class=\"data row6 col21\" >1</td>\n",
              "    </tr>\n",
              "  </tbody>\n",
              "</table>\n"
            ]
          },
          "metadata": {},
          "execution_count": 19
        }
      ]
    },
    {
      "cell_type": "markdown",
      "metadata": {
        "id": "g_bklL3shOER"
      },
      "source": [
        "Compare Models"
      ]
    },
    {
      "cell_type": "code",
      "metadata": {
        "colab": {
          "base_uri": "https://localhost:8080/",
          "height": 398
        },
        "id": "quo_V3A3hNS3",
        "outputId": "e9c784dc-b056-4b13-c51d-b02bf5b49be5"
      },
      "source": [
        "# Compare two or more models (Experimental, Git-like Diffs for Model Architectures)\n",
        "data=mycompetition.compare_models([1,2], verbose=1)\n",
        "mycompetition.stylize_compare(data)"
      ],
      "execution_count": null,
      "outputs": [
        {
          "output_type": "display_data",
          "data": {
            "text/plain": [
              "<IPython.core.display.HTML object>"
            ],
            "text/html": [
              "<style type=\"text/css\">\n",
              "#T_9f6f2_ caption {\n",
              "  color: black;\n",
              "  font-size: 18px;\n",
              "}\n",
              "#T_9f6f2_row0_col0, #T_9f6f2_row0_col3, #T_9f6f2_row1_col0, #T_9f6f2_row1_col3, #T_9f6f2_row3_col0, #T_9f6f2_row3_col3, #T_9f6f2_row4_col0, #T_9f6f2_row4_col3, #T_9f6f2_row6_col0, #T_9f6f2_row6_col3, #T_9f6f2_row7_col0, #T_9f6f2_row7_col3, #T_9f6f2_row9_col0, #T_9f6f2_row9_col3, #T_9f6f2_row10_col0, #T_9f6f2_row10_col3, #T_9f6f2_row12_col0, #T_9f6f2_row13_col0 {\n",
              "  background: #fdcdac;\n",
              "  color: black;\n",
              "  color: black;\n",
              "}\n",
              "#T_9f6f2_row0_col1, #T_9f6f2_row0_col2, #T_9f6f2_row0_col4, #T_9f6f2_row0_col5, #T_9f6f2_row1_col1, #T_9f6f2_row1_col2, #T_9f6f2_row1_col4, #T_9f6f2_row1_col5, #T_9f6f2_row2_col1, #T_9f6f2_row2_col2, #T_9f6f2_row2_col4, #T_9f6f2_row2_col5, #T_9f6f2_row3_col1, #T_9f6f2_row3_col2, #T_9f6f2_row3_col4, #T_9f6f2_row3_col5, #T_9f6f2_row4_col1, #T_9f6f2_row4_col2, #T_9f6f2_row4_col4, #T_9f6f2_row4_col5, #T_9f6f2_row5_col1, #T_9f6f2_row5_col2, #T_9f6f2_row5_col4, #T_9f6f2_row5_col5, #T_9f6f2_row6_col1, #T_9f6f2_row6_col2, #T_9f6f2_row6_col4, #T_9f6f2_row6_col5, #T_9f6f2_row7_col1, #T_9f6f2_row7_col2, #T_9f6f2_row7_col4, #T_9f6f2_row7_col5, #T_9f6f2_row8_col1, #T_9f6f2_row8_col2, #T_9f6f2_row8_col4, #T_9f6f2_row8_col5, #T_9f6f2_row9_col1, #T_9f6f2_row9_col2, #T_9f6f2_row9_col4, #T_9f6f2_row9_col5, #T_9f6f2_row10_col1, #T_9f6f2_row10_col2, #T_9f6f2_row10_col4, #T_9f6f2_row10_col5, #T_9f6f2_row11_col1, #T_9f6f2_row11_col2, #T_9f6f2_row11_col4, #T_9f6f2_row11_col5, #T_9f6f2_row12_col1, #T_9f6f2_row12_col2, #T_9f6f2_row12_col4, #T_9f6f2_row12_col5, #T_9f6f2_row13_col1, #T_9f6f2_row13_col2, #T_9f6f2_row13_col3, #T_9f6f2_row13_col4, #T_9f6f2_row13_col5, #T_9f6f2_row14_col1, #T_9f6f2_row14_col2, #T_9f6f2_row14_col3, #T_9f6f2_row14_col4, #T_9f6f2_row14_col5, #T_9f6f2_row15_col1, #T_9f6f2_row15_col2, #T_9f6f2_row15_col3, #T_9f6f2_row15_col4, #T_9f6f2_row15_col5 {\n",
              "  background: white;\n",
              "  color: black;\n",
              "  color: black;\n",
              "}\n",
              "#T_9f6f2_row2_col0, #T_9f6f2_row2_col3, #T_9f6f2_row5_col0, #T_9f6f2_row5_col3, #T_9f6f2_row8_col0, #T_9f6f2_row8_col3, #T_9f6f2_row11_col0 {\n",
              "  background: #f1e2cc;\n",
              "  color: black;\n",
              "  color: black;\n",
              "}\n",
              "#T_9f6f2_row11_col3, #T_9f6f2_row14_col0 {\n",
              "  background: #e6f5c9;\n",
              "  color: black;\n",
              "  color: black;\n",
              "}\n",
              "#T_9f6f2_row12_col3, #T_9f6f2_row15_col0 {\n",
              "  background: #fff2ae;\n",
              "  color: black;\n",
              "  color: black;\n",
              "}\n",
              "</style>\n",
              "<table id=\"T_9f6f2_\">\n",
              "  <caption>Model type: Neural Network</caption>\n",
              "  <thead>\n",
              "    <tr>\n",
              "      <th class=\"blank level0\" >&nbsp;</th>\n",
              "      <th class=\"col_heading level0 col0\" >Model_1_Layer</th>\n",
              "      <th class=\"col_heading level0 col1\" >Model_1_Shape</th>\n",
              "      <th class=\"col_heading level0 col2\" >Model_1_Params</th>\n",
              "      <th class=\"col_heading level0 col3\" >Model_2_Layer</th>\n",
              "      <th class=\"col_heading level0 col4\" >Model_2_Shape</th>\n",
              "      <th class=\"col_heading level0 col5\" >Model_2_Params</th>\n",
              "    </tr>\n",
              "  </thead>\n",
              "  <tbody>\n",
              "    <tr>\n",
              "      <th id=\"T_9f6f2_level0_row0\" class=\"row_heading level0 row0\" >0</th>\n",
              "      <td id=\"T_9f6f2_row0_col0\" class=\"data row0 col0\" >Conv2D</td>\n",
              "      <td id=\"T_9f6f2_row0_col1\" class=\"data row0 col1\" >[None, 192, 192, 32]</td>\n",
              "      <td id=\"T_9f6f2_row0_col2\" class=\"data row0 col2\" >896</td>\n",
              "      <td id=\"T_9f6f2_row0_col3\" class=\"data row0 col3\" >Conv2D</td>\n",
              "      <td id=\"T_9f6f2_row0_col4\" class=\"data row0 col4\" >[None, 192, 192, 32]</td>\n",
              "      <td id=\"T_9f6f2_row0_col5\" class=\"data row0 col5\" >896.000000</td>\n",
              "    </tr>\n",
              "    <tr>\n",
              "      <th id=\"T_9f6f2_level0_row1\" class=\"row_heading level0 row1\" >1</th>\n",
              "      <td id=\"T_9f6f2_row1_col0\" class=\"data row1 col0\" >Conv2D</td>\n",
              "      <td id=\"T_9f6f2_row1_col1\" class=\"data row1 col1\" >[None, 192, 192, 32]</td>\n",
              "      <td id=\"T_9f6f2_row1_col2\" class=\"data row1 col2\" >1056</td>\n",
              "      <td id=\"T_9f6f2_row1_col3\" class=\"data row1 col3\" >Conv2D</td>\n",
              "      <td id=\"T_9f6f2_row1_col4\" class=\"data row1 col4\" >[None, 192, 192, 32]</td>\n",
              "      <td id=\"T_9f6f2_row1_col5\" class=\"data row1 col5\" >1056.000000</td>\n",
              "    </tr>\n",
              "    <tr>\n",
              "      <th id=\"T_9f6f2_level0_row2\" class=\"row_heading level0 row2\" >2</th>\n",
              "      <td id=\"T_9f6f2_row2_col0\" class=\"data row2 col0\" >MaxPooling2D</td>\n",
              "      <td id=\"T_9f6f2_row2_col1\" class=\"data row2 col1\" >[None, 96, 96, 32]</td>\n",
              "      <td id=\"T_9f6f2_row2_col2\" class=\"data row2 col2\" >0</td>\n",
              "      <td id=\"T_9f6f2_row2_col3\" class=\"data row2 col3\" >MaxPooling2D</td>\n",
              "      <td id=\"T_9f6f2_row2_col4\" class=\"data row2 col4\" >[None, 96, 96, 32]</td>\n",
              "      <td id=\"T_9f6f2_row2_col5\" class=\"data row2 col5\" >0.000000</td>\n",
              "    </tr>\n",
              "    <tr>\n",
              "      <th id=\"T_9f6f2_level0_row3\" class=\"row_heading level0 row3\" >3</th>\n",
              "      <td id=\"T_9f6f2_row3_col0\" class=\"data row3 col0\" >Conv2D</td>\n",
              "      <td id=\"T_9f6f2_row3_col1\" class=\"data row3 col1\" >[None, 96, 96, 64]</td>\n",
              "      <td id=\"T_9f6f2_row3_col2\" class=\"data row3 col2\" >18496</td>\n",
              "      <td id=\"T_9f6f2_row3_col3\" class=\"data row3 col3\" >Conv2D</td>\n",
              "      <td id=\"T_9f6f2_row3_col4\" class=\"data row3 col4\" >[None, 96, 96, 64]</td>\n",
              "      <td id=\"T_9f6f2_row3_col5\" class=\"data row3 col5\" >18496.000000</td>\n",
              "    </tr>\n",
              "    <tr>\n",
              "      <th id=\"T_9f6f2_level0_row4\" class=\"row_heading level0 row4\" >4</th>\n",
              "      <td id=\"T_9f6f2_row4_col0\" class=\"data row4 col0\" >Conv2D</td>\n",
              "      <td id=\"T_9f6f2_row4_col1\" class=\"data row4 col1\" >[None, 96, 96, 64]</td>\n",
              "      <td id=\"T_9f6f2_row4_col2\" class=\"data row4 col2\" >4160</td>\n",
              "      <td id=\"T_9f6f2_row4_col3\" class=\"data row4 col3\" >Conv2D</td>\n",
              "      <td id=\"T_9f6f2_row4_col4\" class=\"data row4 col4\" >[None, 96, 96, 64]</td>\n",
              "      <td id=\"T_9f6f2_row4_col5\" class=\"data row4 col5\" >4160.000000</td>\n",
              "    </tr>\n",
              "    <tr>\n",
              "      <th id=\"T_9f6f2_level0_row5\" class=\"row_heading level0 row5\" >5</th>\n",
              "      <td id=\"T_9f6f2_row5_col0\" class=\"data row5 col0\" >MaxPooling2D</td>\n",
              "      <td id=\"T_9f6f2_row5_col1\" class=\"data row5 col1\" >[None, 48, 48, 64]</td>\n",
              "      <td id=\"T_9f6f2_row5_col2\" class=\"data row5 col2\" >0</td>\n",
              "      <td id=\"T_9f6f2_row5_col3\" class=\"data row5 col3\" >MaxPooling2D</td>\n",
              "      <td id=\"T_9f6f2_row5_col4\" class=\"data row5 col4\" >[None, 48, 48, 64]</td>\n",
              "      <td id=\"T_9f6f2_row5_col5\" class=\"data row5 col5\" >0.000000</td>\n",
              "    </tr>\n",
              "    <tr>\n",
              "      <th id=\"T_9f6f2_level0_row6\" class=\"row_heading level0 row6\" >6</th>\n",
              "      <td id=\"T_9f6f2_row6_col0\" class=\"data row6 col0\" >Conv2D</td>\n",
              "      <td id=\"T_9f6f2_row6_col1\" class=\"data row6 col1\" >[None, 48, 48, 128]</td>\n",
              "      <td id=\"T_9f6f2_row6_col2\" class=\"data row6 col2\" >73856</td>\n",
              "      <td id=\"T_9f6f2_row6_col3\" class=\"data row6 col3\" >Conv2D</td>\n",
              "      <td id=\"T_9f6f2_row6_col4\" class=\"data row6 col4\" >[None, 48, 48, 128]</td>\n",
              "      <td id=\"T_9f6f2_row6_col5\" class=\"data row6 col5\" >73856.000000</td>\n",
              "    </tr>\n",
              "    <tr>\n",
              "      <th id=\"T_9f6f2_level0_row7\" class=\"row_heading level0 row7\" >7</th>\n",
              "      <td id=\"T_9f6f2_row7_col0\" class=\"data row7 col0\" >Conv2D</td>\n",
              "      <td id=\"T_9f6f2_row7_col1\" class=\"data row7 col1\" >[None, 48, 48, 128]</td>\n",
              "      <td id=\"T_9f6f2_row7_col2\" class=\"data row7 col2\" >16512</td>\n",
              "      <td id=\"T_9f6f2_row7_col3\" class=\"data row7 col3\" >Conv2D</td>\n",
              "      <td id=\"T_9f6f2_row7_col4\" class=\"data row7 col4\" >[None, 48, 48, 128]</td>\n",
              "      <td id=\"T_9f6f2_row7_col5\" class=\"data row7 col5\" >16512.000000</td>\n",
              "    </tr>\n",
              "    <tr>\n",
              "      <th id=\"T_9f6f2_level0_row8\" class=\"row_heading level0 row8\" >8</th>\n",
              "      <td id=\"T_9f6f2_row8_col0\" class=\"data row8 col0\" >MaxPooling2D</td>\n",
              "      <td id=\"T_9f6f2_row8_col1\" class=\"data row8 col1\" >[None, 24, 24, 128]</td>\n",
              "      <td id=\"T_9f6f2_row8_col2\" class=\"data row8 col2\" >0</td>\n",
              "      <td id=\"T_9f6f2_row8_col3\" class=\"data row8 col3\" >MaxPooling2D</td>\n",
              "      <td id=\"T_9f6f2_row8_col4\" class=\"data row8 col4\" >[None, 24, 24, 128]</td>\n",
              "      <td id=\"T_9f6f2_row8_col5\" class=\"data row8 col5\" >0.000000</td>\n",
              "    </tr>\n",
              "    <tr>\n",
              "      <th id=\"T_9f6f2_level0_row9\" class=\"row_heading level0 row9\" >9</th>\n",
              "      <td id=\"T_9f6f2_row9_col0\" class=\"data row9 col0\" >Conv2D</td>\n",
              "      <td id=\"T_9f6f2_row9_col1\" class=\"data row9 col1\" >[None, 24, 24, 512]</td>\n",
              "      <td id=\"T_9f6f2_row9_col2\" class=\"data row9 col2\" >590336</td>\n",
              "      <td id=\"T_9f6f2_row9_col3\" class=\"data row9 col3\" >Conv2D</td>\n",
              "      <td id=\"T_9f6f2_row9_col4\" class=\"data row9 col4\" >[None, 24, 24, 512]</td>\n",
              "      <td id=\"T_9f6f2_row9_col5\" class=\"data row9 col5\" >590336.000000</td>\n",
              "    </tr>\n",
              "    <tr>\n",
              "      <th id=\"T_9f6f2_level0_row10\" class=\"row_heading level0 row10\" >10</th>\n",
              "      <td id=\"T_9f6f2_row10_col0\" class=\"data row10 col0\" >Conv2D</td>\n",
              "      <td id=\"T_9f6f2_row10_col1\" class=\"data row10 col1\" >[None, 24, 24, 512]</td>\n",
              "      <td id=\"T_9f6f2_row10_col2\" class=\"data row10 col2\" >262656</td>\n",
              "      <td id=\"T_9f6f2_row10_col3\" class=\"data row10 col3\" >Conv2D</td>\n",
              "      <td id=\"T_9f6f2_row10_col4\" class=\"data row10 col4\" >[None, 24, 24, 512]</td>\n",
              "      <td id=\"T_9f6f2_row10_col5\" class=\"data row10 col5\" >262656.000000</td>\n",
              "    </tr>\n",
              "    <tr>\n",
              "      <th id=\"T_9f6f2_level0_row11\" class=\"row_heading level0 row11\" >11</th>\n",
              "      <td id=\"T_9f6f2_row11_col0\" class=\"data row11 col0\" >MaxPooling2D</td>\n",
              "      <td id=\"T_9f6f2_row11_col1\" class=\"data row11 col1\" >[None, 12, 12, 512]</td>\n",
              "      <td id=\"T_9f6f2_row11_col2\" class=\"data row11 col2\" >0</td>\n",
              "      <td id=\"T_9f6f2_row11_col3\" class=\"data row11 col3\" >Flatten</td>\n",
              "      <td id=\"T_9f6f2_row11_col4\" class=\"data row11 col4\" >[None, 294912]</td>\n",
              "      <td id=\"T_9f6f2_row11_col5\" class=\"data row11 col5\" >0.000000</td>\n",
              "    </tr>\n",
              "    <tr>\n",
              "      <th id=\"T_9f6f2_level0_row12\" class=\"row_heading level0 row12\" >12</th>\n",
              "      <td id=\"T_9f6f2_row12_col0\" class=\"data row12 col0\" >Conv2D</td>\n",
              "      <td id=\"T_9f6f2_row12_col1\" class=\"data row12 col1\" >[None, 12, 12, 512]</td>\n",
              "      <td id=\"T_9f6f2_row12_col2\" class=\"data row12 col2\" >2359808</td>\n",
              "      <td id=\"T_9f6f2_row12_col3\" class=\"data row12 col3\" >Dense</td>\n",
              "      <td id=\"T_9f6f2_row12_col4\" class=\"data row12 col4\" >[None, 3]</td>\n",
              "      <td id=\"T_9f6f2_row12_col5\" class=\"data row12 col5\" >884739.000000</td>\n",
              "    </tr>\n",
              "    <tr>\n",
              "      <th id=\"T_9f6f2_level0_row13\" class=\"row_heading level0 row13\" >13</th>\n",
              "      <td id=\"T_9f6f2_row13_col0\" class=\"data row13 col0\" >Conv2D</td>\n",
              "      <td id=\"T_9f6f2_row13_col1\" class=\"data row13 col1\" >[None, 12, 12, 512]</td>\n",
              "      <td id=\"T_9f6f2_row13_col2\" class=\"data row13 col2\" >262656</td>\n",
              "      <td id=\"T_9f6f2_row13_col3\" class=\"data row13 col3\" >None</td>\n",
              "      <td id=\"T_9f6f2_row13_col4\" class=\"data row13 col4\" >None</td>\n",
              "      <td id=\"T_9f6f2_row13_col5\" class=\"data row13 col5\" >nan</td>\n",
              "    </tr>\n",
              "    <tr>\n",
              "      <th id=\"T_9f6f2_level0_row14\" class=\"row_heading level0 row14\" >14</th>\n",
              "      <td id=\"T_9f6f2_row14_col0\" class=\"data row14 col0\" >Flatten</td>\n",
              "      <td id=\"T_9f6f2_row14_col1\" class=\"data row14 col1\" >[None, 73728]</td>\n",
              "      <td id=\"T_9f6f2_row14_col2\" class=\"data row14 col2\" >0</td>\n",
              "      <td id=\"T_9f6f2_row14_col3\" class=\"data row14 col3\" >None</td>\n",
              "      <td id=\"T_9f6f2_row14_col4\" class=\"data row14 col4\" >None</td>\n",
              "      <td id=\"T_9f6f2_row14_col5\" class=\"data row14 col5\" >nan</td>\n",
              "    </tr>\n",
              "    <tr>\n",
              "      <th id=\"T_9f6f2_level0_row15\" class=\"row_heading level0 row15\" >15</th>\n",
              "      <td id=\"T_9f6f2_row15_col0\" class=\"data row15 col0\" >Dense</td>\n",
              "      <td id=\"T_9f6f2_row15_col1\" class=\"data row15 col1\" >[None, 3]</td>\n",
              "      <td id=\"T_9f6f2_row15_col2\" class=\"data row15 col2\" >221187</td>\n",
              "      <td id=\"T_9f6f2_row15_col3\" class=\"data row15 col3\" >None</td>\n",
              "      <td id=\"T_9f6f2_row15_col4\" class=\"data row15 col4\" >None</td>\n",
              "      <td id=\"T_9f6f2_row15_col5\" class=\"data row15 col5\" >nan</td>\n",
              "    </tr>\n",
              "  </tbody>\n",
              "</table>\n"
            ]
          },
          "metadata": {}
        }
      ]
    },
    {
      "cell_type": "markdown",
      "metadata": {
        "id": "FKm9ugiBhQFn"
      },
      "source": [
        "#### Check structure of y test data \n",
        "(This helps users understand how to submit predicted values to leaderboard)"
      ]
    },
    {
      "cell_type": "code",
      "metadata": {
        "colab": {
          "base_uri": "https://localhost:8080/"
        },
        "id": "dqY82D22hPZx",
        "outputId": "3b17f91e-2be1-4cdf-e557-8a6157c30177"
      },
      "source": [
        "mycompetition.inspect_y_test()"
      ],
      "execution_count": null,
      "outputs": [
        {
          "output_type": "execute_result",
          "data": {
            "text/plain": [
              "{'class_balance': {'COVID': 240, 'NORMAL': 269, 'PNEUMONIA': 269},\n",
              " 'class_labels': ['PNEUMONIA', 'NORMAL', 'COVID'],\n",
              " 'label_dtypes': {\"<class 'str'>\": 778},\n",
              " 'y_length': 778,\n",
              " 'ytest_example': ['PNEUMONIA', 'NORMAL', 'COVID', 'NORMAL', 'PNEUMONIA']}"
            ]
          },
          "metadata": {},
          "execution_count": 19
        }
      ]
    },
    {
      "cell_type": "markdown",
      "source": [
        "## Homework "
      ],
      "metadata": {
        "id": "Obgdeb0KCyOu"
      }
    },
    {
      "cell_type": "markdown",
      "source": [
        "### Citation of paper providing original dataset:\n",
        "M.E.H. Chowdhury, T. Rahman, A. Khandakar, R. Mazhar, M.A. Kadir, Z.B. Mahbub, K.R. Islam, M.S. Khan, A. Iqbal, N. Al-Emadi, M.B.I. Reaz, “Can AI help in screening Viral and COVID-19 pneumonia?” arXiv preprint, 29 March 2020, https://arxiv.org/abs/2003.13145"
      ],
      "metadata": {
        "id": "MMugYyYuC36Y"
      }
    },
    {
      "cell_type": "markdown",
      "source": [
        "### 1. Visualize images that demonstrate when x-rays demonstrate Covid Postivity and when they do not (You can present visuals of each category in the data if you would like to).\n"
      ],
      "metadata": {
        "id": "DgHpoPcTDCxg"
      }
    },
    {
      "cell_type": "code",
      "source": [
        "im1 =preprocessor('COVID-19 Radiography Database/COVID/COVID (291).png')\n",
        "im2 =preprocessor('COVID-19 Radiography Database/NORMAL/NORMAL (70).png')\n",
        "im3 =preprocessor('COVID-19 Radiography Database/Viral Pneumonia/Viral Pneumonia (303).png')\n",
        "\n",
        "fig = plt.figure(figsize=(8., 8.))\n",
        "grid = ImageGrid(fig, 111,  # similar to subplot(111)\n",
        "                 nrows_ncols=(1, 3),  # creates 2x2 grid of axes\n",
        "                 axes_pad=0.25,  # pad between axes in inch.\n",
        "                 )\n",
        "\n",
        "for ax, im in zip(grid, [im1, im2, im3]):\n",
        "    # Iterating over the grid returns the Axes.\n",
        "    ax.imshow(im)\n",
        "plt.show()"
      ],
      "metadata": {
        "colab": {
          "base_uri": "https://localhost:8080/",
          "height": 188
        },
        "id": "tkXsLd_lCV3A",
        "outputId": "3c7e076d-b01a-430d-d570-8c1d2a29d693"
      },
      "execution_count": null,
      "outputs": [
        {
          "output_type": "display_data",
          "data": {
            "text/plain": [
              "<Figure size 576x576 with 6 Axes>"
            ],
            "image/png": "[encoded data removed]"
          },
          "metadata": {
            "needs_background": "light"
          }
        }
      ]
    },
    {
      "cell_type": "markdown",
      "source": [
        "X-ray images that depict Covid Positivity show blurriness/fuzziness in the lung area of the subject. A normal lung X-ray not affected by Covid is a much clearer image. Above, the first image shows an individual that is afflicted by Covid. The second image is a healthy/normal individual and the last image shows an individual with Viral Pneumonia. We can see that the individual infected with Covid has the cloudiest image representing larger damage to the lungs than Pneumonia. "
      ],
      "metadata": {
        "id": "kPQRxSGJHhXL"
      }
    },
    {
      "cell_type": "markdown",
      "source": [
        "### 2. Discuss the dataset in general terms and describe why building a predictive model using this data might be practically useful. Who could benefit from a model like this? Explain.\n",
        "\n",
        "\n",
        "This dataset is public database that includes a collection of images of lung scans (specifically COVID-19 chest x-ray images) from published articles. Building a predictive model using this data is practically useful for a number of reasons. Firstly, x-ray images of viral pneumonia to the human eye can be similar to x-ray images of COVID-19 positive lungs. However, convulutional neural networks is able to extract distinct features from these images and train/learn from the known data to avoid misdiagnosis. It also has the ability to analyze and perform using larger datasets, which is beneficial for a large scale extraction during something as big as a pandemic with an overwhelming amount of unprecedented information. A readily available database helps stimulate/catalyze research surrounding COVID-19 during a dire time where researchers may not have access to the necessary information. Additionally, rapid and PCR tests were scarce, and still are in some developing countries. Having multiple ways to detect COVID-19 positivity is beneficial for not only learning more about the virus itself, but to offer multiple avenues to test for COVID-19."
      ],
      "metadata": {
        "id": "kc_zZlKUG5AM"
      }
    },
    {
      "cell_type": "markdown",
      "source": [
        "###3. Run at least three prediction models to try to predict x-ray images well. Use transfer learning for at least one of these models\n",
        "\n"
      ],
      "metadata": {
        "id": "TOlcq7ucLm9_"
      }
    },
    {
      "cell_type": "markdown",
      "source": [
        "#### Model: Convolutional Neural Network"
      ],
      "metadata": {
        "id": "6_ABB0SL_nmB"
      }
    },
    {
      "cell_type": "code",
      "source": [
        "with tf.device('/device:GPU:0'): \n",
        "\n",
        "  model = tf.keras.Sequential([   \n",
        "    tf.keras.layers.Conv2D(kernel_size=5, filters=32, padding='same', activation='relu', input_shape=(192, 192, 3)),\n",
        "    tf.keras.layers.Conv2D(kernel_size=1, filters=32, padding='same', activation='relu'),\n",
        "    tf.keras.layers.MaxPooling2D(pool_size=2),\n",
        "    tf.keras.layers.Conv2D(kernel_size=5, filters=64, padding='same', activation='relu'),\n",
        "    tf.keras.layers.Conv2D(kernel_size=1, filters=64, padding='same', activation='relu'),\n",
        "    tf.keras.layers.MaxPooling2D(pool_size=2),\n",
        "    tf.keras.layers.Conv2D(kernel_size=5, filters=128, padding='same', activation='relu'),\n",
        "    tf.keras.layers.Conv2D(kernel_size=1, filters=128, padding='same', activation='relu'),\n",
        "    tf.keras.layers.MaxPooling2D(pool_size=2),\n",
        "    tf.keras.layers.Conv2D(kernel_size=5, filters=512, padding='same', activation='relu'),\n",
        "    tf.keras.layers.Conv2D(kernel_size=1, filters=512, padding='same', activation='relu'),\n",
        "    tf.keras.layers.Flatten(),\n",
        "    tf.keras.layers.Dense(3, activation='softmax')\n",
        "  ])\n",
        "\n",
        "  model.compile(\n",
        "    optimizer=\"adam\", \n",
        "    loss= 'categorical_crossentropy',\n",
        "    metrics=['accuracy'])\n",
        "  \n",
        "  # Fitting the CNN to the Training set\n",
        "  model.fit(X_train, y_train, \n",
        "                    epochs = 1, verbose=1,validation_data=(X_test,y_test))"
      ],
      "metadata": {
        "colab": {
          "base_uri": "https://localhost:8080/"
        },
        "id": "0lsNFFJ3hxef",
        "outputId": "71188b21-f2f8-45e1-aea3-98c5309385d2"
      },
      "execution_count": null,
      "outputs": [
        {
          "output_type": "stream",
          "name": "stdout",
          "text": [
            "WARNING:tensorflow:5 out of the last 299 calls to <function Model.make_train_function.<locals>.train_function at 0x7f38231777a0> triggered tf.function retracing. Tracing is expensive and the excessive number of tracings could be due to (1) creating @tf.function repeatedly in a loop, (2) passing tensors with different shapes, (3) passing Python objects instead of tensors. For (1), please define your @tf.function outside of the loop. For (2), @tf.function has experimental_relax_shapes=True option that relaxes argument shapes that can avoid unnecessary retracing. For (3), please refer to https://www.tensorflow.org/guide/function#controlling_retracing and https://www.tensorflow.org/api_docs/python/tf/function for  more details.\n",
            "98/98 [==============================] - 1015s 10s/step - loss: 0.5715 - accuracy: 0.7471 - val_loss: 0.6796 - val_accuracy: 0.7481\n"
          ]
        }
      ]
    },
    {
      "cell_type": "code",
      "source": [
        "model.summary()"
      ],
      "metadata": {
        "colab": {
          "base_uri": "https://localhost:8080/"
        },
        "id": "IzlYXizFpkRa",
        "outputId": "2b297157-e558-4668-9e7c-b0db1e38d611"
      },
      "execution_count": null,
      "outputs": [
        {
          "output_type": "stream",
          "name": "stdout",
          "text": [
            "Model: \"sequential_6\"\n",
            "_________________________________________________________________\n",
            " Layer (type)                Output Shape              Param #   \n",
            "=================================================================\n",
            " conv2d_306 (Conv2D)         (None, 192, 192, 32)      2432      \n",
            "                                                                 \n",
            " conv2d_307 (Conv2D)         (None, 192, 192, 32)      1056      \n",
            "                                                                 \n",
            " max_pooling2d_21 (MaxPoolin  (None, 96, 96, 32)       0         \n",
            " g2D)                                                            \n",
            "                                                                 \n",
            " conv2d_308 (Conv2D)         (None, 96, 96, 64)        51264     \n",
            "                                                                 \n",
            " conv2d_309 (Conv2D)         (None, 96, 96, 64)        4160      \n",
            "                                                                 \n",
            " max_pooling2d_22 (MaxPoolin  (None, 48, 48, 64)       0         \n",
            " g2D)                                                            \n",
            "                                                                 \n",
            " conv2d_310 (Conv2D)         (None, 48, 48, 128)       204928    \n",
            "                                                                 \n",
            " conv2d_311 (Conv2D)         (None, 48, 48, 128)       16512     \n",
            "                                                                 \n",
            " max_pooling2d_23 (MaxPoolin  (None, 24, 24, 128)      0         \n",
            " g2D)                                                            \n",
            "                                                                 \n",
            " conv2d_312 (Conv2D)         (None, 24, 24, 512)       1638912   \n",
            "                                                                 \n",
            " conv2d_313 (Conv2D)         (None, 24, 24, 512)       262656    \n",
            "                                                                 \n",
            " flatten_7 (Flatten)         (None, 294912)            0         \n",
            "                                                                 \n",
            " dense_17 (Dense)            (None, 3)                 884739    \n",
            "                                                                 \n",
            "=================================================================\n",
            "Total params: 3,066,659\n",
            "Trainable params: 3,066,659\n",
            "Non-trainable params: 0\n",
            "_________________________________________________________________\n"
          ]
        }
      ]
    },
    {
      "cell_type": "markdown",
      "source": [
        "Accuracy: .7471\n",
        "Val Accuracy: .7481"
      ],
      "metadata": {
        "id": "E_B1sAannXq_"
      }
    },
    {
      "cell_type": "markdown",
      "source": [
        "#### Model: VGG19"
      ],
      "metadata": {
        "id": "BPHqtnxZeODj"
      }
    },
    {
      "cell_type": "code",
      "source": [
        "with tf.device('/device:GPU:0'): # \"/GPU:0\": Short-hand notation for the first GPU of your machine that is visible to TensorFlow.\n",
        "                                 \n",
        "        keras_model = Sequential()\n",
        "        keras_model.add(Conv2D(filters = 96, kernel_size = (11,11), strides = (4,4), padding = 'same', activation='relu', input_shape=[192, 192, 3]))\n",
        "        keras_model.add(BatchNormalization())\n",
        "        keras_model.add(MaxPooling2D(pool_size= (3,3), strides = (2,2)))\n",
        "        keras_model.add(Conv2D(filters= 256, kernel_size= (5,5), strides = (1,1), padding='same', activation='relu'))\n",
        "        keras_model.add(BatchNormalization())\n",
        "        keras_model.add(MaxPooling2D(pool_size=(3,3), strides=(2,2)))\n",
        "        keras_model.add(Conv2D(filters= 384, kernel_size= (3,3), strides = (1,1), padding='same', activation='relu'))\n",
        "        keras_model.add(BatchNormalization())\n",
        "        keras_model.add(Conv2D(filters= 384, kernel_size= (3,3), strides = (1,1), padding='same', activation='relu'))\n",
        "        keras_model.add(BatchNormalization())\n",
        "        keras_model.add(Conv2D(filters= 256, kernel_size= (3,3), strides = (1,1), padding='same', activation='relu'))\n",
        "        keras_model.add(BatchNormalization())\n",
        "        keras_model.add(MaxPooling2D(pool_size=(3,3), strides=(2,2)))\n",
        "        keras_model.add(Flatten())\n",
        "        keras_model.add(Dense(124, activation='relu'))\n",
        "        keras_model.add(Dropout(0.5))\n",
        "        keras_model.add(Dense(124, activation='relu'))\n",
        "        keras_model.add(Dropout(0.5))\n",
        "        keras_model.add(Dense(3, activation='softmax'))\n",
        "\n",
        "        # Compile model...\n",
        "        keras_model.compile(loss='categorical_crossentropy', optimizer='rmsprop', metrics=['accuracy'])\n",
        "\n",
        "        # Fitting the NN to the Training set...\n",
        "        hist = keras_model.fit(X_train, y_train,\n",
        "                          epochs=1, verbose=1, validation_data=(X_test, y_test))"
      ],
      "metadata": {
        "colab": {
          "base_uri": "https://localhost:8080/"
        },
        "id": "u1ltZ5mpePgP",
        "outputId": "10eee242-cac0-4fc6-cab7-6b4cdf84704c"
      },
      "execution_count": null,
      "outputs": [
        {
          "output_type": "stream",
          "name": "stdout",
          "text": [
            "98/98 [==============================] - 364s 4s/step - loss: 1.8146 - accuracy: 0.5502 - val_loss: 29.9906 - val_accuracy: 0.3201\n"
          ]
        }
      ]
    },
    {
      "cell_type": "code",
      "source": [
        "keras_model.summary()"
      ],
      "metadata": {
        "colab": {
          "base_uri": "https://localhost:8080/"
        },
        "id": "04LVDhTwpsct",
        "outputId": "de5ea491-5a8b-476b-fdcd-188f9e92a5e0"
      },
      "execution_count": null,
      "outputs": [
        {
          "output_type": "stream",
          "name": "stdout",
          "text": [
            "Model: \"sequential_7\"\n",
            "_________________________________________________________________\n",
            " Layer (type)                Output Shape              Param #   \n",
            "=================================================================\n",
            " module_wrapper (ModuleWrapp  (None, 48, 48, 96)       34944     \n",
            " er)                                                             \n",
            "                                                                 \n",
            " batch_normalization_282 (Ba  (None, 48, 48, 96)       384       \n",
            " tchNormalization)                                               \n",
            "                                                                 \n",
            " module_wrapper_1 (ModuleWra  (None, 23, 23, 96)       0         \n",
            " pper)                                                           \n",
            "                                                                 \n",
            " module_wrapper_2 (ModuleWra  (None, 23, 23, 256)      614656    \n",
            " pper)                                                           \n",
            "                                                                 \n",
            " batch_normalization_283 (Ba  (None, 23, 23, 256)      1024      \n",
            " tchNormalization)                                               \n",
            "                                                                 \n",
            " module_wrapper_3 (ModuleWra  (None, 11, 11, 256)      0         \n",
            " pper)                                                           \n",
            "                                                                 \n",
            " module_wrapper_4 (ModuleWra  (None, 11, 11, 384)      885120    \n",
            " pper)                                                           \n",
            "                                                                 \n",
            " batch_normalization_284 (Ba  (None, 11, 11, 384)      1536      \n",
            " tchNormalization)                                               \n",
            "                                                                 \n",
            " module_wrapper_5 (ModuleWra  (None, 11, 11, 384)      1327488   \n",
            " pper)                                                           \n",
            "                                                                 \n",
            " batch_normalization_285 (Ba  (None, 11, 11, 384)      1536      \n",
            " tchNormalization)                                               \n",
            "                                                                 \n",
            " module_wrapper_6 (ModuleWra  (None, 11, 11, 256)      884992    \n",
            " pper)                                                           \n",
            "                                                                 \n",
            " batch_normalization_286 (Ba  (None, 11, 11, 256)      1024      \n",
            " tchNormalization)                                               \n",
            "                                                                 \n",
            " module_wrapper_7 (ModuleWra  (None, 5, 5, 256)        0         \n",
            " pper)                                                           \n",
            "                                                                 \n",
            " flatten_8 (Flatten)         (None, 6400)              0         \n",
            "                                                                 \n",
            " dense_18 (Dense)            (None, 124)               793724    \n",
            "                                                                 \n",
            " dropout_3 (Dropout)         (None, 124)               0         \n",
            "                                                                 \n",
            " dense_19 (Dense)            (None, 124)               15500     \n",
            "                                                                 \n",
            " dropout_4 (Dropout)         (None, 124)               0         \n",
            "                                                                 \n",
            " dense_20 (Dense)            (None, 3)                 375       \n",
            "                                                                 \n",
            "=================================================================\n",
            "Total params: 4,562,303\n",
            "Trainable params: 4,559,551\n",
            "Non-trainable params: 2,752\n",
            "_________________________________________________________________\n"
          ]
        }
      ]
    },
    {
      "cell_type": "markdown",
      "source": [
        " Accuracy: 0.5502 Val Accuracy: 0.3201"
      ],
      "metadata": {
        "id": "qQtBCXlUpRwj"
      }
    },
    {
      "cell_type": "markdown",
      "source": [
        "#### Model: VGG16"
      ],
      "metadata": {
        "id": "jAYCpgyt-Hkf"
      }
    },
    {
      "cell_type": "code",
      "source": [
        "from tensorflow.keras.applications import VGG16\n",
        "from tensorflow.keras.models import Sequential,Model\n",
        "from tensorflow.keras.preprocessing import image\n",
        "from tensorflow.keras.models import Model\n",
        "from tensorflow.keras.layers import Dense, GlobalAveragePooling2D, Flatten\n",
        "from tensorflow.keras import backend as K\n",
        "\n",
        "base_model = VGG16(input_shape=(192,192,3),\n",
        "                                               include_top=False, # Drops fully connected layers and output layer structure from pretrained model.\n",
        "                                               weights='imagenet') # Using weight from model trained to 1000 categories of imagenet competition\n",
        "base_model.summary()"
      ],
      "metadata": {
        "colab": {
          "base_uri": "https://localhost:8080/"
        },
        "id": "_N3tsR_atT16",
        "outputId": "6ec88e30-37f0-4570-cb6f-202f2814af5d"
      },
      "execution_count": null,
      "outputs": [
        {
          "output_type": "stream",
          "name": "stdout",
          "text": [
            "Model: \"vgg16\"\n",
            "_________________________________________________________________\n",
            " Layer (type)                Output Shape              Param #   \n",
            "=================================================================\n",
            " input_4 (InputLayer)        [(None, 192, 192, 3)]     0         \n",
            "                                                                 \n",
            " block1_conv1 (Conv2D)       (None, 192, 192, 64)      1792      \n",
            "                                                                 \n",
            " block1_conv2 (Conv2D)       (None, 192, 192, 64)      36928     \n",
            "                                                                 \n",
            " block1_pool (MaxPooling2D)  (None, 96, 96, 64)        0         \n",
            "                                                                 \n",
            " block2_conv1 (Conv2D)       (None, 96, 96, 128)       73856     \n",
            "                                                                 \n",
            " block2_conv2 (Conv2D)       (None, 96, 96, 128)       147584    \n",
            "                                                                 \n",
            " block2_pool (MaxPooling2D)  (None, 48, 48, 128)       0         \n",
            "                                                                 \n",
            " block3_conv1 (Conv2D)       (None, 48, 48, 256)       295168    \n",
            "                                                                 \n",
            " block3_conv2 (Conv2D)       (None, 48, 48, 256)       590080    \n",
            "                                                                 \n",
            " block3_conv3 (Conv2D)       (None, 48, 48, 256)       590080    \n",
            "                                                                 \n",
            " block3_pool (MaxPooling2D)  (None, 24, 24, 256)       0         \n",
            "                                                                 \n",
            " block4_conv1 (Conv2D)       (None, 24, 24, 512)       1180160   \n",
            "                                                                 \n",
            " block4_conv2 (Conv2D)       (None, 24, 24, 512)       2359808   \n",
            "                                                                 \n",
            " block4_conv3 (Conv2D)       (None, 24, 24, 512)       2359808   \n",
            "                                                                 \n",
            " block4_pool (MaxPooling2D)  (None, 12, 12, 512)       0         \n",
            "                                                                 \n",
            " block5_conv1 (Conv2D)       (None, 12, 12, 512)       2359808   \n",
            "                                                                 \n",
            " block5_conv2 (Conv2D)       (None, 12, 12, 512)       2359808   \n",
            "                                                                 \n",
            " block5_conv3 (Conv2D)       (None, 12, 12, 512)       2359808   \n",
            "                                                                 \n",
            " block5_pool (MaxPooling2D)  (None, 6, 6, 512)         0         \n",
            "                                                                 \n",
            "=================================================================\n",
            "Total params: 14,714,688\n",
            "Trainable params: 14,714,688\n",
            "Non-trainable params: 0\n",
            "_________________________________________________________________\n"
          ]
        }
      ]
    },
    {
      "cell_type": "code",
      "source": [
        "IMG_SHAPE = (192, 192, 3)\n",
        "conv_base = InceptionV3(input_shape=IMG_SHAPE, include_top=False, weights='imagenet')\n",
        "freeze_layers_after=10\n",
        "for layer in conv_base.layers[freeze_layers_after:]:\n",
        "  layer.trainable =  False\n",
        "\n",
        "with tf.device('/device:GPU:0'): #\"/GPU:0\": Short-hand notation for the first GPU of your machine that is visible to TensorFlow.\n",
        "\n",
        "      vgg_model = Sequential()\n",
        "      vgg_model.add(conv_base)\n",
        "      vgg_model.add(GlobalAveragePooling2D())\n",
        "      vgg_model.add(Dense(120, activation='relu'))\n",
        "      vgg_model.add(Dropout(0.2))\n",
        "      vgg_model.add(Dense(60, activation='relu'))\n",
        "      vgg_model.add(Dense(30, activation='relu'))\n",
        "      vgg_model.add(Flatten())\n",
        "      vgg_model.add(Dense(3, activation='softmax')) \n",
        "\n",
        "      vgg_model.compile(loss='categorical_crossentropy', optimizer='adam', metrics=['acc']) \n",
        "      vgg_model.fit(X_train, y_train,\n",
        "          epochs = 3 , verbose=1,validation_data=(X_test,y_test))"
      ],
      "metadata": {
        "colab": {
          "base_uri": "https://localhost:8080/"
        },
        "id": "DOyxN4LGAWC9",
        "outputId": "5b88295a-b106-4fdc-fa9f-6c76f2e759fd"
      },
      "execution_count": null,
      "outputs": [
        {
          "output_type": "stream",
          "name": "stdout",
          "text": [
            "Epoch 1/3\n",
            "98/98 [==============================] - 902s 9s/step - loss: 0.3977 - acc: 0.8346 - val_loss: 0.5168 - val_acc: 0.8213\n",
            "Epoch 2/3\n",
            "98/98 [==============================] - 871s 9s/step - loss: 0.2000 - acc: 0.9353 - val_loss: 0.3740 - val_acc: 0.8689\n",
            "Epoch 3/3\n",
            "98/98 [==============================] - 866s 9s/step - loss: 0.1688 - acc: 0.9418 - val_loss: 0.3664 - val_acc: 0.8599\n"
          ]
        }
      ]
    },
    {
      "cell_type": "code",
      "source": [
        "## summarize\n",
        "vgg_model.summary()"
      ],
      "metadata": {
        "colab": {
          "base_uri": "https://localhost:8080/"
        },
        "id": "qwu7SLeiHCHL",
        "outputId": "c8c4371b-3eb0-4098-83dd-b6738411d34c"
      },
      "execution_count": null,
      "outputs": [
        {
          "output_type": "stream",
          "name": "stdout",
          "text": [
            "Model: \"sequential_2\"\n",
            "_________________________________________________________________\n",
            " Layer (type)                Output Shape              Param #   \n",
            "=================================================================\n",
            " inception_v3 (Functional)   (None, 4, 4, 2048)        21802784  \n",
            "                                                                 \n",
            " global_average_pooling2d_2   (None, 2048)             0         \n",
            " (GlobalAveragePooling2D)                                        \n",
            "                                                                 \n",
            " dense_10 (Dense)            (None, 120)               245880    \n",
            "                                                                 \n",
            " dropout_2 (Dropout)         (None, 120)               0         \n",
            "                                                                 \n",
            " dense_11 (Dense)            (None, 60)                7260      \n",
            "                                                                 \n",
            " dense_12 (Dense)            (None, 30)                1830      \n",
            "                                                                 \n",
            " flatten_3 (Flatten)         (None, 30)                0         \n",
            "                                                                 \n",
            " dense_13 (Dense)            (None, 3)                 93        \n",
            "                                                                 \n",
            "=================================================================\n",
            "Total params: 22,057,847\n",
            "Trainable params: 283,703\n",
            "Non-trainable params: 21,774,144\n",
            "_________________________________________________________________\n"
          ]
        }
      ]
    },
    {
      "cell_type": "markdown",
      "source": [
        "Accuracy: .9418 Val Accuracy: .8599"
      ],
      "metadata": {
        "id": "S5do1sW2c4Rf"
      }
    },
    {
      "cell_type": "markdown",
      "source": [
        "###4. Discuss which models performed better and point out relevant hyper-parameter values for successful models.\n",
        "\n",
        "Out of all of the models I ran, the best peforming model for me was the VGG16. It is a sequential model using the keras framework. This model achieved a val accuracy of .8599 which was higher than the VGG19 and CNN models. Firstly, for the VGG16 model, I decided to change the number of epochs to 3. The reason I originally chose 1 for the other models was because how long it took to run the models with more than 1 epoch. VGG16 with 3 epochs took me approximately 50 minutes to run. The amount of epochs indicates how many times the algorithm is training on the whole dataset. The number of iterations are the number of batches required to complete each epoch. Although increasing the epoch does seem to improve the val accuracy of the model, using too many epochs may cause your model to over-fit the training data. The batch size for each epoch in this model is 98. To speed up the training speed, I also set trainable = False to freeze after layer 10. I also include a dropout layer (0.2) so remove some of the nodes so that the neural network is not too heavy when running the model. \n",
        "\n",
        "\n"
      ],
      "metadata": {
        "id": "qeHsQhIuHFZr"
      }
    },
    {
      "cell_type": "markdown",
      "source": [
        "###5. Submit your best model to the leader board for the COVID Image Classification Hackathon competition."
      ],
      "metadata": {
        "id": "zYXeIg4mHMPa"
      }
    },
    {
      "cell_type": "code",
      "source": [
        "import aimodelshare as ai\n",
        "ai.export_preprocessor(preprocessor,\"\") "
      ],
      "metadata": {
        "colab": {
          "base_uri": "https://localhost:8080/"
        },
        "id": "eltdgNMhRPFb",
        "outputId": "ea4018da-9a77-4dcd-aaa6-d9720ae2042d"
      },
      "execution_count": null,
      "outputs": [
        {
          "output_type": "stream",
          "name": "stdout",
          "text": [
            "Your preprocessor is now saved to 'preprocessor.zip'\n"
          ]
        }
      ]
    },
    {
      "cell_type": "code",
      "source": [
        "#Instantiate Competition \n",
        "mycompetition= ai.Competition(\"https://79ei37u6vf.execute-api.us-east-1.amazonaws.com/prod/m\")"
      ],
      "metadata": {
        "id": "2qHUxbzAV5ua"
      },
      "execution_count": null,
      "outputs": []
    },
    {
      "cell_type": "code",
      "source": [
        "#Authorized users can submit new models after setting credentials using modelshare.org username/password\n",
        "\n",
        "apiurl=\"https://79ei37u6vf.execute-api.us-east-1.amazonaws.com/prod/m\" # example url from deployed playground: apiurl= \"https://123456.execute-api.us-east-1.amazonaws.com/prod/m\n",
        "\n",
        "import aimodelshare\n",
        "aimodelshare.aws.set_credentials(apiurl=apiurl)"
      ],
      "metadata": {
        "colab": {
          "base_uri": "https://localhost:8080/"
        },
        "id": "AFBn1LDYWCe5",
        "outputId": "368e48b0-2db9-4e40-cba9-f667d0419d43"
      },
      "execution_count": null,
      "outputs": [
        {
          "output_type": "stream",
          "name": "stdout",
          "text": [
            "AI Modelshare Username:··········\n",
            "AI Modelshare Password:··········\n",
            "AI Model Share login credentials set successfully.\n"
          ]
        }
      ]
    },
    {
      "cell_type": "code",
      "source": [
        "# Save Model to .onnx file\n",
        "from aimodelshare.aimsonnx import model_to_onnx\n",
        "\n",
        "# Save tf.keras model to ONNX file\n",
        "onnx_model = model_to_onnx(vgg_model, framework='keras',\n",
        "                          transfer_learning=True,\n",
        "                          deep_learning=True)\n",
        "\n",
        "# Save model to local .onnx file\n",
        "with open(\"model.onnx\", \"wb\") as f:\n",
        "    f.write(onnx_model.SerializeToString()) "
      ],
      "metadata": {
        "id": "7YK06Sn6WC75"
      },
      "execution_count": null,
      "outputs": []
    },
    {
      "cell_type": "code",
      "source": [
        "# using predict_classes() for multi-class data to return predicted class index.\n",
        "\n",
        "def predict_classes(x): # adjusted from keras github code\n",
        "  proba=x\n",
        "  if proba.shape[-1] > 1:\n",
        "      return proba.argmax(axis=-1)\n",
        "  else:\n",
        "      return (proba > 0.5).astype(\"int32\")\n",
        "\n",
        "print(predict_classes(vgg_model.predict(X_test)))\n",
        "\n",
        "prediction_index=predict_classes(vgg_model.predict(X_test))\n",
        "\n",
        "#Now lets run some code to get keras to return the label rather than the index...\n",
        "\n",
        "# get labels from one hot encoded y_train data\n",
        "labels=pd.get_dummies(y_train).columns\n",
        "\n",
        "# Iterate through all predicted indices using map method\n",
        "prediction_labels=list(map(lambda x: labels[x], prediction_index))"
      ],
      "metadata": {
        "colab": {
          "base_uri": "https://localhost:8080/"
        },
        "id": "hSMqxpNvXHj7",
        "outputId": "dd11d840-037b-4c82-c25b-1fa05511ae56"
      },
      "execution_count": null,
      "outputs": [
        {
          "output_type": "stream",
          "name": "stdout",
          "text": [
            "[1 1 0 1 2 0 1 0 1 0 1 1 0 2 0 0 0 2 1 2 2 2 1 0 2 0 1 2 1 2 2 0 1 1 0 0 0\n",
            " 1 0 2 0 0 2 0 1 1 0 0 2 1 2 0 2 1 1 1 1 0 1 1 1 0 0 1 1 1 2 1 2 1 1 2 0 0\n",
            " 1 1 1 1 0 1 0 1 2 1 0 0 1 0 0 1 1 1 2 2 0 0 0 1 2 0 1 0 0 1 2 2 0 0 0 0 0\n",
            " 0 0 2 2 2 0 2 1 2 1 1 2 1 0 2 0 0 0 1 1 2 1 0 0 0 2 0 1 0 0 1 2 2 1 0 0 0\n",
            " 1 1 2 1 1 1 0 1 0 0 2 1 2 0 0 0 2 2 1 0 0 0 2 1 1 0 0 0 0 2 0 2 2 0 1 1 0\n",
            " 2 0 2 1 1 1 0 0 2 1 1 1 1 1 2 0 2 0 1 0 1 0 2 1 1 1 2 0 0 1 0 1 1 2 2 2 0\n",
            " 2 2 2 0 2 1 2 1 1 1 0 1 1 1 1 1 0 1 1 1 0 2 2 0 2 0 1 1 0 2 1 0 0 2 2 0 2\n",
            " 0 2 0 1 0 1 1 1 1 1 1 0 0 0 2 2 2 1 2 0 0 1 0 0 2 0 0 0 0 0 2 0 1 0 2 1 2\n",
            " 0 0 1 0 0 1 2 2 1 2 0 0 1 0 0 1 2 0 1 0 1 2 0 2 1 2 1 0 2 1 2 2 1 1 0 1 0\n",
            " 1 0 2 2 1 0 2 2 0 0 2 0 2 0 0 2 2 0 1 2 0 1 0 2 2 1 0 0 0 1 0 1 0 0 0 1 0\n",
            " 0 1 0 2 1 2 2 1 2 0 1 1 1 0 0 2 1 0 0 0 2 0 2 1 1 1 2 0 0 2 2 2 0 1 0 0 2\n",
            " 2 0 2 0 1 1 2 0 2 2 0 1 0 0 0 0 1 1 1 1 1 1 1 0 0 1 1 2 1 0 0 2 2 0 2 2 2\n",
            " 1 0 0 0 0 2 1 1 0 2 2 2 1 2 1 2 1 1 1 0 1 2 0 2 0 1 0 2 0 2 2 0 2 0 1 2 2\n",
            " 1 1 1 1 1 0 1 0 0 1 0 2 1 2 1 2 2 1 0 0 1 1 0 2 0 0 1 2 2 1 2 1 1 1 1 2 0\n",
            " 1 0 0 1 1 1 0 2 1 0 1 1 2 0 1 0 2 1 0 0 1 0 2 2 2 2 0 0 2 1 2 0 0 2 2 0 1\n",
            " 1 0 0 0 0 1 0 2 2 2 1 0 1 2 1 2 0 0 0 0 1 0 1 2 0 1 1 1 0 0 0 0 1 1 1 2 0\n",
            " 1 0 1 1 0 1 2 2 0 0 0 0 1 0 1 2 1 2 2 2 1 2 1 1 1 0 0 2 1 0 1 0 2 1 1 0 1\n",
            " 0 0 1 0 2 0 1 2 1 1 1 2 0 1 1 1 1 0 0 1 0 1 2 0 0 2 0 2 1 0 1 1 0 0 0 0 1\n",
            " 0 1 1 0 0 1 1 0 0 2 0 2 2 0 0 0 0 1 1 0 1 2 1 0 0 0 0 0 1 2 0 1 1 1 2 1 2\n",
            " 0 0 1 0 2 0 1 1 2 1 0 0 0 1 1 0 1 1 0 0 1 0 0 1 0 2 0 0 0 1 2 0 1 0 1 0 0\n",
            " 0 0 1 2 0 0 0 0 1 1 1 2 0 2 0 1 0 1 2 0 0 1 1 0 0 1 0 0 1 1 2 1 2 2 2 1 0\n",
            " 2]\n"
          ]
        }
      ]
    },
    {
      "cell_type": "code",
      "source": [
        "# Submit Best Model to Competition Leaderboard\n",
        "mycompetition.submit_model(model_filepath = \"model.onnx\",\n",
        "                                 preprocessor_filepath=\"preprocessor.zip\",\n",
        "                                 prediction_submission=prediction_labels)"
      ],
      "metadata": {
        "colab": {
          "base_uri": "https://localhost:8080/"
        },
        "id": "eUj5JzSmWP0i",
        "outputId": "c903abf9-5525-4cd0-e3e1-ee36eeba7ec3"
      },
      "execution_count": null,
      "outputs": [
        {
          "output_type": "stream",
          "name": "stdout",
          "text": [
            "Insert search tags to help users find your model (optional): vgg16\n",
            "Provide any useful notes about your model (optional): vgg16\n",
            "\n",
            "Your model has been submitted as model version 129\n",
            "\n",
            "To submit code used to create this model or to view current leaderboard navigate to Model Playground: \n",
            "\n",
            " https://www.modelshare.org/detail/model:1539\n"
          ]
        }
      ]
    },
    {
      "cell_type": "markdown",
      "source": [
        "Submitted best model: VGG16 (model 129)"
      ],
      "metadata": {
        "id": "zNDvTuwKXxQI"
      }
    },
    {
      "cell_type": "markdown",
      "source": [
        "###6.  Import the best model from the leader board (whatever the best model is after your final submission) \n",
        "Note:\n",
        "* Use the aimodelshare instantiate_model() function\n",
        "* Visualize the model's structure using tf.keras model.summary()\n",
        "* Explain how the model's structure is different from your best model.\n",
        "* Explain how the model's optimization approach is different from your best model\n",
        "* Fit the best model from the leader board to training data and evaluate it on test data to complete your report."
      ],
      "metadata": {
        "id": "HWoIwC5dHN4N"
      }
    },
    {
      "cell_type": "code",
      "source": [
        "#Instantiate Competition \n",
        "mycompetition= ai.Competition(\"https://79ei37u6vf.execute-api.us-east-1.amazonaws.com/prod/m\")\n",
        "best_model = mycompetition.instantiate_model(100) ## could not load other best models so went with version 100\n",
        "best_model.summary()"
      ],
      "metadata": {
        "id": "yTpuzgI1Btsy",
        "colab": {
          "base_uri": "https://localhost:8080/"
        },
        "outputId": "2861b91b-3f1d-411d-f8b5-ef9c72e0b5ac"
      },
      "execution_count": 19,
      "outputs": [
        {
          "output_type": "stream",
          "name": "stdout",
          "text": [
            "Instantiate the model from metadata..\n",
            "Your model is successfully instantiated.\n",
            "Model: \"sequential\"\n",
            "_________________________________________________________________\n",
            " Layer (type)                Output Shape              Param #   \n",
            "=================================================================\n",
            " conv2d (Conv2D)             (None, 192, 192, 32)      896       \n",
            "                                                                 \n",
            " conv2d_1 (Conv2D)           (None, 192, 192, 32)      1056      \n",
            "                                                                 \n",
            " max_pooling2d (MaxPooling2D  (None, 96, 96, 32)       0         \n",
            " )                                                               \n",
            "                                                                 \n",
            " conv2d_2 (Conv2D)           (None, 96, 96, 64)        18496     \n",
            "                                                                 \n",
            " conv2d_3 (Conv2D)           (None, 96, 96, 64)        4160      \n",
            "                                                                 \n",
            " max_pooling2d_1 (MaxPooling  (None, 48, 48, 64)       0         \n",
            " 2D)                                                             \n",
            "                                                                 \n",
            " conv2d_4 (Conv2D)           (None, 48, 48, 128)       73856     \n",
            "                                                                 \n",
            " conv2d_5 (Conv2D)           (None, 48, 48, 128)       16512     \n",
            "                                                                 \n",
            " max_pooling2d_2 (MaxPooling  (None, 24, 24, 128)      0         \n",
            " 2D)                                                             \n",
            "                                                                 \n",
            " conv2d_6 (Conv2D)           (None, 24, 24, 512)       590336    \n",
            "                                                                 \n",
            " conv2d_7 (Conv2D)           (None, 24, 24, 512)       262656    \n",
            "                                                                 \n",
            " flatten (Flatten)           (None, 294912)            0         \n",
            "                                                                 \n",
            " dense (Dense)               (None, 3)                 884739    \n",
            "                                                                 \n",
            "=================================================================\n",
            "Total params: 1,852,707\n",
            "Trainable params: 1,852,707\n",
            "Non-trainable params: 0\n",
            "_________________________________________________________________\n"
          ]
        }
      ]
    },
    {
      "cell_type": "markdown",
      "source": [
        "The best model I pulled has a depth of 13 layers while mine has a depth of 7. They both use a keras framework and are deep learning models. However, the best model does not use transfer learning while my VGG16 model does. The best model uses 1,852,707 trainable paramters while mine only uses 255,063. \n",
        "\n",
        "Both of the models use the same optimizer approach, Adam. This optimizer is typically faster to converge and has a faster computation time in comparison to SGD. It also requires fewer paramters for tuning."
      ],
      "metadata": {
        "id": "OT9wjGHbzX2l"
      }
    },
    {
      "cell_type": "code",
      "source": [
        "best_model.compile(\n",
        "    optimizer=\"adam\", # to use callback set lr arg such as Adam(lr=0.001) instead\n",
        "    loss= 'categorical_crossentropy',\n",
        "    metrics=['accuracy'])\n",
        "\n",
        "best_model.fit(X_train, y_train, \n",
        "                    epochs = 1, verbose=1,validation_data=(X_test,y_test))"
      ],
      "metadata": {
        "colab": {
          "base_uri": "https://localhost:8080/"
        },
        "id": "qSemIkWRyLgd",
        "outputId": "df8dcfc7-f235-49e8-fe79-07887b495dcb"
      },
      "execution_count": 27,
      "outputs": [
        {
          "output_type": "stream",
          "name": "stdout",
          "text": [
            "98/98 [==============================] - 516s 5s/step - loss: 0.4805 - accuracy: 0.7960 - val_loss: 0.2323 - val_accuracy: 0.9100\n"
          ]
        },
        {
          "output_type": "execute_result",
          "data": {
            "text/plain": [
              "<keras.callbacks.History at 0x7f9ea8a89e90>"
            ]
          },
          "metadata": {},
          "execution_count": 27
        }
      ]
    },
    {
      "cell_type": "markdown",
      "source": [
        "Val accuracy: .9100"
      ],
      "metadata": {
        "id": "vYlZEOJn2n0v"
      }
    }
  ]
}